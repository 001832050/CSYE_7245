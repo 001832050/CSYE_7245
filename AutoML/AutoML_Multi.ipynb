{
 "cells": [
  {
   "cell_type": "markdown",
   "metadata": {},
   "source": [
    "## Starter Code for Assignment 2 - Big Data with H2O\n",
    "\n",
    "**Multiclass Classification**\n",
    "\n",
    "Here is some starter code for Assignment 2 - Big Data with H2O.   You will still need to extend this code somewhat.  \n",
    "\n",
    "\n",
    "[H2O Docs](http://docs.h2o.ai/h2o/latest-stable/h2o-docs/index.html)  \n",
    "[http://docs.h2o.ai/h2o/latest-stable/h2o-docs/index.html](http://docs.h2o.ai/h2o/latest-stable/h2o-docs/index.html)  "
   ]
  },
  {
   "cell_type": "code",
   "execution_count": 1,
   "metadata": {
    "collapsed": true
   },
   "outputs": [],
   "source": [
    "import h2o\n",
    "from h2o.automl import H2OAutoML\n",
    "import random, os, sys\n",
    "from datetime import datetime\n",
    "import pandas as pd\n",
    "import logging\n",
    "import csv\n",
    "import optparse\n",
    "import time\n",
    "import json\n",
    "from distutils.util import strtobool"
   ]
  },
  {
   "cell_type": "markdown",
   "metadata": {},
   "source": [
    "Set up some parameters for the analysis.  "
   ]
  },
  {
   "cell_type": "code",
   "execution_count": 2,
   "metadata": {
    "collapsed": true
   },
   "outputs": [],
   "source": [
    "data_path=None\n",
    "all_variables=None\n",
    "test_path=None\n",
    "target=None\n",
    "nthreads=1 \n",
    "min_mem_size=6 \n",
    "run_time=333\n",
    "classification=False\n",
    "scale=False\n",
    "max_models=9    \n",
    "model_path=None\n",
    "balance_y=False \n",
    "balance_threshold=0.2\n",
    "name=None \n",
    "server_path=None  \n",
    "analysis=0 "
   ]
  },
  {
   "cell_type": "markdown",
   "metadata": {},
   "source": [
    "The next sections contains helper functions for automating analysis.             "
   ]
  },
  {
   "cell_type": "code",
   "execution_count": 3,
   "metadata": {
    "collapsed": true
   },
   "outputs": [],
   "source": [
    "# Functions\n",
    "\n",
    "def alphabet(n):\n",
    "  alpha='0123456789abcdefghijklmnopqrstuvwxyzABCDEFGHIJKLMNOPQRSTUVWXYZ'    \n",
    "  str=''\n",
    "  r=len(alpha)-1   \n",
    "  while len(str)<n:\n",
    "    i=random.randint(0,r)\n",
    "    str+=alpha[i]   \n",
    "  return str\n",
    "  \n",
    "  \n",
    "def set_meta_data(run_id,analysis,target,run_time,classification,scale,model,balance,balance_threshold,name,nthreads,min_mem_size):\n",
    "  m_data={}\n",
    "  m_data['run_id'] =run_id\n",
    "  m_data['start_time'] = time.time()\n",
    "  m_data['target']=target\n",
    "  m_data['max_models']=model\n",
    "  m_data['run_time']=run_time\n",
    "  m_data['scale']=scale\n",
    "  m_data['classification']=classification\n",
    "  m_data['scale']=False\n",
    "  m_data['balance']=balance\n",
    "  m_data['balance_threshold']=balance_threshold\n",
    "  m_data['project'] =name\n",
    "  m_data['end_time'] = time.time()\n",
    "  m_data['execution_time'] = 0.0\n",
    "  m_data['nthreads'] = nthreads\n",
    "  m_data['min_mem_size'] = min_mem_size\n",
    "  m_data['analysis'] = analysis\n",
    "  return m_data\n",
    "\n",
    "\n",
    "def dict_to_json(dct,n):\n",
    "  j = json.dumps(dct, indent=4)\n",
    "  f = open(n, 'w')\n",
    "  print(j, file=f)\n",
    "  f.close()\n",
    "  \n",
    "  \n",
    "def stackedensemble(mod):\n",
    "    coef_norm=None\n",
    "    try:\n",
    "      metalearner = h2o.get_model(mod.metalearner()['name'])\n",
    "      coef_norm=metalearner.coef_norm()\n",
    "    except:\n",
    "      pass        \n",
    "    return coef_norm\n",
    "\n",
    "def stackedensemble_df(df):\n",
    "    bm_algo={ 'GBM': None,'GLM': None,'DRF': None,'XRT': None,'Dee': None}\n",
    "    for index, row in df.iterrows():\n",
    "      if len(row['model_id'])>3:\n",
    "        key=row['model_id'][0:3]\n",
    "        if key in bm_algo:\n",
    "          if bm_algo[key] is None:\n",
    "                bm_algo[key]=row['model_id']\n",
    "    bm=list(bm_algo.values()) \n",
    "    bm=list(filter(None.__ne__, bm))             \n",
    "    return bm\n",
    "\n",
    "def se_stats(modl):\n",
    "    d={}\n",
    "    d['algo']=modl.algo\n",
    "    d['model_id']=modl.model_id   \n",
    "    d['auc']=modl.auc()   \n",
    "    d['roc']=modl.roc()\n",
    "    d['mse']=modl.mse()   \n",
    "    d['null_degrees_of_freedom']=modl.null_degrees_of_freedom()\n",
    "    d['null_deviance']=modl.null_deviance()\n",
    "    d['residual_degrees_of_freedom']=modl.residual_degrees_of_freedom()   \n",
    "    d['residual_deviance']=modl.residual_deviance()\n",
    "    d['rmse']=modl.rmse()\n",
    "    return d\n",
    "\n",
    "def get_model_by_algo(algo,models_dict):\n",
    "    mod=None\n",
    "    mod_id=None    \n",
    "    for m in list(models_dict.keys()):\n",
    "        if m[0:3]==algo:\n",
    "            mod_id=m\n",
    "            mod=h2o.get_model(m)      \n",
    "    return mod,mod_id     \n",
    "    \n",
    "    \n",
    "def gbm_stats(modl):\n",
    "    d={}\n",
    "    d['algo']=modl.algo\n",
    "    d['model_id']=modl.model_id   \n",
    "    d['varimp']=modl.varimp()  \n",
    "    return d\n",
    "    \n",
    "    \n",
    "def dl_stats(modl):\n",
    "    d={}\n",
    "    d['algo']=modl.algo\n",
    "    d['model_id']=modl.model_id   \n",
    "    d['varimp']=modl.varimp()  \n",
    "    return d\n",
    "    \n",
    "    \n",
    "def drf_stats(modl):\n",
    "    d={}\n",
    "    d['algo']=modl.algo\n",
    "    d['model_id']=modl.model_id   \n",
    "    d['varimp']=modl.varimp()  \n",
    "    d['roc']=modl.roc()      \n",
    "    return d\n",
    "    \n",
    "def xrt_stats(modl):\n",
    "    d={}\n",
    "    d['algo']=modl.algo\n",
    "    d['model_id']=modl.model_id   \n",
    "    d['varimp']=modl.varimp()  \n",
    "    d['roc']=modl.roc()      \n",
    "    return d\n",
    "    \n",
    "    \n",
    "def glm_stats(modl):\n",
    "    d={}\n",
    "    d['algo']=modl.algo\n",
    "    d['model_id']=modl.model_id   \n",
    "    d['coef']=modl.coef()  \n",
    "    d['coef_norm']=modl.coef_norm()      \n",
    "    return d\n",
    "    \n",
    "def model_performance_stats(perf):\n",
    "    d={}\n",
    "    try:    \n",
    "      d['mse']=perf.mse()\n",
    "    except:\n",
    "      pass      \n",
    "    try:    \n",
    "      d['rmse']=perf.rmse() \n",
    "    except:\n",
    "      pass      \n",
    "    try:    \n",
    "      d['null_degrees_of_freedom']=perf.null_degrees_of_freedom()\n",
    "    except:\n",
    "      pass      \n",
    "    try:    \n",
    "      d['residual_degrees_of_freedom']=perf.residual_degrees_of_freedom()\n",
    "    except:\n",
    "      pass      \n",
    "    try:    \n",
    "      d['residual_deviance']=perf.residual_deviance() \n",
    "    except:\n",
    "      pass      \n",
    "    try:    \n",
    "      d['null_deviance']=perf.null_deviance() \n",
    "    except:\n",
    "      pass      \n",
    "    try:    \n",
    "      d['aic']=perf.aic() \n",
    "    except:\n",
    "      pass      \n",
    "    try:\n",
    "      d['logloss']=perf.logloss() \n",
    "    except:\n",
    "      pass    \n",
    "    try:\n",
    "      d['auc']=perf.auc()\n",
    "    except:\n",
    "      pass  \n",
    "    try:\n",
    "      d['gini']=perf.gini()\n",
    "    except:\n",
    "      pass    \n",
    "    return d\n",
    "    \n",
    "def impute_missing_values(df, x, scal=False):\n",
    "    # determine column types\n",
    "    ints, reals, enums = [], [], []\n",
    "    for key, val in df.types.items():\n",
    "        if key in x:\n",
    "            if val == 'enum':\n",
    "                enums.append(key)\n",
    "            elif val == 'int':\n",
    "                ints.append(key)            \n",
    "            else: \n",
    "                reals.append(key)    \n",
    "    _ = df[reals].impute(method='mean')\n",
    "    _ = df[ints].impute(method='median')\n",
    "    if scal:\n",
    "        df[reals] = df[reals].scale()\n",
    "        df[ints] = df[ints].scale()    \n",
    "    return\n",
    "\n",
    "\n",
    "def get_independent_variables(df, targ):\n",
    "    C = [name for name in df.columns if name != targ]\n",
    "    # determine column types\n",
    "    ints, reals, enums = [], [], []\n",
    "    for key, val in df.types.items():\n",
    "        if key in C:\n",
    "            if val == 'enum':\n",
    "                enums.append(key)\n",
    "            elif val == 'int':\n",
    "                ints.append(key)            \n",
    "            else: \n",
    "                reals.append(key)    \n",
    "    x=ints+enums+reals\n",
    "    return x\n",
    "    \n",
    "def get_all_variables_csv(i):\n",
    "    ivd={}\n",
    "    try:\n",
    "      iv = pd.read_csv(i,header=None)\n",
    "    except:\n",
    "      sys.exit(1)    \n",
    "    col=iv.values.tolist()[0]\n",
    "    dt=iv.values.tolist()[1]\n",
    "    i=0\n",
    "    for c in col:\n",
    "      ivd[c.strip()]=dt[i].strip()\n",
    "      i+=1        \n",
    "    return ivd\n",
    "    \n",
    "    \n",
    "\n",
    "def check_all_variables(df,dct,y=None):     \n",
    "    targ=list(dct.keys())     \n",
    "    for key, val in df.types.items():\n",
    "        if key in targ:\n",
    "          if dct[key] not in ['real','int','enum']:                      \n",
    "            targ.remove(key)  \n",
    "    for key, val in df.types.items():\n",
    "        if key in targ:            \n",
    "          if dct[key] != val:\n",
    "            print('convert ',key,' ',dct[key],' ',val)\n",
    "            if dct[key]=='enum':\n",
    "                try:\n",
    "                  df[key] = df[key].asfactor() \n",
    "                except:\n",
    "                  targ.remove(key)                 \n",
    "            if dct[key]=='int': \n",
    "                try:                \n",
    "                  df[key] = df[key].asnumeric() \n",
    "                except:\n",
    "                  targ.remove(key)                  \n",
    "            if dct[key]=='real':\n",
    "                try:                \n",
    "                  df[key] = df[key].asnumeric()  \n",
    "                except:\n",
    "                  targ.remove(key)                  \n",
    "    if y is None:\n",
    "      y=df.columns[-1] \n",
    "    if y in targ:\n",
    "      targ.remove(y)\n",
    "    else:\n",
    "      y=targ.pop()            \n",
    "    return targ    \n",
    "    \n",
    "def predictions(mod,data,run_id):\n",
    "    test = h2o.import_file(data)\n",
    "    mod_perf=mod_best.model_performance(test)\n",
    "              \n",
    "    stats_test={}\n",
    "    stats_test=model_performance_stats(mod_perf)\n",
    "\n",
    "    n=run_id+'_test_stats.json'\n",
    "    dict_to_json(stats_test,n) \n",
    "\n",
    "    try:    \n",
    "      cf=mod_perf.confusion_matrix(metrics=[\"f1\",\"f2\",\"f0point5\",\"accuracy\",\"precision\",\"recall\",\"specificity\",\"absolute_mcc\",\"min_per_class_accuracy\",\"mean_per_class_accuracy\"])\n",
    "      cf_df=cf[0].table.as_data_frame()\n",
    "      cf_df.to_csv(run_id+'_test_confusion_matrix.csv')\n",
    "    except:\n",
    "      pass\n",
    "\n",
    "    predictions = mod_best.predict(test)\n",
    "    predictions_df=test.cbind(predictions).as_data_frame() \n",
    "    predictions_df.to_csv(run_id+'_predictions.csv')\n",
    "    return\n",
    "\n",
    "def predictions_test(mod,test,run_id):\n",
    "    mod_perf=mod_best.model_performance(test)          \n",
    "    stats_test={}\n",
    "    stats_test=model_performance_stats(mod_perf)\n",
    "    n=run_id+'_test_stats.json'\n",
    "    dict_to_json(stats_test,n) \n",
    "    try:\n",
    "      cf=mod_perf.confusion_matrix(metrics=[\"f1\",\"f2\",\"f0point5\",\"accuracy\",\"precision\",\"recall\",\"specificity\",\"absolute_mcc\",\"min_per_class_accuracy\",\"mean_per_class_accuracy\"])\n",
    "      cf_df=cf[0].table.as_data_frame()\n",
    "      cf_df.to_csv(run_id+'_test_confusion_matrix.csv')\n",
    "    except:\n",
    "      pass\n",
    "    predictions = mod_best.predict(test)    \n",
    "    predictions_df=test.cbind(predictions).as_data_frame() \n",
    "    predictions_df.to_csv(run_id+'_predictions.csv')\n",
    "    return predictions\n",
    "\n",
    "def check_X(x,df):\n",
    "    for name in x:\n",
    "        if name not in df.columns:\n",
    "          x.remove(name)  \n",
    "    return x    \n",
    "    \n",
    "    \n",
    "def get_stacked_ensemble(lst):\n",
    "    se=None\n",
    "    for model in model_set:\n",
    "      if 'BestOfFamily' in model:\n",
    "        se=model\n",
    "    if se is None:     \n",
    "      for model in model_set:\n",
    "        if 'AllModels'in model:\n",
    "          se=model           \n",
    "    return se       \n",
    "    \n",
    "def get_variables_types(df):\n",
    "    d={}\n",
    "    for key, val in df.types.items():\n",
    "        d[key]=val           \n",
    "    return d    \n",
    "    \n",
    "#  End Functions"
   ]
  },
  {
   "cell_type": "code",
   "execution_count": 4,
   "metadata": {
    "collapsed": true
   },
   "outputs": [],
   "source": [
    "data_path='data/multiclass_iris_flowers.csv'"
   ]
  },
  {
   "cell_type": "code",
   "execution_count": 5,
   "metadata": {
    "collapsed": true
   },
   "outputs": [],
   "source": [
    "data_path = os.path.join(os.path.abspath(os.curdir),data_path)"
   ]
  },
  {
   "cell_type": "code",
   "execution_count": 6,
   "metadata": {
    "collapsed": true
   },
   "outputs": [],
   "source": [
    "all_variables=None"
   ]
  },
  {
   "cell_type": "code",
   "execution_count": 7,
   "metadata": {},
   "outputs": [
    {
     "name": "stdout",
     "output_type": "stream",
     "text": [
      "7jPMYu5Da\n"
     ]
    }
   ],
   "source": [
    "run_id=alphabet(9)\n",
    "# run_id to std out\n",
    "print (run_id) "
   ]
  },
  {
   "cell_type": "code",
   "execution_count": 8,
   "metadata": {
    "collapsed": true
   },
   "outputs": [],
   "source": [
    "server_path=os.path.abspath(os.curdir)\n",
    "os.chdir(server_path) \n",
    "run_dir = os.path.join(server_path,run_id)\n",
    "os.mkdir(run_dir)\n",
    "os.chdir(run_dir) "
   ]
  },
  {
   "cell_type": "code",
   "execution_count": 9,
   "metadata": {},
   "outputs": [
    {
     "name": "stdout",
     "output_type": "stream",
     "text": [
      "Checking whether there is an H2O instance running at http://localhost:21480..... not found.\n",
      "Attempting to start a local H2O server...\n",
      "  Java Version: openjdk version \"1.8.0_121\"; OpenJDK Runtime Environment (Zulu 8.20.0.5-macosx) (build 1.8.0_121-b15); OpenJDK 64-Bit Server VM (Zulu 8.20.0.5-macosx) (build 25.121-b15, mixed mode)\n",
      "  Starting server from /Users/bear/anaconda/lib/python3.6/site-packages/h2o/backend/bin/h2o.jar\n",
      "  Ice root: /var/folders/lh/42j8mfjx069d1bkc2wlf2pw40000gn/T/tmpe5nccqvt\n",
      "  JVM stdout: /var/folders/lh/42j8mfjx069d1bkc2wlf2pw40000gn/T/tmpe5nccqvt/h2o_bear_started_from_python.out\n",
      "  JVM stderr: /var/folders/lh/42j8mfjx069d1bkc2wlf2pw40000gn/T/tmpe5nccqvt/h2o_bear_started_from_python.err\n",
      "  Server is running at http://127.0.0.1:21480\n",
      "Connecting to H2O server at http://127.0.0.1:21480... successful.\n"
     ]
    },
    {
     "data": {
      "text/html": [
       "<div style=\"overflow:auto\"><table style=\"width:50%\"><tr><td>H2O cluster uptime:</td>\n",
       "<td>03 secs</td></tr>\n",
       "<tr><td>H2O cluster timezone:</td>\n",
       "<td>America/New_York</td></tr>\n",
       "<tr><td>H2O data parsing timezone:</td>\n",
       "<td>UTC</td></tr>\n",
       "<tr><td>H2O cluster version:</td>\n",
       "<td>3.20.0.1</td></tr>\n",
       "<tr><td>H2O cluster version age:</td>\n",
       "<td>3 months and 25 days !!!</td></tr>\n",
       "<tr><td>H2O cluster name:</td>\n",
       "<td>H2O_from_python_bear_n5ax9f</td></tr>\n",
       "<tr><td>H2O cluster total nodes:</td>\n",
       "<td>1</td></tr>\n",
       "<tr><td>H2O cluster free memory:</td>\n",
       "<td>5.750 Gb</td></tr>\n",
       "<tr><td>H2O cluster total cores:</td>\n",
       "<td>8</td></tr>\n",
       "<tr><td>H2O cluster allowed cores:</td>\n",
       "<td>8</td></tr>\n",
       "<tr><td>H2O cluster status:</td>\n",
       "<td>accepting new members, healthy</td></tr>\n",
       "<tr><td>H2O connection url:</td>\n",
       "<td>http://127.0.0.1:21480</td></tr>\n",
       "<tr><td>H2O connection proxy:</td>\n",
       "<td>None</td></tr>\n",
       "<tr><td>H2O internal security:</td>\n",
       "<td>False</td></tr>\n",
       "<tr><td>H2O API Extensions:</td>\n",
       "<td>XGBoost, Algos, AutoML, Core V3, Core V4</td></tr>\n",
       "<tr><td>Python version:</td>\n",
       "<td>3.6.5 final</td></tr></table></div>"
      ],
      "text/plain": [
       "--------------------------  ----------------------------------------\n",
       "H2O cluster uptime:         03 secs\n",
       "H2O cluster timezone:       America/New_York\n",
       "H2O data parsing timezone:  UTC\n",
       "H2O cluster version:        3.20.0.1\n",
       "H2O cluster version age:    3 months and 25 days !!!\n",
       "H2O cluster name:           H2O_from_python_bear_n5ax9f\n",
       "H2O cluster total nodes:    1\n",
       "H2O cluster free memory:    5.750 Gb\n",
       "H2O cluster total cores:    8\n",
       "H2O cluster allowed cores:  8\n",
       "H2O cluster status:         accepting new members, healthy\n",
       "H2O connection url:         http://127.0.0.1:21480\n",
       "H2O connection proxy:\n",
       "H2O internal security:      False\n",
       "H2O API Extensions:         XGBoost, Algos, AutoML, Core V3, Core V4\n",
       "Python version:             3.6.5 final\n",
       "--------------------------  ----------------------------------------"
      ]
     },
     "metadata": {},
     "output_type": "display_data"
    }
   ],
   "source": [
    "# 65535 Highest port no\n",
    "port_no=random.randint(5555,55555)\n",
    "h2o.init(strict_version_check=False,min_mem_size_GB=min_mem_size,port=port_no)"
   ]
  },
  {
   "cell_type": "code",
   "execution_count": 10,
   "metadata": {},
   "outputs": [
    {
     "name": "stdout",
     "output_type": "stream",
     "text": [
      "{'run_id': '7jPMYu5Da', 'start_time': 1538542354.297025, 'target': None, 'max_models': 9, 'run_time': 333, 'scale': False, 'classification': False, 'balance': False, 'balance_threshold': 0.2, 'project': None, 'end_time': 1538542354.297031, 'execution_time': 0.0, 'nthreads': 1, 'min_mem_size': 6, 'analysis': 0}\n"
     ]
    }
   ],
   "source": [
    "# meta data\n",
    "meta_data = set_meta_data(run_id,analysis,target,run_time,classification,scale,max_models,balance_y,balance_threshold,name,nthreads,min_mem_size)\n",
    "print(meta_data)  "
   ]
  },
  {
   "cell_type": "code",
   "execution_count": 11,
   "metadata": {},
   "outputs": [
    {
     "name": "stdout",
     "output_type": "stream",
     "text": [
      "/Users/bear/Downloads/AutoML/data/multiclass_iris_flowers.csv\n"
     ]
    }
   ],
   "source": [
    "print(data_path)"
   ]
  },
  {
   "cell_type": "code",
   "execution_count": 12,
   "metadata": {},
   "outputs": [
    {
     "name": "stdout",
     "output_type": "stream",
     "text": [
      "Parse progress: |█████████████████████████████████████████████████████████| 100%\n"
     ]
    }
   ],
   "source": [
    "df = h2o.import_file(data_path)"
   ]
  },
  {
   "cell_type": "code",
   "execution_count": 13,
   "metadata": {},
   "outputs": [
    {
     "data": {
      "text/html": [
       "<table>\n",
       "<thead>\n",
       "<tr><th style=\"text-align: right;\">  ID</th><th style=\"text-align: right;\">  sepal_length</th><th style=\"text-align: right;\">  sepal_width</th><th style=\"text-align: right;\">  petal_length</th><th style=\"text-align: right;\">  petal_width</th><th>species    </th></tr>\n",
       "</thead>\n",
       "<tbody>\n",
       "<tr><td style=\"text-align: right;\">   1</td><td style=\"text-align: right;\">           5.1</td><td style=\"text-align: right;\">          3.5</td><td style=\"text-align: right;\">           1.4</td><td style=\"text-align: right;\">          0.2</td><td>Iris-setosa</td></tr>\n",
       "<tr><td style=\"text-align: right;\">   2</td><td style=\"text-align: right;\">           4.9</td><td style=\"text-align: right;\">          3  </td><td style=\"text-align: right;\">           1.4</td><td style=\"text-align: right;\">          0.2</td><td>Iris-setosa</td></tr>\n",
       "<tr><td style=\"text-align: right;\">   3</td><td style=\"text-align: right;\">           4.7</td><td style=\"text-align: right;\">          3.2</td><td style=\"text-align: right;\">           1.3</td><td style=\"text-align: right;\">          0.2</td><td>Iris-setosa</td></tr>\n",
       "<tr><td style=\"text-align: right;\">   4</td><td style=\"text-align: right;\">           4.6</td><td style=\"text-align: right;\">          3.1</td><td style=\"text-align: right;\">           1.5</td><td style=\"text-align: right;\">          0.2</td><td>Iris-setosa</td></tr>\n",
       "<tr><td style=\"text-align: right;\">   5</td><td style=\"text-align: right;\">           5  </td><td style=\"text-align: right;\">          3.6</td><td style=\"text-align: right;\">           1.4</td><td style=\"text-align: right;\">          0.2</td><td>Iris-setosa</td></tr>\n",
       "<tr><td style=\"text-align: right;\">   6</td><td style=\"text-align: right;\">           5.4</td><td style=\"text-align: right;\">          3.9</td><td style=\"text-align: right;\">           1.7</td><td style=\"text-align: right;\">          0.4</td><td>Iris-setosa</td></tr>\n",
       "<tr><td style=\"text-align: right;\">   7</td><td style=\"text-align: right;\">           4.6</td><td style=\"text-align: right;\">          3.4</td><td style=\"text-align: right;\">           1.4</td><td style=\"text-align: right;\">          0.3</td><td>Iris-setosa</td></tr>\n",
       "<tr><td style=\"text-align: right;\">   8</td><td style=\"text-align: right;\">           5  </td><td style=\"text-align: right;\">          3.4</td><td style=\"text-align: right;\">           1.5</td><td style=\"text-align: right;\">          0.2</td><td>Iris-setosa</td></tr>\n",
       "<tr><td style=\"text-align: right;\">   9</td><td style=\"text-align: right;\">           4.4</td><td style=\"text-align: right;\">          2.9</td><td style=\"text-align: right;\">           1.4</td><td style=\"text-align: right;\">          0.2</td><td>Iris-setosa</td></tr>\n",
       "<tr><td style=\"text-align: right;\">  10</td><td style=\"text-align: right;\">           4.9</td><td style=\"text-align: right;\">          3.1</td><td style=\"text-align: right;\">           1.5</td><td style=\"text-align: right;\">          0.1</td><td>Iris-setosa</td></tr>\n",
       "</tbody>\n",
       "</table>"
      ]
     },
     "metadata": {},
     "output_type": "display_data"
    },
    {
     "data": {
      "text/plain": []
     },
     "execution_count": 13,
     "metadata": {},
     "output_type": "execute_result"
    }
   ],
   "source": [
    "df.head()"
   ]
  },
  {
   "cell_type": "code",
   "execution_count": 14,
   "metadata": {},
   "outputs": [
    {
     "name": "stdout",
     "output_type": "stream",
     "text": [
      "Rows:150\n",
      "Cols:6\n",
      "\n",
      "\n"
     ]
    },
    {
     "data": {
      "text/html": [
       "<table>\n",
       "<thead>\n",
       "<tr><th>       </th><th>ID                </th><th>sepal_length      </th><th>sepal_width        </th><th>petal_length     </th><th>petal_width       </th><th>species    </th></tr>\n",
       "</thead>\n",
       "<tbody>\n",
       "<tr><td>type   </td><td>int               </td><td>real              </td><td>real               </td><td>real             </td><td>real              </td><td>enum       </td></tr>\n",
       "<tr><td>mins   </td><td>1.0               </td><td>4.3               </td><td>2.0                </td><td>1.0              </td><td>0.1               </td><td>           </td></tr>\n",
       "<tr><td>mean   </td><td>75.5              </td><td>5.843333333333333 </td><td>3.053999999999999  </td><td>3.758666666666667</td><td>1.1986666666666665</td><td>           </td></tr>\n",
       "<tr><td>maxs   </td><td>150.0             </td><td>7.9               </td><td>4.4                </td><td>6.9              </td><td>2.5               </td><td>           </td></tr>\n",
       "<tr><td>sigma  </td><td>43.445367992456916</td><td>0.8280661279778637</td><td>0.43359431136217375</td><td>1.764420419952262</td><td>0.7631607417008414</td><td>           </td></tr>\n",
       "<tr><td>zeros  </td><td>0                 </td><td>0                 </td><td>0                  </td><td>0                </td><td>0                 </td><td>           </td></tr>\n",
       "<tr><td>missing</td><td>0                 </td><td>0                 </td><td>0                  </td><td>0                </td><td>0                 </td><td>0          </td></tr>\n",
       "<tr><td>0      </td><td>1.0               </td><td>5.1               </td><td>3.5                </td><td>1.4              </td><td>0.2               </td><td>Iris-setosa</td></tr>\n",
       "<tr><td>1      </td><td>2.0               </td><td>4.9               </td><td>3.0                </td><td>1.4              </td><td>0.2               </td><td>Iris-setosa</td></tr>\n",
       "<tr><td>2      </td><td>3.0               </td><td>4.7               </td><td>3.2                </td><td>1.3              </td><td>0.2               </td><td>Iris-setosa</td></tr>\n",
       "<tr><td>3      </td><td>4.0               </td><td>4.6               </td><td>3.1                </td><td>1.5              </td><td>0.2               </td><td>Iris-setosa</td></tr>\n",
       "<tr><td>4      </td><td>5.0               </td><td>5.0               </td><td>3.6                </td><td>1.4              </td><td>0.2               </td><td>Iris-setosa</td></tr>\n",
       "<tr><td>5      </td><td>6.0               </td><td>5.4               </td><td>3.9                </td><td>1.7              </td><td>0.4               </td><td>Iris-setosa</td></tr>\n",
       "<tr><td>6      </td><td>7.0               </td><td>4.6               </td><td>3.4                </td><td>1.4              </td><td>0.3               </td><td>Iris-setosa</td></tr>\n",
       "<tr><td>7      </td><td>8.0               </td><td>5.0               </td><td>3.4                </td><td>1.5              </td><td>0.2               </td><td>Iris-setosa</td></tr>\n",
       "<tr><td>8      </td><td>9.0               </td><td>4.4               </td><td>2.9                </td><td>1.4              </td><td>0.2               </td><td>Iris-setosa</td></tr>\n",
       "<tr><td>9      </td><td>10.0              </td><td>4.9               </td><td>3.1                </td><td>1.5              </td><td>0.1               </td><td>Iris-setosa</td></tr>\n",
       "</tbody>\n",
       "</table>"
      ]
     },
     "metadata": {},
     "output_type": "display_data"
    }
   ],
   "source": [
    "df.describe()"
   ]
  },
  {
   "cell_type": "markdown",
   "metadata": {},
   "source": [
    "describe()[source]\n",
    "Generate an in-depth description of this H2OFrame.\n",
    "\n",
    "The description is a tabular print of the type, min, max, sigma, number of zeros, and number of missing elements for each H2OVec in this H2OFrame.\n",
    "\n",
    "Returns:\tNone (print to stdout) "
   ]
  },
  {
   "cell_type": "code",
   "execution_count": 15,
   "metadata": {
    "collapsed": true
   },
   "outputs": [],
   "source": [
    "# dependent variable\n",
    "# assign target and inputs for classification or regression\n",
    "if target==None:\n",
    "  target=df.columns[-1]   \n",
    "y = target"
   ]
  },
  {
   "cell_type": "code",
   "execution_count": 16,
   "metadata": {},
   "outputs": [
    {
     "name": "stdout",
     "output_type": "stream",
     "text": [
      "species\n"
     ]
    }
   ],
   "source": [
    "print(y)"
   ]
  },
  {
   "cell_type": "code",
   "execution_count": 17,
   "metadata": {
    "scrolled": true
   },
   "outputs": [
    {
     "name": "stdout",
     "output_type": "stream",
     "text": [
      "None\n"
     ]
    }
   ],
   "source": [
    "print(all_variables)"
   ]
  },
  {
   "cell_type": "code",
   "execution_count": 18,
   "metadata": {
    "collapsed": true
   },
   "outputs": [],
   "source": [
    "if all_variables is not None:\n",
    "  ivd=get_all_variables_csv(all_variables)\n",
    "  print(ivd)    \n",
    "  X=check_all_variables(df,ivd,y)\n",
    "  print(X)"
   ]
  },
  {
   "cell_type": "code",
   "execution_count": 19,
   "metadata": {},
   "outputs": [
    {
     "name": "stdout",
     "output_type": "stream",
     "text": [
      "Rows:150\n",
      "Cols:6\n",
      "\n",
      "\n"
     ]
    },
    {
     "data": {
      "text/html": [
       "<table>\n",
       "<thead>\n",
       "<tr><th>       </th><th>ID                </th><th>sepal_length      </th><th>sepal_width        </th><th>petal_length     </th><th>petal_width       </th><th>species    </th></tr>\n",
       "</thead>\n",
       "<tbody>\n",
       "<tr><td>type   </td><td>int               </td><td>real              </td><td>real               </td><td>real             </td><td>real              </td><td>enum       </td></tr>\n",
       "<tr><td>mins   </td><td>1.0               </td><td>4.3               </td><td>2.0                </td><td>1.0              </td><td>0.1               </td><td>           </td></tr>\n",
       "<tr><td>mean   </td><td>75.5              </td><td>5.843333333333333 </td><td>3.053999999999999  </td><td>3.758666666666667</td><td>1.1986666666666665</td><td>           </td></tr>\n",
       "<tr><td>maxs   </td><td>150.0             </td><td>7.9               </td><td>4.4                </td><td>6.9              </td><td>2.5               </td><td>           </td></tr>\n",
       "<tr><td>sigma  </td><td>43.445367992456916</td><td>0.8280661279778637</td><td>0.43359431136217375</td><td>1.764420419952262</td><td>0.7631607417008414</td><td>           </td></tr>\n",
       "<tr><td>zeros  </td><td>0                 </td><td>0                 </td><td>0                  </td><td>0                </td><td>0                 </td><td>           </td></tr>\n",
       "<tr><td>missing</td><td>0                 </td><td>0                 </td><td>0                  </td><td>0                </td><td>0                 </td><td>0          </td></tr>\n",
       "<tr><td>0      </td><td>1.0               </td><td>5.1               </td><td>3.5                </td><td>1.4              </td><td>0.2               </td><td>Iris-setosa</td></tr>\n",
       "<tr><td>1      </td><td>2.0               </td><td>4.9               </td><td>3.0                </td><td>1.4              </td><td>0.2               </td><td>Iris-setosa</td></tr>\n",
       "<tr><td>2      </td><td>3.0               </td><td>4.7               </td><td>3.2                </td><td>1.3              </td><td>0.2               </td><td>Iris-setosa</td></tr>\n",
       "<tr><td>3      </td><td>4.0               </td><td>4.6               </td><td>3.1                </td><td>1.5              </td><td>0.2               </td><td>Iris-setosa</td></tr>\n",
       "<tr><td>4      </td><td>5.0               </td><td>5.0               </td><td>3.6                </td><td>1.4              </td><td>0.2               </td><td>Iris-setosa</td></tr>\n",
       "<tr><td>5      </td><td>6.0               </td><td>5.4               </td><td>3.9                </td><td>1.7              </td><td>0.4               </td><td>Iris-setosa</td></tr>\n",
       "<tr><td>6      </td><td>7.0               </td><td>4.6               </td><td>3.4                </td><td>1.4              </td><td>0.3               </td><td>Iris-setosa</td></tr>\n",
       "<tr><td>7      </td><td>8.0               </td><td>5.0               </td><td>3.4                </td><td>1.5              </td><td>0.2               </td><td>Iris-setosa</td></tr>\n",
       "<tr><td>8      </td><td>9.0               </td><td>4.4               </td><td>2.9                </td><td>1.4              </td><td>0.2               </td><td>Iris-setosa</td></tr>\n",
       "<tr><td>9      </td><td>10.0              </td><td>4.9               </td><td>3.1                </td><td>1.5              </td><td>0.1               </td><td>Iris-setosa</td></tr>\n",
       "</tbody>\n",
       "</table>"
      ]
     },
     "metadata": {},
     "output_type": "display_data"
    }
   ],
   "source": [
    "df.describe()"
   ]
  },
  {
   "cell_type": "code",
   "execution_count": 20,
   "metadata": {
    "collapsed": true
   },
   "outputs": [],
   "source": [
    "# independent variables\n",
    "\n",
    "X = []  \n",
    "if all_variables is None:\n",
    "  X=get_independent_variables(df, target)  \n",
    "else: \n",
    "  ivd=get_all_variables_csv(all_variables)    \n",
    "  X=check_all_variables(df, ivd)\n",
    "\n",
    "\n",
    "X=check_X(X,df)\n",
    "\n",
    "\n",
    "# Add independent variables\n",
    "\n",
    "meta_data['X']=X  \n",
    "\n",
    "\n",
    "# impute missing values\n",
    "\n",
    "_=impute_missing_values(df,X, scale)"
   ]
  },
  {
   "cell_type": "code",
   "execution_count": 21,
   "metadata": {
    "collapsed": true
   },
   "outputs": [],
   "source": [
    "if analysis == 3:\n",
    "  classification=False\n",
    "elif analysis == 2:\n",
    "  classification=True\n",
    "elif analysis == 1:\n",
    "  classification=True"
   ]
  },
  {
   "cell_type": "code",
   "execution_count": 22,
   "metadata": {},
   "outputs": [
    {
     "name": "stdout",
     "output_type": "stream",
     "text": [
      "False\n"
     ]
    }
   ],
   "source": [
    "print(classification)"
   ]
  },
  {
   "cell_type": "code",
   "execution_count": 23,
   "metadata": {
    "collapsed": true
   },
   "outputs": [],
   "source": [
    "# Force target to be factors\n",
    "# Only 'int' or 'string' are allowed for asfactor(), got Target (Total orders):real \n",
    "\n",
    "if classification:\n",
    "    df[y] = df[y].asfactor()"
   ]
  },
  {
   "cell_type": "code",
   "execution_count": 24,
   "metadata": {
    "collapsed": true
   },
   "outputs": [],
   "source": [
    "def check_y(y,df):\n",
    "  ok=False\n",
    "  C = [name for name in df.columns if name == y]\n",
    "  for key, val in df.types.items():\n",
    "    if key in C:\n",
    "      if val in ['real','int','enum']:        \n",
    "        ok=True         \n",
    "  return ok, val   "
   ]
  },
  {
   "cell_type": "code",
   "execution_count": 25,
   "metadata": {
    "collapsed": true
   },
   "outputs": [],
   "source": [
    "ok,val=check_y(y,df)"
   ]
  },
  {
   "cell_type": "code",
   "execution_count": 26,
   "metadata": {},
   "outputs": [
    {
     "name": "stdout",
     "output_type": "stream",
     "text": [
      "enum\n"
     ]
    }
   ],
   "source": [
    "print(val)"
   ]
  },
  {
   "cell_type": "code",
   "execution_count": 27,
   "metadata": {},
   "outputs": [
    {
     "name": "stdout",
     "output_type": "stream",
     "text": [
      "True\n"
     ]
    }
   ],
   "source": [
    "print(ok)"
   ]
  },
  {
   "cell_type": "code",
   "execution_count": 28,
   "metadata": {},
   "outputs": [
    {
     "name": "stdout",
     "output_type": "stream",
     "text": [
      "[['Iris-setosa', 'Iris-versicolor', 'Iris-virginica']]\n"
     ]
    }
   ],
   "source": [
    "if val=='enum':\n",
    "    print(df[y].levels())"
   ]
  },
  {
   "cell_type": "code",
   "execution_count": 29,
   "metadata": {},
   "outputs": [
    {
     "name": "stdout",
     "output_type": "stream",
     "text": [
      "Rows:150\n",
      "Cols:6\n",
      "\n",
      "\n"
     ]
    },
    {
     "data": {
      "text/html": [
       "<table>\n",
       "<thead>\n",
       "<tr><th>       </th><th>ID                </th><th>sepal_length      </th><th>sepal_width        </th><th>petal_length     </th><th>petal_width       </th><th>species    </th></tr>\n",
       "</thead>\n",
       "<tbody>\n",
       "<tr><td>type   </td><td>int               </td><td>real              </td><td>real               </td><td>real             </td><td>real              </td><td>enum       </td></tr>\n",
       "<tr><td>mins   </td><td>1.0               </td><td>4.3               </td><td>2.0                </td><td>1.0              </td><td>0.1               </td><td>           </td></tr>\n",
       "<tr><td>mean   </td><td>75.5              </td><td>5.843333333333333 </td><td>3.053999999999999  </td><td>3.758666666666667</td><td>1.1986666666666665</td><td>           </td></tr>\n",
       "<tr><td>maxs   </td><td>150.0             </td><td>7.9               </td><td>4.4                </td><td>6.9              </td><td>2.5               </td><td>           </td></tr>\n",
       "<tr><td>sigma  </td><td>43.445367992456916</td><td>0.8280661279778637</td><td>0.43359431136217375</td><td>1.764420419952262</td><td>0.7631607417008414</td><td>           </td></tr>\n",
       "<tr><td>zeros  </td><td>0                 </td><td>0                 </td><td>0                  </td><td>0                </td><td>0                 </td><td>           </td></tr>\n",
       "<tr><td>missing</td><td>0                 </td><td>0                 </td><td>0                  </td><td>0                </td><td>0                 </td><td>0          </td></tr>\n",
       "<tr><td>0      </td><td>1.0               </td><td>5.1               </td><td>3.5                </td><td>1.4              </td><td>0.2               </td><td>Iris-setosa</td></tr>\n",
       "<tr><td>1      </td><td>2.0               </td><td>4.9               </td><td>3.0                </td><td>1.4              </td><td>0.2               </td><td>Iris-setosa</td></tr>\n",
       "<tr><td>2      </td><td>3.0               </td><td>4.7               </td><td>3.2                </td><td>1.3              </td><td>0.2               </td><td>Iris-setosa</td></tr>\n",
       "<tr><td>3      </td><td>4.0               </td><td>4.6               </td><td>3.1                </td><td>1.5              </td><td>0.2               </td><td>Iris-setosa</td></tr>\n",
       "<tr><td>4      </td><td>5.0               </td><td>5.0               </td><td>3.6                </td><td>1.4              </td><td>0.2               </td><td>Iris-setosa</td></tr>\n",
       "<tr><td>5      </td><td>6.0               </td><td>5.4               </td><td>3.9                </td><td>1.7              </td><td>0.4               </td><td>Iris-setosa</td></tr>\n",
       "<tr><td>6      </td><td>7.0               </td><td>4.6               </td><td>3.4                </td><td>1.4              </td><td>0.3               </td><td>Iris-setosa</td></tr>\n",
       "<tr><td>7      </td><td>8.0               </td><td>5.0               </td><td>3.4                </td><td>1.5              </td><td>0.2               </td><td>Iris-setosa</td></tr>\n",
       "<tr><td>8      </td><td>9.0               </td><td>4.4               </td><td>2.9                </td><td>1.4              </td><td>0.2               </td><td>Iris-setosa</td></tr>\n",
       "<tr><td>9      </td><td>10.0              </td><td>4.9               </td><td>3.1                </td><td>1.5              </td><td>0.1               </td><td>Iris-setosa</td></tr>\n",
       "</tbody>\n",
       "</table>"
      ]
     },
     "metadata": {},
     "output_type": "display_data"
    }
   ],
   "source": [
    "df.describe()"
   ]
  },
  {
   "cell_type": "code",
   "execution_count": 30,
   "metadata": {},
   "outputs": [
    {
     "data": {
      "text/plain": [
       "{'ID': 'int',\n",
       " 'petal_length': 'real',\n",
       " 'petal_width': 'real',\n",
       " 'sepal_length': 'real',\n",
       " 'sepal_width': 'real',\n",
       " 'species': 'enum'}"
      ]
     },
     "execution_count": 30,
     "metadata": {},
     "output_type": "execute_result"
    }
   ],
   "source": [
    "allV=get_variables_types(df)\n",
    "allV"
   ]
  },
  {
   "cell_type": "code",
   "execution_count": 31,
   "metadata": {
    "collapsed": true
   },
   "outputs": [],
   "source": [
    "meta_data['variables']=allV"
   ]
  },
  {
   "cell_type": "code",
   "execution_count": 32,
   "metadata": {
    "collapsed": true
   },
   "outputs": [],
   "source": [
    "# split into training and test for showing how to predict\n",
    "train, test = df.split_frame([0.9])"
   ]
  },
  {
   "cell_type": "code",
   "execution_count": 33,
   "metadata": {
    "collapsed": true
   },
   "outputs": [],
   "source": [
    "# Set up AutoML\n",
    "\n",
    "aml = H2OAutoML(max_runtime_secs=run_time,project_name = name)"
   ]
  },
  {
   "cell_type": "code",
   "execution_count": 34,
   "metadata": {
    "collapsed": true
   },
   "outputs": [],
   "source": [
    "model_start_time = time.time()"
   ]
  },
  {
   "cell_type": "code",
   "execution_count": 35,
   "metadata": {},
   "outputs": [
    {
     "name": "stdout",
     "output_type": "stream",
     "text": [
      "AutoML progress: |████████████████████████████████████████████████████████| 100%\n"
     ]
    }
   ],
   "source": [
    "aml.train(x=X,y=y,training_frame=train)"
   ]
  },
  {
   "cell_type": "code",
   "execution_count": 36,
   "metadata": {
    "collapsed": true
   },
   "outputs": [],
   "source": [
    "meta_data['model_execution_time'] = time.time() - model_start_time"
   ]
  },
  {
   "cell_type": "code",
   "execution_count": 37,
   "metadata": {
    "collapsed": true
   },
   "outputs": [],
   "source": [
    "# get leaderboard\n",
    "aml_leaderboard_df=aml.leaderboard.as_data_frame()"
   ]
  },
  {
   "cell_type": "code",
   "execution_count": 38,
   "metadata": {},
   "outputs": [
    {
     "data": {
      "text/html": [
       "<div>\n",
       "<style>\n",
       "    .dataframe thead tr:only-child th {\n",
       "        text-align: right;\n",
       "    }\n",
       "\n",
       "    .dataframe thead th {\n",
       "        text-align: left;\n",
       "    }\n",
       "\n",
       "    .dataframe tbody tr th {\n",
       "        vertical-align: top;\n",
       "    }\n",
       "</style>\n",
       "<table border=\"1\" class=\"dataframe\">\n",
       "  <thead>\n",
       "    <tr style=\"text-align: right;\">\n",
       "      <th></th>\n",
       "      <th>model_id</th>\n",
       "      <th>mean_per_class_error</th>\n",
       "      <th>logloss</th>\n",
       "      <th>rmse</th>\n",
       "      <th>mse</th>\n",
       "    </tr>\n",
       "  </thead>\n",
       "  <tbody>\n",
       "    <tr>\n",
       "      <th>0</th>\n",
       "      <td>DRF_0_AutoML_20181003_005235</td>\n",
       "      <td>0.000000</td>\n",
       "      <td>2.969224e-02</td>\n",
       "      <td>6.992901e-02</td>\n",
       "      <td>4.890066e-03</td>\n",
       "    </tr>\n",
       "    <tr>\n",
       "      <th>1</th>\n",
       "      <td>GBM_grid_0_AutoML_20181003_005235_model_1</td>\n",
       "      <td>0.000000</td>\n",
       "      <td>2.637156e-07</td>\n",
       "      <td>2.265790e-06</td>\n",
       "      <td>5.133806e-12</td>\n",
       "    </tr>\n",
       "    <tr>\n",
       "      <th>2</th>\n",
       "      <td>GBM_grid_0_AutoML_20181003_005235_model_72</td>\n",
       "      <td>0.000000</td>\n",
       "      <td>8.353590e-09</td>\n",
       "      <td>1.019511e-08</td>\n",
       "      <td>1.039402e-16</td>\n",
       "    </tr>\n",
       "    <tr>\n",
       "      <th>3</th>\n",
       "      <td>GBM_grid_0_AutoML_20181003_005235_model_57</td>\n",
       "      <td>0.000000</td>\n",
       "      <td>1.040738e+00</td>\n",
       "      <td>6.468061e-01</td>\n",
       "      <td>4.183581e-01</td>\n",
       "    </tr>\n",
       "    <tr>\n",
       "      <th>4</th>\n",
       "      <td>StackedEnsemble_AllModels_0_AutoML_20181003_00...</td>\n",
       "      <td>0.000000</td>\n",
       "      <td>1.110656e-02</td>\n",
       "      <td>1.458604e-02</td>\n",
       "      <td>2.127524e-04</td>\n",
       "    </tr>\n",
       "    <tr>\n",
       "      <th>5</th>\n",
       "      <td>GBM_grid_0_AutoML_20181003_005235_model_3</td>\n",
       "      <td>0.000000</td>\n",
       "      <td>1.034146e-06</td>\n",
       "      <td>8.727223e-06</td>\n",
       "      <td>7.616442e-11</td>\n",
       "    </tr>\n",
       "    <tr>\n",
       "      <th>6</th>\n",
       "      <td>GLM_grid_0_AutoML_20181003_005235_model_0</td>\n",
       "      <td>0.000000</td>\n",
       "      <td>7.728962e-03</td>\n",
       "      <td>2.986393e-02</td>\n",
       "      <td>8.918545e-04</td>\n",
       "    </tr>\n",
       "    <tr>\n",
       "      <th>7</th>\n",
       "      <td>GBM_grid_0_AutoML_20181003_005235_model_49</td>\n",
       "      <td>0.000000</td>\n",
       "      <td>1.056636e+00</td>\n",
       "      <td>6.523663e-01</td>\n",
       "      <td>4.255818e-01</td>\n",
       "    </tr>\n",
       "    <tr>\n",
       "      <th>8</th>\n",
       "      <td>GBM_grid_0_AutoML_20181003_005235_model_13</td>\n",
       "      <td>0.000000</td>\n",
       "      <td>7.541721e-07</td>\n",
       "      <td>7.562790e-06</td>\n",
       "      <td>5.719579e-11</td>\n",
       "    </tr>\n",
       "    <tr>\n",
       "      <th>9</th>\n",
       "      <td>GBM_grid_0_AutoML_20181003_005235_model_16</td>\n",
       "      <td>0.000000</td>\n",
       "      <td>2.323549e-05</td>\n",
       "      <td>2.112606e-04</td>\n",
       "      <td>4.463106e-08</td>\n",
       "    </tr>\n",
       "    <tr>\n",
       "      <th>10</th>\n",
       "      <td>GBM_grid_0_AutoML_20181003_005235_model_17</td>\n",
       "      <td>0.000000</td>\n",
       "      <td>2.994007e-03</td>\n",
       "      <td>2.156809e-02</td>\n",
       "      <td>4.651827e-04</td>\n",
       "    </tr>\n",
       "    <tr>\n",
       "      <th>11</th>\n",
       "      <td>GBM_grid_0_AutoML_20181003_005235_model_9</td>\n",
       "      <td>0.000000</td>\n",
       "      <td>1.043825e+00</td>\n",
       "      <td>6.478911e-01</td>\n",
       "      <td>4.197629e-01</td>\n",
       "    </tr>\n",
       "    <tr>\n",
       "      <th>12</th>\n",
       "      <td>GBM_grid_0_AutoML_20181003_005235_model_34</td>\n",
       "      <td>0.000000</td>\n",
       "      <td>1.363046e-16</td>\n",
       "      <td>2.460313e-16</td>\n",
       "      <td>6.053141e-32</td>\n",
       "    </tr>\n",
       "    <tr>\n",
       "      <th>13</th>\n",
       "      <td>GBM_grid_0_AutoML_20181003_005235_model_56</td>\n",
       "      <td>0.000000</td>\n",
       "      <td>6.845687e-04</td>\n",
       "      <td>6.641213e-03</td>\n",
       "      <td>4.410571e-05</td>\n",
       "    </tr>\n",
       "    <tr>\n",
       "      <th>14</th>\n",
       "      <td>GBM_grid_0_AutoML_20181003_005235_model_35</td>\n",
       "      <td>0.000000</td>\n",
       "      <td>3.426154e-04</td>\n",
       "      <td>2.400379e-03</td>\n",
       "      <td>5.761821e-06</td>\n",
       "    </tr>\n",
       "    <tr>\n",
       "      <th>15</th>\n",
       "      <td>GBM_grid_0_AutoML_20181003_005235_model_69</td>\n",
       "      <td>0.000000</td>\n",
       "      <td>1.155920e-03</td>\n",
       "      <td>1.094015e-02</td>\n",
       "      <td>1.196870e-04</td>\n",
       "    </tr>\n",
       "    <tr>\n",
       "      <th>16</th>\n",
       "      <td>GBM_grid_0_AutoML_20181003_005235_model_48</td>\n",
       "      <td>0.000000</td>\n",
       "      <td>5.159439e-03</td>\n",
       "      <td>2.985161e-02</td>\n",
       "      <td>8.911189e-04</td>\n",
       "    </tr>\n",
       "    <tr>\n",
       "      <th>17</th>\n",
       "      <td>GBM_grid_0_AutoML_20181003_005235_model_60</td>\n",
       "      <td>0.000000</td>\n",
       "      <td>1.043641e+00</td>\n",
       "      <td>6.478276e-01</td>\n",
       "      <td>4.196805e-01</td>\n",
       "    </tr>\n",
       "    <tr>\n",
       "      <th>18</th>\n",
       "      <td>GBM_grid_0_AutoML_20181003_005235_model_2</td>\n",
       "      <td>0.000000</td>\n",
       "      <td>1.023383e-06</td>\n",
       "      <td>8.591144e-06</td>\n",
       "      <td>7.380775e-11</td>\n",
       "    </tr>\n",
       "    <tr>\n",
       "      <th>19</th>\n",
       "      <td>GBM_grid_0_AutoML_20181003_005235_model_40</td>\n",
       "      <td>0.000000</td>\n",
       "      <td>1.053996e+00</td>\n",
       "      <td>6.514481e-01</td>\n",
       "      <td>4.243846e-01</td>\n",
       "    </tr>\n",
       "    <tr>\n",
       "      <th>20</th>\n",
       "      <td>GBM_grid_0_AutoML_20181003_005235_model_54</td>\n",
       "      <td>0.000000</td>\n",
       "      <td>1.512258e-03</td>\n",
       "      <td>7.815576e-03</td>\n",
       "      <td>6.108323e-05</td>\n",
       "    </tr>\n",
       "    <tr>\n",
       "      <th>21</th>\n",
       "      <td>GBM_grid_0_AutoML_20181003_005235_model_11</td>\n",
       "      <td>0.000000</td>\n",
       "      <td>1.043408e+00</td>\n",
       "      <td>6.477460e-01</td>\n",
       "      <td>4.195749e-01</td>\n",
       "    </tr>\n",
       "    <tr>\n",
       "      <th>22</th>\n",
       "      <td>GBM_grid_0_AutoML_20181003_005235_model_63</td>\n",
       "      <td>0.000000</td>\n",
       "      <td>1.041916e+00</td>\n",
       "      <td>6.472218e-01</td>\n",
       "      <td>4.188961e-01</td>\n",
       "    </tr>\n",
       "    <tr>\n",
       "      <th>23</th>\n",
       "      <td>GBM_grid_0_AutoML_20181003_005235_model_65</td>\n",
       "      <td>0.000000</td>\n",
       "      <td>7.376275e-07</td>\n",
       "      <td>7.356705e-06</td>\n",
       "      <td>5.412111e-11</td>\n",
       "    </tr>\n",
       "    <tr>\n",
       "      <th>24</th>\n",
       "      <td>GBM_grid_0_AutoML_20181003_005235_model_0</td>\n",
       "      <td>0.000000</td>\n",
       "      <td>3.155848e-05</td>\n",
       "      <td>3.165936e-04</td>\n",
       "      <td>1.002315e-07</td>\n",
       "    </tr>\n",
       "    <tr>\n",
       "      <th>25</th>\n",
       "      <td>GBM_grid_0_AutoML_20181003_005235_model_58</td>\n",
       "      <td>0.000000</td>\n",
       "      <td>1.019046e-02</td>\n",
       "      <td>3.971381e-02</td>\n",
       "      <td>1.577187e-03</td>\n",
       "    </tr>\n",
       "    <tr>\n",
       "      <th>26</th>\n",
       "      <td>GBM_grid_0_AutoML_20181003_005235_model_41</td>\n",
       "      <td>0.000000</td>\n",
       "      <td>4.442741e-03</td>\n",
       "      <td>3.597546e-02</td>\n",
       "      <td>1.294234e-03</td>\n",
       "    </tr>\n",
       "    <tr>\n",
       "      <th>27</th>\n",
       "      <td>XRT_0_AutoML_20181003_005235</td>\n",
       "      <td>0.000000</td>\n",
       "      <td>3.109663e-02</td>\n",
       "      <td>7.951273e-02</td>\n",
       "      <td>6.322275e-03</td>\n",
       "    </tr>\n",
       "    <tr>\n",
       "      <th>28</th>\n",
       "      <td>GBM_grid_0_AutoML_20181003_005235_model_71</td>\n",
       "      <td>0.000000</td>\n",
       "      <td>1.816931e-03</td>\n",
       "      <td>2.636612e-03</td>\n",
       "      <td>6.951725e-06</td>\n",
       "    </tr>\n",
       "    <tr>\n",
       "      <th>29</th>\n",
       "      <td>GBM_grid_0_AutoML_20181003_005235_model_27</td>\n",
       "      <td>0.000000</td>\n",
       "      <td>4.909264e-04</td>\n",
       "      <td>4.792024e-03</td>\n",
       "      <td>2.296349e-05</td>\n",
       "    </tr>\n",
       "    <tr>\n",
       "      <th>...</th>\n",
       "      <td>...</td>\n",
       "      <td>...</td>\n",
       "      <td>...</td>\n",
       "      <td>...</td>\n",
       "      <td>...</td>\n",
       "    </tr>\n",
       "    <tr>\n",
       "      <th>37</th>\n",
       "      <td>GBM_grid_0_AutoML_20181003_005235_model_39</td>\n",
       "      <td>0.008333</td>\n",
       "      <td>9.937023e-02</td>\n",
       "      <td>1.376646e-01</td>\n",
       "      <td>1.895154e-02</td>\n",
       "    </tr>\n",
       "    <tr>\n",
       "      <th>38</th>\n",
       "      <td>GBM_grid_0_AutoML_20181003_005235_model_33</td>\n",
       "      <td>0.008333</td>\n",
       "      <td>2.013229e-02</td>\n",
       "      <td>7.961376e-02</td>\n",
       "      <td>6.338351e-03</td>\n",
       "    </tr>\n",
       "    <tr>\n",
       "      <th>39</th>\n",
       "      <td>GBM_grid_0_AutoML_20181003_005235_model_44</td>\n",
       "      <td>0.008333</td>\n",
       "      <td>2.687338e-02</td>\n",
       "      <td>9.590138e-02</td>\n",
       "      <td>9.197074e-03</td>\n",
       "    </tr>\n",
       "    <tr>\n",
       "      <th>40</th>\n",
       "      <td>GBM_grid_0_AutoML_20181003_005235_model_50</td>\n",
       "      <td>0.008333</td>\n",
       "      <td>2.000702e-02</td>\n",
       "      <td>8.464107e-02</td>\n",
       "      <td>7.164111e-03</td>\n",
       "    </tr>\n",
       "    <tr>\n",
       "      <th>41</th>\n",
       "      <td>GBM_grid_0_AutoML_20181003_005235_model_20</td>\n",
       "      <td>0.008333</td>\n",
       "      <td>2.956889e-02</td>\n",
       "      <td>9.468294e-02</td>\n",
       "      <td>8.964859e-03</td>\n",
       "    </tr>\n",
       "    <tr>\n",
       "      <th>42</th>\n",
       "      <td>GBM_grid_0_AutoML_20181003_005235_model_30</td>\n",
       "      <td>0.008333</td>\n",
       "      <td>6.571860e-02</td>\n",
       "      <td>9.937333e-02</td>\n",
       "      <td>9.875059e-03</td>\n",
       "    </tr>\n",
       "    <tr>\n",
       "      <th>43</th>\n",
       "      <td>GBM_grid_0_AutoML_20181003_005235_model_52</td>\n",
       "      <td>0.008333</td>\n",
       "      <td>1.520806e-01</td>\n",
       "      <td>1.803759e-01</td>\n",
       "      <td>3.253548e-02</td>\n",
       "    </tr>\n",
       "    <tr>\n",
       "      <th>44</th>\n",
       "      <td>GBM_grid_0_AutoML_20181003_005235_model_22</td>\n",
       "      <td>0.008333</td>\n",
       "      <td>1.055218e+00</td>\n",
       "      <td>6.518747e-01</td>\n",
       "      <td>4.249406e-01</td>\n",
       "    </tr>\n",
       "    <tr>\n",
       "      <th>45</th>\n",
       "      <td>GBM_grid_0_AutoML_20181003_005235_model_32</td>\n",
       "      <td>0.008333</td>\n",
       "      <td>1.502142e-02</td>\n",
       "      <td>6.047252e-02</td>\n",
       "      <td>3.656925e-03</td>\n",
       "    </tr>\n",
       "    <tr>\n",
       "      <th>46</th>\n",
       "      <td>GBM_grid_0_AutoML_20181003_005235_model_5</td>\n",
       "      <td>0.008333</td>\n",
       "      <td>1.264032e-01</td>\n",
       "      <td>1.597043e-01</td>\n",
       "      <td>2.550546e-02</td>\n",
       "    </tr>\n",
       "    <tr>\n",
       "      <th>47</th>\n",
       "      <td>GBM_grid_0_AutoML_20181003_005235_model_21</td>\n",
       "      <td>0.008333</td>\n",
       "      <td>7.094395e-02</td>\n",
       "      <td>1.130958e-01</td>\n",
       "      <td>1.279067e-02</td>\n",
       "    </tr>\n",
       "    <tr>\n",
       "      <th>48</th>\n",
       "      <td>GBM_grid_0_AutoML_20181003_005235_model_23</td>\n",
       "      <td>0.008333</td>\n",
       "      <td>1.055042e+00</td>\n",
       "      <td>6.518145e-01</td>\n",
       "      <td>4.248621e-01</td>\n",
       "    </tr>\n",
       "    <tr>\n",
       "      <th>49</th>\n",
       "      <td>GBM_grid_0_AutoML_20181003_005235_model_28</td>\n",
       "      <td>0.008333</td>\n",
       "      <td>9.123509e-03</td>\n",
       "      <td>5.560682e-02</td>\n",
       "      <td>3.092118e-03</td>\n",
       "    </tr>\n",
       "    <tr>\n",
       "      <th>50</th>\n",
       "      <td>GBM_grid_0_AutoML_20181003_005235_model_19</td>\n",
       "      <td>0.008333</td>\n",
       "      <td>1.421507e-02</td>\n",
       "      <td>6.691647e-02</td>\n",
       "      <td>4.477814e-03</td>\n",
       "    </tr>\n",
       "    <tr>\n",
       "      <th>51</th>\n",
       "      <td>GBM_grid_0_AutoML_20181003_005235_model_12</td>\n",
       "      <td>0.008333</td>\n",
       "      <td>1.643324e-02</td>\n",
       "      <td>7.154274e-02</td>\n",
       "      <td>5.118363e-03</td>\n",
       "    </tr>\n",
       "    <tr>\n",
       "      <th>52</th>\n",
       "      <td>GBM_grid_0_AutoML_20181003_005235_model_68</td>\n",
       "      <td>0.010753</td>\n",
       "      <td>4.236938e-02</td>\n",
       "      <td>1.073435e-01</td>\n",
       "      <td>1.152263e-02</td>\n",
       "    </tr>\n",
       "    <tr>\n",
       "      <th>53</th>\n",
       "      <td>GBM_grid_0_AutoML_20181003_005235_model_8</td>\n",
       "      <td>0.010753</td>\n",
       "      <td>4.224826e-02</td>\n",
       "      <td>1.060983e-01</td>\n",
       "      <td>1.125685e-02</td>\n",
       "    </tr>\n",
       "    <tr>\n",
       "      <th>54</th>\n",
       "      <td>GBM_grid_0_AutoML_20181003_005235_model_26</td>\n",
       "      <td>0.010753</td>\n",
       "      <td>1.522049e-01</td>\n",
       "      <td>1.825088e-01</td>\n",
       "      <td>3.330948e-02</td>\n",
       "    </tr>\n",
       "    <tr>\n",
       "      <th>55</th>\n",
       "      <td>DeepLearning_0_AutoML_20181003_005235</td>\n",
       "      <td>0.011111</td>\n",
       "      <td>1.193865e-01</td>\n",
       "      <td>1.444927e-01</td>\n",
       "      <td>2.087813e-02</td>\n",
       "    </tr>\n",
       "    <tr>\n",
       "      <th>56</th>\n",
       "      <td>GBM_grid_0_AutoML_20181003_005235_model_61</td>\n",
       "      <td>0.019086</td>\n",
       "      <td>3.264270e-02</td>\n",
       "      <td>1.053260e-01</td>\n",
       "      <td>1.109356e-02</td>\n",
       "    </tr>\n",
       "    <tr>\n",
       "      <th>57</th>\n",
       "      <td>GBM_grid_0_AutoML_20181003_005235_model_24</td>\n",
       "      <td>0.019086</td>\n",
       "      <td>5.698915e-02</td>\n",
       "      <td>1.310782e-01</td>\n",
       "      <td>1.718150e-02</td>\n",
       "    </tr>\n",
       "    <tr>\n",
       "      <th>58</th>\n",
       "      <td>GBM_grid_0_AutoML_20181003_005235_model_59</td>\n",
       "      <td>0.021505</td>\n",
       "      <td>1.059015e+00</td>\n",
       "      <td>6.531829e-01</td>\n",
       "      <td>4.266479e-01</td>\n",
       "    </tr>\n",
       "    <tr>\n",
       "      <th>59</th>\n",
       "      <td>GBM_grid_0_AutoML_20181003_005235_model_70</td>\n",
       "      <td>0.021864</td>\n",
       "      <td>4.508286e-02</td>\n",
       "      <td>1.150503e-01</td>\n",
       "      <td>1.323657e-02</td>\n",
       "    </tr>\n",
       "    <tr>\n",
       "      <th>60</th>\n",
       "      <td>GBM_grid_0_AutoML_20181003_005235_model_43</td>\n",
       "      <td>0.027419</td>\n",
       "      <td>1.734178e-01</td>\n",
       "      <td>1.714483e-01</td>\n",
       "      <td>2.939451e-02</td>\n",
       "    </tr>\n",
       "    <tr>\n",
       "      <th>61</th>\n",
       "      <td>GBM_grid_0_AutoML_20181003_005235_model_66</td>\n",
       "      <td>0.029839</td>\n",
       "      <td>8.487673e-02</td>\n",
       "      <td>1.489588e-01</td>\n",
       "      <td>2.218872e-02</td>\n",
       "    </tr>\n",
       "    <tr>\n",
       "      <th>62</th>\n",
       "      <td>GBM_grid_0_AutoML_20181003_005235_model_64</td>\n",
       "      <td>0.040950</td>\n",
       "      <td>1.337812e-01</td>\n",
       "      <td>1.740834e-01</td>\n",
       "      <td>3.030504e-02</td>\n",
       "    </tr>\n",
       "    <tr>\n",
       "      <th>63</th>\n",
       "      <td>GBM_grid_0_AutoML_20181003_005235_model_42</td>\n",
       "      <td>0.094355</td>\n",
       "      <td>8.955948e-01</td>\n",
       "      <td>5.908102e-01</td>\n",
       "      <td>3.490567e-01</td>\n",
       "    </tr>\n",
       "    <tr>\n",
       "      <th>64</th>\n",
       "      <td>GBM_grid_0_AutoML_20181003_005235_model_25</td>\n",
       "      <td>0.107258</td>\n",
       "      <td>2.459990e+00</td>\n",
       "      <td>3.006403e-01</td>\n",
       "      <td>9.038461e-02</td>\n",
       "    </tr>\n",
       "    <tr>\n",
       "      <th>65</th>\n",
       "      <td>GBM_grid_0_AutoML_20181003_005235_model_37</td>\n",
       "      <td>0.137366</td>\n",
       "      <td>1.074253e+00</td>\n",
       "      <td>6.584340e-01</td>\n",
       "      <td>4.335353e-01</td>\n",
       "    </tr>\n",
       "    <tr>\n",
       "      <th>66</th>\n",
       "      <td>StackedEnsemble_BestOfFamily_0_AutoML_20181003...</td>\n",
       "      <td>0.666667</td>\n",
       "      <td>1.089925e+00</td>\n",
       "      <td>6.623274e-01</td>\n",
       "      <td>4.386776e-01</td>\n",
       "    </tr>\n",
       "  </tbody>\n",
       "</table>\n",
       "<p>67 rows × 5 columns</p>\n",
       "</div>"
      ],
      "text/plain": [
       "                                             model_id  mean_per_class_error  \\\n",
       "0                        DRF_0_AutoML_20181003_005235              0.000000   \n",
       "1           GBM_grid_0_AutoML_20181003_005235_model_1              0.000000   \n",
       "2          GBM_grid_0_AutoML_20181003_005235_model_72              0.000000   \n",
       "3          GBM_grid_0_AutoML_20181003_005235_model_57              0.000000   \n",
       "4   StackedEnsemble_AllModels_0_AutoML_20181003_00...              0.000000   \n",
       "5           GBM_grid_0_AutoML_20181003_005235_model_3              0.000000   \n",
       "6           GLM_grid_0_AutoML_20181003_005235_model_0              0.000000   \n",
       "7          GBM_grid_0_AutoML_20181003_005235_model_49              0.000000   \n",
       "8          GBM_grid_0_AutoML_20181003_005235_model_13              0.000000   \n",
       "9          GBM_grid_0_AutoML_20181003_005235_model_16              0.000000   \n",
       "10         GBM_grid_0_AutoML_20181003_005235_model_17              0.000000   \n",
       "11          GBM_grid_0_AutoML_20181003_005235_model_9              0.000000   \n",
       "12         GBM_grid_0_AutoML_20181003_005235_model_34              0.000000   \n",
       "13         GBM_grid_0_AutoML_20181003_005235_model_56              0.000000   \n",
       "14         GBM_grid_0_AutoML_20181003_005235_model_35              0.000000   \n",
       "15         GBM_grid_0_AutoML_20181003_005235_model_69              0.000000   \n",
       "16         GBM_grid_0_AutoML_20181003_005235_model_48              0.000000   \n",
       "17         GBM_grid_0_AutoML_20181003_005235_model_60              0.000000   \n",
       "18          GBM_grid_0_AutoML_20181003_005235_model_2              0.000000   \n",
       "19         GBM_grid_0_AutoML_20181003_005235_model_40              0.000000   \n",
       "20         GBM_grid_0_AutoML_20181003_005235_model_54              0.000000   \n",
       "21         GBM_grid_0_AutoML_20181003_005235_model_11              0.000000   \n",
       "22         GBM_grid_0_AutoML_20181003_005235_model_63              0.000000   \n",
       "23         GBM_grid_0_AutoML_20181003_005235_model_65              0.000000   \n",
       "24          GBM_grid_0_AutoML_20181003_005235_model_0              0.000000   \n",
       "25         GBM_grid_0_AutoML_20181003_005235_model_58              0.000000   \n",
       "26         GBM_grid_0_AutoML_20181003_005235_model_41              0.000000   \n",
       "27                       XRT_0_AutoML_20181003_005235              0.000000   \n",
       "28         GBM_grid_0_AutoML_20181003_005235_model_71              0.000000   \n",
       "29         GBM_grid_0_AutoML_20181003_005235_model_27              0.000000   \n",
       "..                                                ...                   ...   \n",
       "37         GBM_grid_0_AutoML_20181003_005235_model_39              0.008333   \n",
       "38         GBM_grid_0_AutoML_20181003_005235_model_33              0.008333   \n",
       "39         GBM_grid_0_AutoML_20181003_005235_model_44              0.008333   \n",
       "40         GBM_grid_0_AutoML_20181003_005235_model_50              0.008333   \n",
       "41         GBM_grid_0_AutoML_20181003_005235_model_20              0.008333   \n",
       "42         GBM_grid_0_AutoML_20181003_005235_model_30              0.008333   \n",
       "43         GBM_grid_0_AutoML_20181003_005235_model_52              0.008333   \n",
       "44         GBM_grid_0_AutoML_20181003_005235_model_22              0.008333   \n",
       "45         GBM_grid_0_AutoML_20181003_005235_model_32              0.008333   \n",
       "46          GBM_grid_0_AutoML_20181003_005235_model_5              0.008333   \n",
       "47         GBM_grid_0_AutoML_20181003_005235_model_21              0.008333   \n",
       "48         GBM_grid_0_AutoML_20181003_005235_model_23              0.008333   \n",
       "49         GBM_grid_0_AutoML_20181003_005235_model_28              0.008333   \n",
       "50         GBM_grid_0_AutoML_20181003_005235_model_19              0.008333   \n",
       "51         GBM_grid_0_AutoML_20181003_005235_model_12              0.008333   \n",
       "52         GBM_grid_0_AutoML_20181003_005235_model_68              0.010753   \n",
       "53          GBM_grid_0_AutoML_20181003_005235_model_8              0.010753   \n",
       "54         GBM_grid_0_AutoML_20181003_005235_model_26              0.010753   \n",
       "55              DeepLearning_0_AutoML_20181003_005235              0.011111   \n",
       "56         GBM_grid_0_AutoML_20181003_005235_model_61              0.019086   \n",
       "57         GBM_grid_0_AutoML_20181003_005235_model_24              0.019086   \n",
       "58         GBM_grid_0_AutoML_20181003_005235_model_59              0.021505   \n",
       "59         GBM_grid_0_AutoML_20181003_005235_model_70              0.021864   \n",
       "60         GBM_grid_0_AutoML_20181003_005235_model_43              0.027419   \n",
       "61         GBM_grid_0_AutoML_20181003_005235_model_66              0.029839   \n",
       "62         GBM_grid_0_AutoML_20181003_005235_model_64              0.040950   \n",
       "63         GBM_grid_0_AutoML_20181003_005235_model_42              0.094355   \n",
       "64         GBM_grid_0_AutoML_20181003_005235_model_25              0.107258   \n",
       "65         GBM_grid_0_AutoML_20181003_005235_model_37              0.137366   \n",
       "66  StackedEnsemble_BestOfFamily_0_AutoML_20181003...              0.666667   \n",
       "\n",
       "         logloss          rmse           mse  \n",
       "0   2.969224e-02  6.992901e-02  4.890066e-03  \n",
       "1   2.637156e-07  2.265790e-06  5.133806e-12  \n",
       "2   8.353590e-09  1.019511e-08  1.039402e-16  \n",
       "3   1.040738e+00  6.468061e-01  4.183581e-01  \n",
       "4   1.110656e-02  1.458604e-02  2.127524e-04  \n",
       "5   1.034146e-06  8.727223e-06  7.616442e-11  \n",
       "6   7.728962e-03  2.986393e-02  8.918545e-04  \n",
       "7   1.056636e+00  6.523663e-01  4.255818e-01  \n",
       "8   7.541721e-07  7.562790e-06  5.719579e-11  \n",
       "9   2.323549e-05  2.112606e-04  4.463106e-08  \n",
       "10  2.994007e-03  2.156809e-02  4.651827e-04  \n",
       "11  1.043825e+00  6.478911e-01  4.197629e-01  \n",
       "12  1.363046e-16  2.460313e-16  6.053141e-32  \n",
       "13  6.845687e-04  6.641213e-03  4.410571e-05  \n",
       "14  3.426154e-04  2.400379e-03  5.761821e-06  \n",
       "15  1.155920e-03  1.094015e-02  1.196870e-04  \n",
       "16  5.159439e-03  2.985161e-02  8.911189e-04  \n",
       "17  1.043641e+00  6.478276e-01  4.196805e-01  \n",
       "18  1.023383e-06  8.591144e-06  7.380775e-11  \n",
       "19  1.053996e+00  6.514481e-01  4.243846e-01  \n",
       "20  1.512258e-03  7.815576e-03  6.108323e-05  \n",
       "21  1.043408e+00  6.477460e-01  4.195749e-01  \n",
       "22  1.041916e+00  6.472218e-01  4.188961e-01  \n",
       "23  7.376275e-07  7.356705e-06  5.412111e-11  \n",
       "24  3.155848e-05  3.165936e-04  1.002315e-07  \n",
       "25  1.019046e-02  3.971381e-02  1.577187e-03  \n",
       "26  4.442741e-03  3.597546e-02  1.294234e-03  \n",
       "27  3.109663e-02  7.951273e-02  6.322275e-03  \n",
       "28  1.816931e-03  2.636612e-03  6.951725e-06  \n",
       "29  4.909264e-04  4.792024e-03  2.296349e-05  \n",
       "..           ...           ...           ...  \n",
       "37  9.937023e-02  1.376646e-01  1.895154e-02  \n",
       "38  2.013229e-02  7.961376e-02  6.338351e-03  \n",
       "39  2.687338e-02  9.590138e-02  9.197074e-03  \n",
       "40  2.000702e-02  8.464107e-02  7.164111e-03  \n",
       "41  2.956889e-02  9.468294e-02  8.964859e-03  \n",
       "42  6.571860e-02  9.937333e-02  9.875059e-03  \n",
       "43  1.520806e-01  1.803759e-01  3.253548e-02  \n",
       "44  1.055218e+00  6.518747e-01  4.249406e-01  \n",
       "45  1.502142e-02  6.047252e-02  3.656925e-03  \n",
       "46  1.264032e-01  1.597043e-01  2.550546e-02  \n",
       "47  7.094395e-02  1.130958e-01  1.279067e-02  \n",
       "48  1.055042e+00  6.518145e-01  4.248621e-01  \n",
       "49  9.123509e-03  5.560682e-02  3.092118e-03  \n",
       "50  1.421507e-02  6.691647e-02  4.477814e-03  \n",
       "51  1.643324e-02  7.154274e-02  5.118363e-03  \n",
       "52  4.236938e-02  1.073435e-01  1.152263e-02  \n",
       "53  4.224826e-02  1.060983e-01  1.125685e-02  \n",
       "54  1.522049e-01  1.825088e-01  3.330948e-02  \n",
       "55  1.193865e-01  1.444927e-01  2.087813e-02  \n",
       "56  3.264270e-02  1.053260e-01  1.109356e-02  \n",
       "57  5.698915e-02  1.310782e-01  1.718150e-02  \n",
       "58  1.059015e+00  6.531829e-01  4.266479e-01  \n",
       "59  4.508286e-02  1.150503e-01  1.323657e-02  \n",
       "60  1.734178e-01  1.714483e-01  2.939451e-02  \n",
       "61  8.487673e-02  1.489588e-01  2.218872e-02  \n",
       "62  1.337812e-01  1.740834e-01  3.030504e-02  \n",
       "63  8.955948e-01  5.908102e-01  3.490567e-01  \n",
       "64  2.459990e+00  3.006403e-01  9.038461e-02  \n",
       "65  1.074253e+00  6.584340e-01  4.335353e-01  \n",
       "66  1.089925e+00  6.623274e-01  4.386776e-01  \n",
       "\n",
       "[67 rows x 5 columns]"
      ]
     },
     "execution_count": 38,
     "metadata": {},
     "output_type": "execute_result"
    }
   ],
   "source": [
    "aml_leaderboard_df"
   ]
  },
  {
   "cell_type": "code",
   "execution_count": 39,
   "metadata": {
    "collapsed": true
   },
   "outputs": [],
   "source": [
    "# STart best model as first model\n",
    "\n",
    "model_set=aml_leaderboard_df['model_id']\n",
    "mod_best=h2o.get_model(model_set[0])"
   ]
  },
  {
   "cell_type": "code",
   "execution_count": 40,
   "metadata": {},
   "outputs": [
    {
     "data": {
      "text/plain": [
       "'DRF_0_AutoML_20181003_005235'"
      ]
     },
     "execution_count": 40,
     "metadata": {},
     "output_type": "execute_result"
    }
   ],
   "source": [
    "mod_best._id"
   ]
  },
  {
   "cell_type": "code",
   "execution_count": 41,
   "metadata": {
    "collapsed": true
   },
   "outputs": [],
   "source": [
    "# Get stacked ensemble  \n",
    "se=get_stacked_ensemble(model_set)"
   ]
  },
  {
   "cell_type": "code",
   "execution_count": 42,
   "metadata": {},
   "outputs": [
    {
     "name": "stdout",
     "output_type": "stream",
     "text": [
      "StackedEnsemble_BestOfFamily_0_AutoML_20181003_005235\n"
     ]
    }
   ],
   "source": [
    "print(se)"
   ]
  },
  {
   "cell_type": "code",
   "execution_count": 43,
   "metadata": {
    "collapsed": true
   },
   "outputs": [],
   "source": [
    "if se is not None:\n",
    "  mod_best=h2o.get_model(se)"
   ]
  },
  {
   "cell_type": "code",
   "execution_count": 44,
   "metadata": {},
   "outputs": [
    {
     "data": {
      "text/plain": [
       "'StackedEnsemble_BestOfFamily_0_AutoML_20181003_005235'"
      ]
     },
     "execution_count": 44,
     "metadata": {},
     "output_type": "execute_result"
    }
   ],
   "source": [
    "mod_best._id"
   ]
  },
  {
   "cell_type": "code",
   "execution_count": 45,
   "metadata": {},
   "outputs": [
    {
     "data": {
      "text/plain": [
       "<function h2o.model.model_base.ModelBase._get_metrics>"
      ]
     },
     "execution_count": 45,
     "metadata": {},
     "output_type": "execute_result"
    }
   ],
   "source": [
    "mod_best._get_metrics"
   ]
  },
  {
   "cell_type": "code",
   "execution_count": 46,
   "metadata": {},
   "outputs": [
    {
     "data": {
      "text/plain": [
       "h2o.estimators.stackedensemble.H2OStackedEnsembleEstimator"
      ]
     },
     "execution_count": 46,
     "metadata": {},
     "output_type": "execute_result"
    }
   ],
   "source": [
    "type(mod_best)"
   ]
  },
  {
   "cell_type": "code",
   "execution_count": 47,
   "metadata": {},
   "outputs": [
    {
     "name": "stdout",
     "output_type": "stream",
     "text": [
      "Model Details\n",
      "=============\n",
      "H2OStackedEnsembleEstimator :  Stacked Ensemble\n",
      "Model Key:  StackedEnsemble_BestOfFamily_0_AutoML_20181003_005235\n",
      "No model summary for this model\n",
      "\n",
      "\n",
      "ModelMetricsMultinomialGLM: stackedensemble\n",
      "** Reported on train data. **\n",
      "\n",
      "MSE: 0.43867762915885744\n",
      "RMSE: 0.6623274334940819\n",
      "\n",
      "ModelMetricsMultinomialGLM: stackedensemble\n",
      "** Reported on validation data. **\n",
      "\n",
      "MSE: 0.45802891296701026\n",
      "RMSE: 0.6767783337009321\n",
      "\n",
      "ModelMetricsMultinomialGLM: stackedensemble\n",
      "** Reported on cross-validation data. **\n",
      "\n",
      "MSE: 0.4386776291588575\n",
      "RMSE: 0.662327433494082\n",
      "<bound method ModelBase.coef_norm of >\n"
     ]
    }
   ],
   "source": [
    "mods=mod_best.coef_norm\n",
    "print(mods)"
   ]
  },
  {
   "cell_type": "code",
   "execution_count": 48,
   "metadata": {
    "collapsed": true
   },
   "outputs": [],
   "source": [
    "bm=stackedensemble_df(aml_leaderboard_df)"
   ]
  },
  {
   "cell_type": "code",
   "execution_count": 49,
   "metadata": {},
   "outputs": [
    {
     "data": {
      "text/plain": [
       "['GBM_grid_0_AutoML_20181003_005235_model_1',\n",
       " 'GLM_grid_0_AutoML_20181003_005235_model_0',\n",
       " 'DRF_0_AutoML_20181003_005235',\n",
       " 'XRT_0_AutoML_20181003_005235',\n",
       " 'DeepLearning_0_AutoML_20181003_005235']"
      ]
     },
     "execution_count": 49,
     "metadata": {},
     "output_type": "execute_result"
    }
   ],
   "source": [
    "bm"
   ]
  },
  {
   "cell_type": "code",
   "execution_count": 50,
   "metadata": {},
   "outputs": [
    {
     "data": {
      "text/html": [
       "<div>\n",
       "<style>\n",
       "    .dataframe thead tr:only-child th {\n",
       "        text-align: right;\n",
       "    }\n",
       "\n",
       "    .dataframe thead th {\n",
       "        text-align: left;\n",
       "    }\n",
       "\n",
       "    .dataframe tbody tr th {\n",
       "        vertical-align: top;\n",
       "    }\n",
       "</style>\n",
       "<table border=\"1\" class=\"dataframe\">\n",
       "  <thead>\n",
       "    <tr style=\"text-align: right;\">\n",
       "      <th></th>\n",
       "      <th>model_id</th>\n",
       "      <th>mean_per_class_error</th>\n",
       "      <th>logloss</th>\n",
       "      <th>rmse</th>\n",
       "      <th>mse</th>\n",
       "    </tr>\n",
       "  </thead>\n",
       "  <tbody>\n",
       "    <tr>\n",
       "      <th>0</th>\n",
       "      <td>DRF_0_AutoML_20181003_005235</td>\n",
       "      <td>0.000000</td>\n",
       "      <td>2.969224e-02</td>\n",
       "      <td>6.992901e-02</td>\n",
       "      <td>4.890066e-03</td>\n",
       "    </tr>\n",
       "    <tr>\n",
       "      <th>1</th>\n",
       "      <td>GBM_grid_0_AutoML_20181003_005235_model_1</td>\n",
       "      <td>0.000000</td>\n",
       "      <td>2.637156e-07</td>\n",
       "      <td>2.265790e-06</td>\n",
       "      <td>5.133806e-12</td>\n",
       "    </tr>\n",
       "    <tr>\n",
       "      <th>2</th>\n",
       "      <td>GBM_grid_0_AutoML_20181003_005235_model_72</td>\n",
       "      <td>0.000000</td>\n",
       "      <td>8.353590e-09</td>\n",
       "      <td>1.019511e-08</td>\n",
       "      <td>1.039402e-16</td>\n",
       "    </tr>\n",
       "    <tr>\n",
       "      <th>3</th>\n",
       "      <td>GBM_grid_0_AutoML_20181003_005235_model_57</td>\n",
       "      <td>0.000000</td>\n",
       "      <td>1.040738e+00</td>\n",
       "      <td>6.468061e-01</td>\n",
       "      <td>4.183581e-01</td>\n",
       "    </tr>\n",
       "    <tr>\n",
       "      <th>4</th>\n",
       "      <td>StackedEnsemble_AllModels_0_AutoML_20181003_00...</td>\n",
       "      <td>0.000000</td>\n",
       "      <td>1.110656e-02</td>\n",
       "      <td>1.458604e-02</td>\n",
       "      <td>2.127524e-04</td>\n",
       "    </tr>\n",
       "    <tr>\n",
       "      <th>5</th>\n",
       "      <td>GBM_grid_0_AutoML_20181003_005235_model_3</td>\n",
       "      <td>0.000000</td>\n",
       "      <td>1.034146e-06</td>\n",
       "      <td>8.727223e-06</td>\n",
       "      <td>7.616442e-11</td>\n",
       "    </tr>\n",
       "    <tr>\n",
       "      <th>6</th>\n",
       "      <td>GLM_grid_0_AutoML_20181003_005235_model_0</td>\n",
       "      <td>0.000000</td>\n",
       "      <td>7.728962e-03</td>\n",
       "      <td>2.986393e-02</td>\n",
       "      <td>8.918545e-04</td>\n",
       "    </tr>\n",
       "    <tr>\n",
       "      <th>7</th>\n",
       "      <td>GBM_grid_0_AutoML_20181003_005235_model_49</td>\n",
       "      <td>0.000000</td>\n",
       "      <td>1.056636e+00</td>\n",
       "      <td>6.523663e-01</td>\n",
       "      <td>4.255818e-01</td>\n",
       "    </tr>\n",
       "    <tr>\n",
       "      <th>8</th>\n",
       "      <td>GBM_grid_0_AutoML_20181003_005235_model_13</td>\n",
       "      <td>0.000000</td>\n",
       "      <td>7.541721e-07</td>\n",
       "      <td>7.562790e-06</td>\n",
       "      <td>5.719579e-11</td>\n",
       "    </tr>\n",
       "    <tr>\n",
       "      <th>9</th>\n",
       "      <td>GBM_grid_0_AutoML_20181003_005235_model_16</td>\n",
       "      <td>0.000000</td>\n",
       "      <td>2.323549e-05</td>\n",
       "      <td>2.112606e-04</td>\n",
       "      <td>4.463106e-08</td>\n",
       "    </tr>\n",
       "    <tr>\n",
       "      <th>10</th>\n",
       "      <td>GBM_grid_0_AutoML_20181003_005235_model_17</td>\n",
       "      <td>0.000000</td>\n",
       "      <td>2.994007e-03</td>\n",
       "      <td>2.156809e-02</td>\n",
       "      <td>4.651827e-04</td>\n",
       "    </tr>\n",
       "    <tr>\n",
       "      <th>11</th>\n",
       "      <td>GBM_grid_0_AutoML_20181003_005235_model_9</td>\n",
       "      <td>0.000000</td>\n",
       "      <td>1.043825e+00</td>\n",
       "      <td>6.478911e-01</td>\n",
       "      <td>4.197629e-01</td>\n",
       "    </tr>\n",
       "    <tr>\n",
       "      <th>12</th>\n",
       "      <td>GBM_grid_0_AutoML_20181003_005235_model_34</td>\n",
       "      <td>0.000000</td>\n",
       "      <td>1.363046e-16</td>\n",
       "      <td>2.460313e-16</td>\n",
       "      <td>6.053141e-32</td>\n",
       "    </tr>\n",
       "    <tr>\n",
       "      <th>13</th>\n",
       "      <td>GBM_grid_0_AutoML_20181003_005235_model_56</td>\n",
       "      <td>0.000000</td>\n",
       "      <td>6.845687e-04</td>\n",
       "      <td>6.641213e-03</td>\n",
       "      <td>4.410571e-05</td>\n",
       "    </tr>\n",
       "    <tr>\n",
       "      <th>14</th>\n",
       "      <td>GBM_grid_0_AutoML_20181003_005235_model_35</td>\n",
       "      <td>0.000000</td>\n",
       "      <td>3.426154e-04</td>\n",
       "      <td>2.400379e-03</td>\n",
       "      <td>5.761821e-06</td>\n",
       "    </tr>\n",
       "    <tr>\n",
       "      <th>15</th>\n",
       "      <td>GBM_grid_0_AutoML_20181003_005235_model_69</td>\n",
       "      <td>0.000000</td>\n",
       "      <td>1.155920e-03</td>\n",
       "      <td>1.094015e-02</td>\n",
       "      <td>1.196870e-04</td>\n",
       "    </tr>\n",
       "    <tr>\n",
       "      <th>16</th>\n",
       "      <td>GBM_grid_0_AutoML_20181003_005235_model_48</td>\n",
       "      <td>0.000000</td>\n",
       "      <td>5.159439e-03</td>\n",
       "      <td>2.985161e-02</td>\n",
       "      <td>8.911189e-04</td>\n",
       "    </tr>\n",
       "    <tr>\n",
       "      <th>17</th>\n",
       "      <td>GBM_grid_0_AutoML_20181003_005235_model_60</td>\n",
       "      <td>0.000000</td>\n",
       "      <td>1.043641e+00</td>\n",
       "      <td>6.478276e-01</td>\n",
       "      <td>4.196805e-01</td>\n",
       "    </tr>\n",
       "    <tr>\n",
       "      <th>18</th>\n",
       "      <td>GBM_grid_0_AutoML_20181003_005235_model_2</td>\n",
       "      <td>0.000000</td>\n",
       "      <td>1.023383e-06</td>\n",
       "      <td>8.591144e-06</td>\n",
       "      <td>7.380775e-11</td>\n",
       "    </tr>\n",
       "    <tr>\n",
       "      <th>19</th>\n",
       "      <td>GBM_grid_0_AutoML_20181003_005235_model_40</td>\n",
       "      <td>0.000000</td>\n",
       "      <td>1.053996e+00</td>\n",
       "      <td>6.514481e-01</td>\n",
       "      <td>4.243846e-01</td>\n",
       "    </tr>\n",
       "    <tr>\n",
       "      <th>20</th>\n",
       "      <td>GBM_grid_0_AutoML_20181003_005235_model_54</td>\n",
       "      <td>0.000000</td>\n",
       "      <td>1.512258e-03</td>\n",
       "      <td>7.815576e-03</td>\n",
       "      <td>6.108323e-05</td>\n",
       "    </tr>\n",
       "    <tr>\n",
       "      <th>21</th>\n",
       "      <td>GBM_grid_0_AutoML_20181003_005235_model_11</td>\n",
       "      <td>0.000000</td>\n",
       "      <td>1.043408e+00</td>\n",
       "      <td>6.477460e-01</td>\n",
       "      <td>4.195749e-01</td>\n",
       "    </tr>\n",
       "    <tr>\n",
       "      <th>22</th>\n",
       "      <td>GBM_grid_0_AutoML_20181003_005235_model_63</td>\n",
       "      <td>0.000000</td>\n",
       "      <td>1.041916e+00</td>\n",
       "      <td>6.472218e-01</td>\n",
       "      <td>4.188961e-01</td>\n",
       "    </tr>\n",
       "    <tr>\n",
       "      <th>23</th>\n",
       "      <td>GBM_grid_0_AutoML_20181003_005235_model_65</td>\n",
       "      <td>0.000000</td>\n",
       "      <td>7.376275e-07</td>\n",
       "      <td>7.356705e-06</td>\n",
       "      <td>5.412111e-11</td>\n",
       "    </tr>\n",
       "    <tr>\n",
       "      <th>24</th>\n",
       "      <td>GBM_grid_0_AutoML_20181003_005235_model_0</td>\n",
       "      <td>0.000000</td>\n",
       "      <td>3.155848e-05</td>\n",
       "      <td>3.165936e-04</td>\n",
       "      <td>1.002315e-07</td>\n",
       "    </tr>\n",
       "    <tr>\n",
       "      <th>25</th>\n",
       "      <td>GBM_grid_0_AutoML_20181003_005235_model_58</td>\n",
       "      <td>0.000000</td>\n",
       "      <td>1.019046e-02</td>\n",
       "      <td>3.971381e-02</td>\n",
       "      <td>1.577187e-03</td>\n",
       "    </tr>\n",
       "    <tr>\n",
       "      <th>26</th>\n",
       "      <td>GBM_grid_0_AutoML_20181003_005235_model_41</td>\n",
       "      <td>0.000000</td>\n",
       "      <td>4.442741e-03</td>\n",
       "      <td>3.597546e-02</td>\n",
       "      <td>1.294234e-03</td>\n",
       "    </tr>\n",
       "    <tr>\n",
       "      <th>27</th>\n",
       "      <td>XRT_0_AutoML_20181003_005235</td>\n",
       "      <td>0.000000</td>\n",
       "      <td>3.109663e-02</td>\n",
       "      <td>7.951273e-02</td>\n",
       "      <td>6.322275e-03</td>\n",
       "    </tr>\n",
       "    <tr>\n",
       "      <th>28</th>\n",
       "      <td>GBM_grid_0_AutoML_20181003_005235_model_71</td>\n",
       "      <td>0.000000</td>\n",
       "      <td>1.816931e-03</td>\n",
       "      <td>2.636612e-03</td>\n",
       "      <td>6.951725e-06</td>\n",
       "    </tr>\n",
       "    <tr>\n",
       "      <th>29</th>\n",
       "      <td>GBM_grid_0_AutoML_20181003_005235_model_27</td>\n",
       "      <td>0.000000</td>\n",
       "      <td>4.909264e-04</td>\n",
       "      <td>4.792024e-03</td>\n",
       "      <td>2.296349e-05</td>\n",
       "    </tr>\n",
       "    <tr>\n",
       "      <th>...</th>\n",
       "      <td>...</td>\n",
       "      <td>...</td>\n",
       "      <td>...</td>\n",
       "      <td>...</td>\n",
       "      <td>...</td>\n",
       "    </tr>\n",
       "    <tr>\n",
       "      <th>37</th>\n",
       "      <td>GBM_grid_0_AutoML_20181003_005235_model_39</td>\n",
       "      <td>0.008333</td>\n",
       "      <td>9.937023e-02</td>\n",
       "      <td>1.376646e-01</td>\n",
       "      <td>1.895154e-02</td>\n",
       "    </tr>\n",
       "    <tr>\n",
       "      <th>38</th>\n",
       "      <td>GBM_grid_0_AutoML_20181003_005235_model_33</td>\n",
       "      <td>0.008333</td>\n",
       "      <td>2.013229e-02</td>\n",
       "      <td>7.961376e-02</td>\n",
       "      <td>6.338351e-03</td>\n",
       "    </tr>\n",
       "    <tr>\n",
       "      <th>39</th>\n",
       "      <td>GBM_grid_0_AutoML_20181003_005235_model_44</td>\n",
       "      <td>0.008333</td>\n",
       "      <td>2.687338e-02</td>\n",
       "      <td>9.590138e-02</td>\n",
       "      <td>9.197074e-03</td>\n",
       "    </tr>\n",
       "    <tr>\n",
       "      <th>40</th>\n",
       "      <td>GBM_grid_0_AutoML_20181003_005235_model_50</td>\n",
       "      <td>0.008333</td>\n",
       "      <td>2.000702e-02</td>\n",
       "      <td>8.464107e-02</td>\n",
       "      <td>7.164111e-03</td>\n",
       "    </tr>\n",
       "    <tr>\n",
       "      <th>41</th>\n",
       "      <td>GBM_grid_0_AutoML_20181003_005235_model_20</td>\n",
       "      <td>0.008333</td>\n",
       "      <td>2.956889e-02</td>\n",
       "      <td>9.468294e-02</td>\n",
       "      <td>8.964859e-03</td>\n",
       "    </tr>\n",
       "    <tr>\n",
       "      <th>42</th>\n",
       "      <td>GBM_grid_0_AutoML_20181003_005235_model_30</td>\n",
       "      <td>0.008333</td>\n",
       "      <td>6.571860e-02</td>\n",
       "      <td>9.937333e-02</td>\n",
       "      <td>9.875059e-03</td>\n",
       "    </tr>\n",
       "    <tr>\n",
       "      <th>43</th>\n",
       "      <td>GBM_grid_0_AutoML_20181003_005235_model_52</td>\n",
       "      <td>0.008333</td>\n",
       "      <td>1.520806e-01</td>\n",
       "      <td>1.803759e-01</td>\n",
       "      <td>3.253548e-02</td>\n",
       "    </tr>\n",
       "    <tr>\n",
       "      <th>44</th>\n",
       "      <td>GBM_grid_0_AutoML_20181003_005235_model_22</td>\n",
       "      <td>0.008333</td>\n",
       "      <td>1.055218e+00</td>\n",
       "      <td>6.518747e-01</td>\n",
       "      <td>4.249406e-01</td>\n",
       "    </tr>\n",
       "    <tr>\n",
       "      <th>45</th>\n",
       "      <td>GBM_grid_0_AutoML_20181003_005235_model_32</td>\n",
       "      <td>0.008333</td>\n",
       "      <td>1.502142e-02</td>\n",
       "      <td>6.047252e-02</td>\n",
       "      <td>3.656925e-03</td>\n",
       "    </tr>\n",
       "    <tr>\n",
       "      <th>46</th>\n",
       "      <td>GBM_grid_0_AutoML_20181003_005235_model_5</td>\n",
       "      <td>0.008333</td>\n",
       "      <td>1.264032e-01</td>\n",
       "      <td>1.597043e-01</td>\n",
       "      <td>2.550546e-02</td>\n",
       "    </tr>\n",
       "    <tr>\n",
       "      <th>47</th>\n",
       "      <td>GBM_grid_0_AutoML_20181003_005235_model_21</td>\n",
       "      <td>0.008333</td>\n",
       "      <td>7.094395e-02</td>\n",
       "      <td>1.130958e-01</td>\n",
       "      <td>1.279067e-02</td>\n",
       "    </tr>\n",
       "    <tr>\n",
       "      <th>48</th>\n",
       "      <td>GBM_grid_0_AutoML_20181003_005235_model_23</td>\n",
       "      <td>0.008333</td>\n",
       "      <td>1.055042e+00</td>\n",
       "      <td>6.518145e-01</td>\n",
       "      <td>4.248621e-01</td>\n",
       "    </tr>\n",
       "    <tr>\n",
       "      <th>49</th>\n",
       "      <td>GBM_grid_0_AutoML_20181003_005235_model_28</td>\n",
       "      <td>0.008333</td>\n",
       "      <td>9.123509e-03</td>\n",
       "      <td>5.560682e-02</td>\n",
       "      <td>3.092118e-03</td>\n",
       "    </tr>\n",
       "    <tr>\n",
       "      <th>50</th>\n",
       "      <td>GBM_grid_0_AutoML_20181003_005235_model_19</td>\n",
       "      <td>0.008333</td>\n",
       "      <td>1.421507e-02</td>\n",
       "      <td>6.691647e-02</td>\n",
       "      <td>4.477814e-03</td>\n",
       "    </tr>\n",
       "    <tr>\n",
       "      <th>51</th>\n",
       "      <td>GBM_grid_0_AutoML_20181003_005235_model_12</td>\n",
       "      <td>0.008333</td>\n",
       "      <td>1.643324e-02</td>\n",
       "      <td>7.154274e-02</td>\n",
       "      <td>5.118363e-03</td>\n",
       "    </tr>\n",
       "    <tr>\n",
       "      <th>52</th>\n",
       "      <td>GBM_grid_0_AutoML_20181003_005235_model_68</td>\n",
       "      <td>0.010753</td>\n",
       "      <td>4.236938e-02</td>\n",
       "      <td>1.073435e-01</td>\n",
       "      <td>1.152263e-02</td>\n",
       "    </tr>\n",
       "    <tr>\n",
       "      <th>53</th>\n",
       "      <td>GBM_grid_0_AutoML_20181003_005235_model_8</td>\n",
       "      <td>0.010753</td>\n",
       "      <td>4.224826e-02</td>\n",
       "      <td>1.060983e-01</td>\n",
       "      <td>1.125685e-02</td>\n",
       "    </tr>\n",
       "    <tr>\n",
       "      <th>54</th>\n",
       "      <td>GBM_grid_0_AutoML_20181003_005235_model_26</td>\n",
       "      <td>0.010753</td>\n",
       "      <td>1.522049e-01</td>\n",
       "      <td>1.825088e-01</td>\n",
       "      <td>3.330948e-02</td>\n",
       "    </tr>\n",
       "    <tr>\n",
       "      <th>55</th>\n",
       "      <td>DeepLearning_0_AutoML_20181003_005235</td>\n",
       "      <td>0.011111</td>\n",
       "      <td>1.193865e-01</td>\n",
       "      <td>1.444927e-01</td>\n",
       "      <td>2.087813e-02</td>\n",
       "    </tr>\n",
       "    <tr>\n",
       "      <th>56</th>\n",
       "      <td>GBM_grid_0_AutoML_20181003_005235_model_61</td>\n",
       "      <td>0.019086</td>\n",
       "      <td>3.264270e-02</td>\n",
       "      <td>1.053260e-01</td>\n",
       "      <td>1.109356e-02</td>\n",
       "    </tr>\n",
       "    <tr>\n",
       "      <th>57</th>\n",
       "      <td>GBM_grid_0_AutoML_20181003_005235_model_24</td>\n",
       "      <td>0.019086</td>\n",
       "      <td>5.698915e-02</td>\n",
       "      <td>1.310782e-01</td>\n",
       "      <td>1.718150e-02</td>\n",
       "    </tr>\n",
       "    <tr>\n",
       "      <th>58</th>\n",
       "      <td>GBM_grid_0_AutoML_20181003_005235_model_59</td>\n",
       "      <td>0.021505</td>\n",
       "      <td>1.059015e+00</td>\n",
       "      <td>6.531829e-01</td>\n",
       "      <td>4.266479e-01</td>\n",
       "    </tr>\n",
       "    <tr>\n",
       "      <th>59</th>\n",
       "      <td>GBM_grid_0_AutoML_20181003_005235_model_70</td>\n",
       "      <td>0.021864</td>\n",
       "      <td>4.508286e-02</td>\n",
       "      <td>1.150503e-01</td>\n",
       "      <td>1.323657e-02</td>\n",
       "    </tr>\n",
       "    <tr>\n",
       "      <th>60</th>\n",
       "      <td>GBM_grid_0_AutoML_20181003_005235_model_43</td>\n",
       "      <td>0.027419</td>\n",
       "      <td>1.734178e-01</td>\n",
       "      <td>1.714483e-01</td>\n",
       "      <td>2.939451e-02</td>\n",
       "    </tr>\n",
       "    <tr>\n",
       "      <th>61</th>\n",
       "      <td>GBM_grid_0_AutoML_20181003_005235_model_66</td>\n",
       "      <td>0.029839</td>\n",
       "      <td>8.487673e-02</td>\n",
       "      <td>1.489588e-01</td>\n",
       "      <td>2.218872e-02</td>\n",
       "    </tr>\n",
       "    <tr>\n",
       "      <th>62</th>\n",
       "      <td>GBM_grid_0_AutoML_20181003_005235_model_64</td>\n",
       "      <td>0.040950</td>\n",
       "      <td>1.337812e-01</td>\n",
       "      <td>1.740834e-01</td>\n",
       "      <td>3.030504e-02</td>\n",
       "    </tr>\n",
       "    <tr>\n",
       "      <th>63</th>\n",
       "      <td>GBM_grid_0_AutoML_20181003_005235_model_42</td>\n",
       "      <td>0.094355</td>\n",
       "      <td>8.955948e-01</td>\n",
       "      <td>5.908102e-01</td>\n",
       "      <td>3.490567e-01</td>\n",
       "    </tr>\n",
       "    <tr>\n",
       "      <th>64</th>\n",
       "      <td>GBM_grid_0_AutoML_20181003_005235_model_25</td>\n",
       "      <td>0.107258</td>\n",
       "      <td>2.459990e+00</td>\n",
       "      <td>3.006403e-01</td>\n",
       "      <td>9.038461e-02</td>\n",
       "    </tr>\n",
       "    <tr>\n",
       "      <th>65</th>\n",
       "      <td>GBM_grid_0_AutoML_20181003_005235_model_37</td>\n",
       "      <td>0.137366</td>\n",
       "      <td>1.074253e+00</td>\n",
       "      <td>6.584340e-01</td>\n",
       "      <td>4.335353e-01</td>\n",
       "    </tr>\n",
       "    <tr>\n",
       "      <th>66</th>\n",
       "      <td>StackedEnsemble_BestOfFamily_0_AutoML_20181003...</td>\n",
       "      <td>0.666667</td>\n",
       "      <td>1.089925e+00</td>\n",
       "      <td>6.623274e-01</td>\n",
       "      <td>4.386776e-01</td>\n",
       "    </tr>\n",
       "  </tbody>\n",
       "</table>\n",
       "<p>67 rows × 5 columns</p>\n",
       "</div>"
      ],
      "text/plain": [
       "                                             model_id  mean_per_class_error  \\\n",
       "0                        DRF_0_AutoML_20181003_005235              0.000000   \n",
       "1           GBM_grid_0_AutoML_20181003_005235_model_1              0.000000   \n",
       "2          GBM_grid_0_AutoML_20181003_005235_model_72              0.000000   \n",
       "3          GBM_grid_0_AutoML_20181003_005235_model_57              0.000000   \n",
       "4   StackedEnsemble_AllModels_0_AutoML_20181003_00...              0.000000   \n",
       "5           GBM_grid_0_AutoML_20181003_005235_model_3              0.000000   \n",
       "6           GLM_grid_0_AutoML_20181003_005235_model_0              0.000000   \n",
       "7          GBM_grid_0_AutoML_20181003_005235_model_49              0.000000   \n",
       "8          GBM_grid_0_AutoML_20181003_005235_model_13              0.000000   \n",
       "9          GBM_grid_0_AutoML_20181003_005235_model_16              0.000000   \n",
       "10         GBM_grid_0_AutoML_20181003_005235_model_17              0.000000   \n",
       "11          GBM_grid_0_AutoML_20181003_005235_model_9              0.000000   \n",
       "12         GBM_grid_0_AutoML_20181003_005235_model_34              0.000000   \n",
       "13         GBM_grid_0_AutoML_20181003_005235_model_56              0.000000   \n",
       "14         GBM_grid_0_AutoML_20181003_005235_model_35              0.000000   \n",
       "15         GBM_grid_0_AutoML_20181003_005235_model_69              0.000000   \n",
       "16         GBM_grid_0_AutoML_20181003_005235_model_48              0.000000   \n",
       "17         GBM_grid_0_AutoML_20181003_005235_model_60              0.000000   \n",
       "18          GBM_grid_0_AutoML_20181003_005235_model_2              0.000000   \n",
       "19         GBM_grid_0_AutoML_20181003_005235_model_40              0.000000   \n",
       "20         GBM_grid_0_AutoML_20181003_005235_model_54              0.000000   \n",
       "21         GBM_grid_0_AutoML_20181003_005235_model_11              0.000000   \n",
       "22         GBM_grid_0_AutoML_20181003_005235_model_63              0.000000   \n",
       "23         GBM_grid_0_AutoML_20181003_005235_model_65              0.000000   \n",
       "24          GBM_grid_0_AutoML_20181003_005235_model_0              0.000000   \n",
       "25         GBM_grid_0_AutoML_20181003_005235_model_58              0.000000   \n",
       "26         GBM_grid_0_AutoML_20181003_005235_model_41              0.000000   \n",
       "27                       XRT_0_AutoML_20181003_005235              0.000000   \n",
       "28         GBM_grid_0_AutoML_20181003_005235_model_71              0.000000   \n",
       "29         GBM_grid_0_AutoML_20181003_005235_model_27              0.000000   \n",
       "..                                                ...                   ...   \n",
       "37         GBM_grid_0_AutoML_20181003_005235_model_39              0.008333   \n",
       "38         GBM_grid_0_AutoML_20181003_005235_model_33              0.008333   \n",
       "39         GBM_grid_0_AutoML_20181003_005235_model_44              0.008333   \n",
       "40         GBM_grid_0_AutoML_20181003_005235_model_50              0.008333   \n",
       "41         GBM_grid_0_AutoML_20181003_005235_model_20              0.008333   \n",
       "42         GBM_grid_0_AutoML_20181003_005235_model_30              0.008333   \n",
       "43         GBM_grid_0_AutoML_20181003_005235_model_52              0.008333   \n",
       "44         GBM_grid_0_AutoML_20181003_005235_model_22              0.008333   \n",
       "45         GBM_grid_0_AutoML_20181003_005235_model_32              0.008333   \n",
       "46          GBM_grid_0_AutoML_20181003_005235_model_5              0.008333   \n",
       "47         GBM_grid_0_AutoML_20181003_005235_model_21              0.008333   \n",
       "48         GBM_grid_0_AutoML_20181003_005235_model_23              0.008333   \n",
       "49         GBM_grid_0_AutoML_20181003_005235_model_28              0.008333   \n",
       "50         GBM_grid_0_AutoML_20181003_005235_model_19              0.008333   \n",
       "51         GBM_grid_0_AutoML_20181003_005235_model_12              0.008333   \n",
       "52         GBM_grid_0_AutoML_20181003_005235_model_68              0.010753   \n",
       "53          GBM_grid_0_AutoML_20181003_005235_model_8              0.010753   \n",
       "54         GBM_grid_0_AutoML_20181003_005235_model_26              0.010753   \n",
       "55              DeepLearning_0_AutoML_20181003_005235              0.011111   \n",
       "56         GBM_grid_0_AutoML_20181003_005235_model_61              0.019086   \n",
       "57         GBM_grid_0_AutoML_20181003_005235_model_24              0.019086   \n",
       "58         GBM_grid_0_AutoML_20181003_005235_model_59              0.021505   \n",
       "59         GBM_grid_0_AutoML_20181003_005235_model_70              0.021864   \n",
       "60         GBM_grid_0_AutoML_20181003_005235_model_43              0.027419   \n",
       "61         GBM_grid_0_AutoML_20181003_005235_model_66              0.029839   \n",
       "62         GBM_grid_0_AutoML_20181003_005235_model_64              0.040950   \n",
       "63         GBM_grid_0_AutoML_20181003_005235_model_42              0.094355   \n",
       "64         GBM_grid_0_AutoML_20181003_005235_model_25              0.107258   \n",
       "65         GBM_grid_0_AutoML_20181003_005235_model_37              0.137366   \n",
       "66  StackedEnsemble_BestOfFamily_0_AutoML_20181003...              0.666667   \n",
       "\n",
       "         logloss          rmse           mse  \n",
       "0   2.969224e-02  6.992901e-02  4.890066e-03  \n",
       "1   2.637156e-07  2.265790e-06  5.133806e-12  \n",
       "2   8.353590e-09  1.019511e-08  1.039402e-16  \n",
       "3   1.040738e+00  6.468061e-01  4.183581e-01  \n",
       "4   1.110656e-02  1.458604e-02  2.127524e-04  \n",
       "5   1.034146e-06  8.727223e-06  7.616442e-11  \n",
       "6   7.728962e-03  2.986393e-02  8.918545e-04  \n",
       "7   1.056636e+00  6.523663e-01  4.255818e-01  \n",
       "8   7.541721e-07  7.562790e-06  5.719579e-11  \n",
       "9   2.323549e-05  2.112606e-04  4.463106e-08  \n",
       "10  2.994007e-03  2.156809e-02  4.651827e-04  \n",
       "11  1.043825e+00  6.478911e-01  4.197629e-01  \n",
       "12  1.363046e-16  2.460313e-16  6.053141e-32  \n",
       "13  6.845687e-04  6.641213e-03  4.410571e-05  \n",
       "14  3.426154e-04  2.400379e-03  5.761821e-06  \n",
       "15  1.155920e-03  1.094015e-02  1.196870e-04  \n",
       "16  5.159439e-03  2.985161e-02  8.911189e-04  \n",
       "17  1.043641e+00  6.478276e-01  4.196805e-01  \n",
       "18  1.023383e-06  8.591144e-06  7.380775e-11  \n",
       "19  1.053996e+00  6.514481e-01  4.243846e-01  \n",
       "20  1.512258e-03  7.815576e-03  6.108323e-05  \n",
       "21  1.043408e+00  6.477460e-01  4.195749e-01  \n",
       "22  1.041916e+00  6.472218e-01  4.188961e-01  \n",
       "23  7.376275e-07  7.356705e-06  5.412111e-11  \n",
       "24  3.155848e-05  3.165936e-04  1.002315e-07  \n",
       "25  1.019046e-02  3.971381e-02  1.577187e-03  \n",
       "26  4.442741e-03  3.597546e-02  1.294234e-03  \n",
       "27  3.109663e-02  7.951273e-02  6.322275e-03  \n",
       "28  1.816931e-03  2.636612e-03  6.951725e-06  \n",
       "29  4.909264e-04  4.792024e-03  2.296349e-05  \n",
       "..           ...           ...           ...  \n",
       "37  9.937023e-02  1.376646e-01  1.895154e-02  \n",
       "38  2.013229e-02  7.961376e-02  6.338351e-03  \n",
       "39  2.687338e-02  9.590138e-02  9.197074e-03  \n",
       "40  2.000702e-02  8.464107e-02  7.164111e-03  \n",
       "41  2.956889e-02  9.468294e-02  8.964859e-03  \n",
       "42  6.571860e-02  9.937333e-02  9.875059e-03  \n",
       "43  1.520806e-01  1.803759e-01  3.253548e-02  \n",
       "44  1.055218e+00  6.518747e-01  4.249406e-01  \n",
       "45  1.502142e-02  6.047252e-02  3.656925e-03  \n",
       "46  1.264032e-01  1.597043e-01  2.550546e-02  \n",
       "47  7.094395e-02  1.130958e-01  1.279067e-02  \n",
       "48  1.055042e+00  6.518145e-01  4.248621e-01  \n",
       "49  9.123509e-03  5.560682e-02  3.092118e-03  \n",
       "50  1.421507e-02  6.691647e-02  4.477814e-03  \n",
       "51  1.643324e-02  7.154274e-02  5.118363e-03  \n",
       "52  4.236938e-02  1.073435e-01  1.152263e-02  \n",
       "53  4.224826e-02  1.060983e-01  1.125685e-02  \n",
       "54  1.522049e-01  1.825088e-01  3.330948e-02  \n",
       "55  1.193865e-01  1.444927e-01  2.087813e-02  \n",
       "56  3.264270e-02  1.053260e-01  1.109356e-02  \n",
       "57  5.698915e-02  1.310782e-01  1.718150e-02  \n",
       "58  1.059015e+00  6.531829e-01  4.266479e-01  \n",
       "59  4.508286e-02  1.150503e-01  1.323657e-02  \n",
       "60  1.734178e-01  1.714483e-01  2.939451e-02  \n",
       "61  8.487673e-02  1.489588e-01  2.218872e-02  \n",
       "62  1.337812e-01  1.740834e-01  3.030504e-02  \n",
       "63  8.955948e-01  5.908102e-01  3.490567e-01  \n",
       "64  2.459990e+00  3.006403e-01  9.038461e-02  \n",
       "65  1.074253e+00  6.584340e-01  4.335353e-01  \n",
       "66  1.089925e+00  6.623274e-01  4.386776e-01  \n",
       "\n",
       "[67 rows x 5 columns]"
      ]
     },
     "execution_count": 50,
     "metadata": {},
     "output_type": "execute_result"
    }
   ],
   "source": [
    "aml_leaderboard_df"
   ]
  },
  {
   "cell_type": "code",
   "execution_count": 51,
   "metadata": {
    "collapsed": true
   },
   "outputs": [],
   "source": [
    "#  Get best_models and coef_norm()\n",
    "best_models={}\n",
    "best_models=stackedensemble(mod_best)\n",
    "bm=[]\n",
    "if best_models is not None: \n",
    "  if 'Intercept' in best_models.keys():\n",
    "    del best_models['Intercept']\n",
    "  bm=list(best_models.keys())\n",
    "else:\n",
    "  best_models={}\n",
    "  bm=stackedensemble_df(aml_leaderboard_df)   \n",
    "  for b in bm:   \n",
    "    best_models[b]=None\n",
    "\n",
    "if mod_best.model_id not in bm:\n",
    "    bm.append(mod_best.model_id)"
   ]
  },
  {
   "cell_type": "code",
   "execution_count": 52,
   "metadata": {},
   "outputs": [
    {
     "data": {
      "text/plain": [
       "['GBM_grid_0_AutoML_20181003_005235_model_1',\n",
       " 'GLM_grid_0_AutoML_20181003_005235_model_0',\n",
       " 'DRF_0_AutoML_20181003_005235',\n",
       " 'XRT_0_AutoML_20181003_005235',\n",
       " 'DeepLearning_0_AutoML_20181003_005235',\n",
       " 'StackedEnsemble_BestOfFamily_0_AutoML_20181003_005235']"
      ]
     },
     "execution_count": 52,
     "metadata": {},
     "output_type": "execute_result"
    }
   ],
   "source": [
    "bm"
   ]
  },
  {
   "cell_type": "code",
   "execution_count": 53,
   "metadata": {
    "collapsed": true
   },
   "outputs": [],
   "source": [
    "# Best of Family leaderboard\n",
    "\n",
    "aml_leaderboard_df=aml_leaderboard_df.loc[aml_leaderboard_df['model_id'].isin(bm)]\n"
   ]
  },
  {
   "cell_type": "code",
   "execution_count": 54,
   "metadata": {},
   "outputs": [
    {
     "data": {
      "text/html": [
       "<div>\n",
       "<style>\n",
       "    .dataframe thead tr:only-child th {\n",
       "        text-align: right;\n",
       "    }\n",
       "\n",
       "    .dataframe thead th {\n",
       "        text-align: left;\n",
       "    }\n",
       "\n",
       "    .dataframe tbody tr th {\n",
       "        vertical-align: top;\n",
       "    }\n",
       "</style>\n",
       "<table border=\"1\" class=\"dataframe\">\n",
       "  <thead>\n",
       "    <tr style=\"text-align: right;\">\n",
       "      <th></th>\n",
       "      <th>model_id</th>\n",
       "      <th>mean_per_class_error</th>\n",
       "      <th>logloss</th>\n",
       "      <th>rmse</th>\n",
       "      <th>mse</th>\n",
       "    </tr>\n",
       "  </thead>\n",
       "  <tbody>\n",
       "    <tr>\n",
       "      <th>0</th>\n",
       "      <td>DRF_0_AutoML_20181003_005235</td>\n",
       "      <td>0.000000</td>\n",
       "      <td>2.969224e-02</td>\n",
       "      <td>0.069929</td>\n",
       "      <td>4.890066e-03</td>\n",
       "    </tr>\n",
       "    <tr>\n",
       "      <th>1</th>\n",
       "      <td>GBM_grid_0_AutoML_20181003_005235_model_1</td>\n",
       "      <td>0.000000</td>\n",
       "      <td>2.637156e-07</td>\n",
       "      <td>0.000002</td>\n",
       "      <td>5.133806e-12</td>\n",
       "    </tr>\n",
       "    <tr>\n",
       "      <th>6</th>\n",
       "      <td>GLM_grid_0_AutoML_20181003_005235_model_0</td>\n",
       "      <td>0.000000</td>\n",
       "      <td>7.728962e-03</td>\n",
       "      <td>0.029864</td>\n",
       "      <td>8.918545e-04</td>\n",
       "    </tr>\n",
       "    <tr>\n",
       "      <th>27</th>\n",
       "      <td>XRT_0_AutoML_20181003_005235</td>\n",
       "      <td>0.000000</td>\n",
       "      <td>3.109663e-02</td>\n",
       "      <td>0.079513</td>\n",
       "      <td>6.322275e-03</td>\n",
       "    </tr>\n",
       "    <tr>\n",
       "      <th>55</th>\n",
       "      <td>DeepLearning_0_AutoML_20181003_005235</td>\n",
       "      <td>0.011111</td>\n",
       "      <td>1.193865e-01</td>\n",
       "      <td>0.144493</td>\n",
       "      <td>2.087813e-02</td>\n",
       "    </tr>\n",
       "    <tr>\n",
       "      <th>66</th>\n",
       "      <td>StackedEnsemble_BestOfFamily_0_AutoML_20181003...</td>\n",
       "      <td>0.666667</td>\n",
       "      <td>1.089925e+00</td>\n",
       "      <td>0.662327</td>\n",
       "      <td>4.386776e-01</td>\n",
       "    </tr>\n",
       "  </tbody>\n",
       "</table>\n",
       "</div>"
      ],
      "text/plain": [
       "                                             model_id  mean_per_class_error  \\\n",
       "0                        DRF_0_AutoML_20181003_005235              0.000000   \n",
       "1           GBM_grid_0_AutoML_20181003_005235_model_1              0.000000   \n",
       "6           GLM_grid_0_AutoML_20181003_005235_model_0              0.000000   \n",
       "27                       XRT_0_AutoML_20181003_005235              0.000000   \n",
       "55              DeepLearning_0_AutoML_20181003_005235              0.011111   \n",
       "66  StackedEnsemble_BestOfFamily_0_AutoML_20181003...              0.666667   \n",
       "\n",
       "         logloss      rmse           mse  \n",
       "0   2.969224e-02  0.069929  4.890066e-03  \n",
       "1   2.637156e-07  0.000002  5.133806e-12  \n",
       "6   7.728962e-03  0.029864  8.918545e-04  \n",
       "27  3.109663e-02  0.079513  6.322275e-03  \n",
       "55  1.193865e-01  0.144493  2.087813e-02  \n",
       "66  1.089925e+00  0.662327  4.386776e-01  "
      ]
     },
     "execution_count": 54,
     "metadata": {},
     "output_type": "execute_result"
    }
   ],
   "source": [
    "aml_leaderboard_df"
   ]
  },
  {
   "cell_type": "code",
   "execution_count": 55,
   "metadata": {
    "collapsed": true
   },
   "outputs": [],
   "source": [
    "# save leaderboard\n",
    "leaderboard_stats=run_id+'_leaderboard.csv'\n",
    "aml_leaderboard_df.to_csv(leaderboard_stats)"
   ]
  },
  {
   "cell_type": "code",
   "execution_count": 56,
   "metadata": {},
   "outputs": [
    {
     "name": "stdout",
     "output_type": "stream",
     "text": [
      "DRF_0_AutoML_20181003_005235\n"
     ]
    }
   ],
   "source": [
    "top=aml_leaderboard_df.iloc[0]['model_id']\n",
    "print(top)"
   ]
  },
  {
   "cell_type": "code",
   "execution_count": 57,
   "metadata": {},
   "outputs": [
    {
     "name": "stdout",
     "output_type": "stream",
     "text": [
      "DRF_0_AutoML_20181003_005235\n",
      "drf\n"
     ]
    }
   ],
   "source": [
    "mod_best=h2o.get_model(top)\n",
    "print(mod_best._id)\n",
    "print(mod_best.algo)"
   ]
  },
  {
   "cell_type": "code",
   "execution_count": 58,
   "metadata": {
    "collapsed": true
   },
   "outputs": [],
   "source": [
    "meta_data['mod_best']=mod_best._id\n",
    "meta_data['mod_best_algo']=mod_best.algo"
   ]
  },
  {
   "cell_type": "code",
   "execution_count": 59,
   "metadata": {
    "collapsed": true
   },
   "outputs": [],
   "source": [
    "meta_data['models']=bm"
   ]
  },
  {
   "cell_type": "code",
   "execution_count": 60,
   "metadata": {
    "collapsed": true
   },
   "outputs": [],
   "source": [
    "models_path=os.path.join(run_dir,'models')\n",
    "for mod in bm:\n",
    "  try:   \n",
    "    m=h2o.get_model(mod) \n",
    "    h2o.save_model(m, path = models_path)\n",
    "  except:    \n",
    "    pass    "
   ]
  },
  {
   "cell_type": "code",
   "execution_count": 61,
   "metadata": {},
   "outputs": [
    {
     "name": "stdout",
     "output_type": "stream",
     "text": [
      "/Users/bear/Downloads/AutoML/7jPMYu5Da/models\n"
     ]
    }
   ],
   "source": [
    "print(models_path)"
   ]
  },
  {
   "cell_type": "code",
   "execution_count": 62,
   "metadata": {},
   "outputs": [
    {
     "name": "stdout",
     "output_type": "stream",
     "text": [
      "{'algo': 'gbm', 'model_id': 'GBM_grid_0_AutoML_20181003_005235_model_1', 'varimp': [('ID', 248.91380310058594, 1.0, 0.8241661338303877), ('petal_length', 29.126144409179688, 0.11701297415559485, 0.09643813051781168), ('petal_width', 23.881074905395508, 0.095941143512018, 0.07907144132356626), ('sepal_length', 0.09504469484090805, 0.0003818377834293928, 0.0003146977697193675), ('sepal_width', 0.002898342674598098, 1.1643961236761463e-05, 9.596558514972594e-06)]}\n"
     ]
    }
   ],
   "source": [
    "# GBM\n",
    " \n",
    "mod,mod_id=get_model_by_algo(\"GBM\",best_models)\n",
    "if mod is not None:\n",
    "    try:     \n",
    "        sh_df=mod.scoring_history()\n",
    "        sh_df.to_csv(run_id+'_gbm_scoring_history.csv') \n",
    "    except:\n",
    "        pass   \n",
    "    try:     \n",
    "        stats_gbm={}\n",
    "        stats_gbm=gbm_stats(mod)\n",
    "        n=run_id+'_gbm_stats.json'\n",
    "        dict_to_json(stats_gbm,n)\n",
    "        print(stats_gbm)\n",
    "    except:\n",
    "        pass        "
   ]
  },
  {
   "cell_type": "code",
   "execution_count": 63,
   "metadata": {
    "collapsed": true
   },
   "outputs": [],
   "source": [
    "# DeepLearning\n",
    "\n",
    "mod,mod_id=get_model_by_algo(\"Dee\",best_models)\n"
   ]
  },
  {
   "cell_type": "code",
   "execution_count": 64,
   "metadata": {},
   "outputs": [
    {
     "name": "stdout",
     "output_type": "stream",
     "text": [
      "{'algo': 'deeplearning', 'model_id': 'DeepLearning_0_AutoML_20181003_005235', 'varimp': [('petal_width', 1.0, 1.0, 0.25366501309003175), ('petal_length', 0.935508131980896, 0.935508131980896, 0.23730568254476514), ('ID', 0.7488226294517517, 0.7488226294517517, 0.1899501021019906), ('sepal_length', 0.6679701805114746, 0.6679701805114746, 0.16944066458319407), ('sepal_width', 0.5899060964584351, 0.5899060964584351, 0.14963853768001845)]}\n"
     ]
    }
   ],
   "source": [
    "if mod is not None:\n",
    "    try:    \n",
    "        sh_df=mod.scoring_history()\n",
    "        sh_df.to_csv(run_id+'_dl_scoring_history.csv') \n",
    "    except:\n",
    "        pass \n",
    "    try:\n",
    "        stats_dl={}\n",
    "        stats_dl=dl_stats(mod)\n",
    "        n=run_id+'_dl_stats.json'\n",
    "        dict_to_json(stats_dl,n)\n",
    "        print(stats_dl)\n",
    "    except:\n",
    "        pass    \n",
    "    try:\n",
    "        cf=mod.confusion_matrix()    \n",
    "        cf_df.to_csv(run_id+'_dl_confusion_matrix.csv')\n",
    "    except:\n",
    "        pass       "
   ]
  },
  {
   "cell_type": "code",
   "execution_count": 65,
   "metadata": {
    "collapsed": true
   },
   "outputs": [],
   "source": [
    "# DRF\n",
    "\n",
    "mod,mod_id=get_model_by_algo(\"DRF\",best_models)\n",
    "if mod is not None:\n",
    "    try:     \n",
    "         sh_df=mod.scoring_history()\n",
    "         sh_df.to_csv(run_id+'_drf_scoring_history.csv') \n",
    "    except:\n",
    "         pass  \n",
    "    try: \n",
    "         stats_drf={}\n",
    "         stats_drf=drf_stats(mod)\n",
    "         n=run_id+'_drf_stats.json'\n",
    "         dict_to_json(stats_drf,n)\n",
    "         print(stats_drf)\n",
    "    except:\n",
    "         pass     "
   ]
  },
  {
   "cell_type": "code",
   "execution_count": 66,
   "metadata": {
    "collapsed": true
   },
   "outputs": [],
   "source": [
    "# XRT\n",
    "\n",
    "mod,mod_id=get_model_by_algo(\"XRT\",best_models)\n",
    "if mod is not None:\n",
    "    try:     \n",
    "         sh_df=mod.scoring_history()\n",
    "         sh_df.to_csv(run_id+'_xrt_scoring_history.csv')\n",
    "    except:\n",
    "         pass     \n",
    "    try:        \n",
    "         stats_xrt={}\n",
    "         stats_xrt=xrt_stats(mod)\n",
    "         n=run_id+'_xrt_stats.json'\n",
    "         dict_to_json(stats_xrt,n)\n",
    "         print(stats_xrt)\n",
    "    except:\n",
    "         pass     "
   ]
  },
  {
   "cell_type": "code",
   "execution_count": 67,
   "metadata": {
    "collapsed": true
   },
   "outputs": [],
   "source": [
    "# GLM\n",
    "\n",
    "mod,mod_id=get_model_by_algo(\"GLM\",best_models)\n",
    "if mod is not None:\n",
    "    try:     \n",
    "         stats_glm={}\n",
    "         stats_glm=glm_stats(mod)\n",
    "         n=run_id+'_glm_stats.json'\n",
    "         dict_to_json(stats_glm,n)\n",
    "         print(stats_glm)\n",
    "    except:\n",
    "         pass     "
   ]
  },
  {
   "cell_type": "code",
   "execution_count": 68,
   "metadata": {},
   "outputs": [
    {
     "name": "stdout",
     "output_type": "stream",
     "text": [
      "drf prediction progress: |████████████████████████████████████████████████| 100%\n"
     ]
    }
   ],
   "source": [
    "predictions_df=predictions_test(mod_best,test,run_id)"
   ]
  },
  {
   "cell_type": "code",
   "execution_count": 69,
   "metadata": {},
   "outputs": [
    {
     "data": {
      "text/html": [
       "<table>\n",
       "<thead>\n",
       "<tr><th>predict        </th><th style=\"text-align: right;\">  Iris-setosa</th><th style=\"text-align: right;\">  Iris-versicolor</th><th style=\"text-align: right;\">  Iris-virginica</th></tr>\n",
       "</thead>\n",
       "<tbody>\n",
       "<tr><td>Iris-setosa    </td><td style=\"text-align: right;\">     0.996104</td><td style=\"text-align: right;\">         0       </td><td style=\"text-align: right;\">      0.0038961 </td></tr>\n",
       "<tr><td>Iris-setosa    </td><td style=\"text-align: right;\">     0.996104</td><td style=\"text-align: right;\">         0       </td><td style=\"text-align: right;\">      0.0038961 </td></tr>\n",
       "<tr><td>Iris-setosa    </td><td style=\"text-align: right;\">     0.996104</td><td style=\"text-align: right;\">         0       </td><td style=\"text-align: right;\">      0.0038961 </td></tr>\n",
       "<tr><td>Iris-setosa    </td><td style=\"text-align: right;\">     0.996104</td><td style=\"text-align: right;\">         0       </td><td style=\"text-align: right;\">      0.0038961 </td></tr>\n",
       "<tr><td>Iris-setosa    </td><td style=\"text-align: right;\">     0.996104</td><td style=\"text-align: right;\">         0       </td><td style=\"text-align: right;\">      0.0038961 </td></tr>\n",
       "<tr><td>Iris-setosa    </td><td style=\"text-align: right;\">     0.996104</td><td style=\"text-align: right;\">         0       </td><td style=\"text-align: right;\">      0.0038961 </td></tr>\n",
       "<tr><td>Iris-setosa    </td><td style=\"text-align: right;\">     0.996104</td><td style=\"text-align: right;\">         0       </td><td style=\"text-align: right;\">      0.0038961 </td></tr>\n",
       "<tr><td>Iris-setosa    </td><td style=\"text-align: right;\">     0.795953</td><td style=\"text-align: right;\">         0.198988</td><td style=\"text-align: right;\">      0.00505902</td></tr>\n",
       "<tr><td>Iris-versicolor</td><td style=\"text-align: right;\">     0       </td><td style=\"text-align: right;\">         0.996104</td><td style=\"text-align: right;\">      0.0038961 </td></tr>\n",
       "<tr><td>Iris-versicolor</td><td style=\"text-align: right;\">     0       </td><td style=\"text-align: right;\">         0.996104</td><td style=\"text-align: right;\">      0.0038961 </td></tr>\n",
       "</tbody>\n",
       "</table>"
      ]
     },
     "metadata": {},
     "output_type": "display_data"
    },
    {
     "data": {
      "text/plain": []
     },
     "execution_count": 69,
     "metadata": {},
     "output_type": "execute_result"
    }
   ],
   "source": [
    "predictions_df.head()"
   ]
  },
  {
   "cell_type": "code",
   "execution_count": 70,
   "metadata": {},
   "outputs": [
    {
     "name": "stdout",
     "output_type": "stream",
     "text": [
      "Rows:15\n",
      "Cols:4\n",
      "\n",
      "\n"
     ]
    },
    {
     "data": {
      "text/html": [
       "<table>\n",
       "<thead>\n",
       "<tr><th>       </th><th>predict        </th><th>Iris-setosa       </th><th>Iris-versicolor    </th><th>Iris-virginica      </th></tr>\n",
       "</thead>\n",
       "<tbody>\n",
       "<tr><td>type   </td><td>enum           </td><td>real              </td><td>real               </td><td>real                </td></tr>\n",
       "<tr><td>mins   </td><td>               </td><td>0.0               </td><td>0.0                </td><td>0.003896103903332681</td></tr>\n",
       "<tr><td>mean   </td><td>               </td><td>0.5179120036754152</td><td>0.3416709501872676 </td><td>0.14041704613731712 </td></tr>\n",
       "<tr><td>maxs   </td><td>               </td><td>0.9961038960966673</td><td>0.9961038960966673 </td><td>0.995836431118175   </td></tr>\n",
       "<tr><td>sigma  </td><td>               </td><td>0.5039564168630077</td><td>0.472723749075455  </td><td>0.34767217792015637 </td></tr>\n",
       "<tr><td>zeros  </td><td>               </td><td>7                 </td><td>7                  </td><td>0                   </td></tr>\n",
       "<tr><td>missing</td><td>0              </td><td>0                 </td><td>0                  </td><td>0                   </td></tr>\n",
       "<tr><td>0      </td><td>Iris-setosa    </td><td>0.9961038960966673</td><td>0.0                </td><td>0.003896103903332681</td></tr>\n",
       "<tr><td>1      </td><td>Iris-setosa    </td><td>0.9961038960966673</td><td>0.0                </td><td>0.003896103903332681</td></tr>\n",
       "<tr><td>2      </td><td>Iris-setosa    </td><td>0.9961038960966673</td><td>0.0                </td><td>0.003896103903332681</td></tr>\n",
       "<tr><td>3      </td><td>Iris-setosa    </td><td>0.9961038960966673</td><td>0.0                </td><td>0.003896103903332681</td></tr>\n",
       "<tr><td>4      </td><td>Iris-setosa    </td><td>0.9961038960966673</td><td>0.0                </td><td>0.003896103903332681</td></tr>\n",
       "<tr><td>5      </td><td>Iris-setosa    </td><td>0.9961038960966673</td><td>0.0                </td><td>0.003896103903332681</td></tr>\n",
       "<tr><td>6      </td><td>Iris-setosa    </td><td>0.9961038960966673</td><td>0.0                </td><td>0.003896103903332681</td></tr>\n",
       "<tr><td>7      </td><td>Iris-setosa    </td><td>0.7959527824545569</td><td>0.19898819561363923</td><td>0.005059021931803821</td></tr>\n",
       "<tr><td>8      </td><td>Iris-versicolor</td><td>0.0               </td><td>0.9961038960966673 </td><td>0.003896103903332681</td></tr>\n",
       "<tr><td>9      </td><td>Iris-versicolor</td><td>0.0               </td><td>0.9961038960966673 </td><td>0.003896103903332681</td></tr>\n",
       "</tbody>\n",
       "</table>"
      ]
     },
     "metadata": {},
     "output_type": "display_data"
    }
   ],
   "source": [
    "predictions_df.describe()"
   ]
  },
  {
   "cell_type": "code",
   "execution_count": 71,
   "metadata": {
    "collapsed": true
   },
   "outputs": [],
   "source": [
    "# Update and save meta data\n",
    "\n",
    "meta_data['end_time'] = time.time()\n",
    "meta_data['execution_time'] = meta_data['end_time'] - meta_data['start_time']\n",
    "  \n",
    "n=run_id+'_meta_data.json'\n",
    "dict_to_json(meta_data,n)    \n"
   ]
  },
  {
   "cell_type": "code",
   "execution_count": 72,
   "metadata": {
    "scrolled": true
   },
   "outputs": [
    {
     "data": {
      "text/plain": [
       "{'X': ['ID', 'sepal_length', 'sepal_width', 'petal_length', 'petal_width'],\n",
       " 'analysis': 0,\n",
       " 'balance': False,\n",
       " 'balance_threshold': 0.2,\n",
       " 'classification': False,\n",
       " 'end_time': 1538542706.807482,\n",
       " 'execution_time': 352.5104570388794,\n",
       " 'max_models': 9,\n",
       " 'min_mem_size': 6,\n",
       " 'mod_best': 'DRF_0_AutoML_20181003_005235',\n",
       " 'mod_best_algo': 'drf',\n",
       " 'model_execution_time': 349.95365834236145,\n",
       " 'models': ['GBM_grid_0_AutoML_20181003_005235_model_1',\n",
       "  'GLM_grid_0_AutoML_20181003_005235_model_0',\n",
       "  'DRF_0_AutoML_20181003_005235',\n",
       "  'XRT_0_AutoML_20181003_005235',\n",
       "  'DeepLearning_0_AutoML_20181003_005235',\n",
       "  'StackedEnsemble_BestOfFamily_0_AutoML_20181003_005235'],\n",
       " 'nthreads': 1,\n",
       " 'project': None,\n",
       " 'run_id': '7jPMYu5Da',\n",
       " 'run_time': 333,\n",
       " 'scale': False,\n",
       " 'start_time': 1538542354.297025,\n",
       " 'target': None,\n",
       " 'variables': {'ID': 'int',\n",
       "  'petal_length': 'real',\n",
       "  'petal_width': 'real',\n",
       "  'sepal_length': 'real',\n",
       "  'sepal_width': 'real',\n",
       "  'species': 'enum'}}"
      ]
     },
     "execution_count": 72,
     "metadata": {},
     "output_type": "execute_result"
    }
   ],
   "source": [
    "meta_data"
   ]
  },
  {
   "cell_type": "code",
   "execution_count": 73,
   "metadata": {
    "collapsed": true
   },
   "outputs": [],
   "source": [
    "# Clean up\n",
    "os.chdir(server_path)"
   ]
  },
  {
   "cell_type": "code",
   "execution_count": 74,
   "metadata": {
    "scrolled": true
   },
   "outputs": [
    {
     "name": "stdout",
     "output_type": "stream",
     "text": [
      "H2O session _sid_a8f6 closed.\n"
     ]
    }
   ],
   "source": [
    "h2o.cluster().shutdown()"
   ]
  },
  {
   "cell_type": "markdown",
   "metadata": {},
   "source": [
    "**When availble for your models you will need to make the following plots: **"
   ]
  },
  {
   "cell_type": "markdown",
   "metadata": {},
   "source": [
    "## Variable Importance Plots\n",
    "\n",
    "The Variable Importance Plot graphs the VIP values for each X variable. \n",
    "\n",
    "https://www.researchgate.net/figure/Random-forest-variable-importance-plot-Variables-are-ranked-in-terms-of-importance-on_fig2_295097543\n",
    "\n"
   ]
  },
  {
   "cell_type": "markdown",
   "metadata": {},
   "source": [
    "## Partial Dependence Plots\n",
    "\n",
    "For models that include only numerical values, you can view a Partial Dependence Plot (PDP) for that model. This provides a graphical representation of the marginal effect of a variable on the class probability (classification) or response (regression).\n",
    "\n",
    "https://www.kaggle.com/dansbecker/partial-dependence-plots\n",
    "\n"
   ]
  },
  {
   "cell_type": "markdown",
   "metadata": {},
   "source": [
    "## Gains/Lift Charts\n",
    "\n",
    "[Score: Gains/Lift Table](http://h2o-release.s3.amazonaws.com/h2o/master/1648/docs-website/userguide/scoregainslift.html)  \n",
    "\n",
    "The Gains/Lift Table page uses predicted data to evaluate model performance. The accuracy of the classification model for a random sample is evaluated according to the results when the model is and is not used.\n",
    "\n",
    "The Gains/Lift Table is particularly useful for direct marketing applications, for example. The gains/lift chart shows the effectiveness of the current model(s) compared to a baseline, allowing users to quickly identify the most useful model.\n",
    "\n",
    "To create a Gains/Lift table, H2O applies the model to each entry in the original dataset to find the response probability (Pi^), then orders the entries according to their predicted response probabilities. Finally, H2O divides the dataset into equal groups and calculates the average response rate for each group.\n",
    "\n",
    "H2O uses the response rate of the top ten groups to evaluate the model performance; the highest response and greatest variation rates indicate the best model.\n",
    "\n",
    "The lift is calculated from the gains. H2O uses the following formula to calculate the lift: λk=rkr⎯⎯⎯\n",
    "\n",
    "where λk is the lift for k, rk is the response rate for k, and r⎯⎯⎯ is the average response rate for k. In other words, λk defines how much more likely k customers are to respond in comparison to the average response rate.\n",
    "\n",
    "Requirements:\n",
    "\n",
    "The vactual column must contain actual binary class labels.\n",
    "The vpredict column must contain probabilities.\n",
    "\n",
    "Evaluating Classifiers: Gains and Lift Charts https://youtu.be/1dYOcDaDJLY \n",
    "\n",
    "Understanding And Interpreting Gain And Lift Charts\n",
    "\n",
    "   https://www.datasciencecentral.com/profiles/blogs/understanding-and-interpreting-gain-and-lift-charts\n",
    "   \n",
    "   "
   ]
  },
  {
   "cell_type": "markdown",
   "metadata": {},
   "source": [
    "**Multiclass Classification Metrics**\n",
    "\n",
    "misclassification  \n",
    "\n",
    "This is the overall error, the number shown in the bottom right of a confusion matrix.\n",
    "\n",
    "mean per class error  \n",
    "\n",
    "The right column in a confusion matrix has an error rate for each class. This is the average of them,  If your classes are balanced (each exactly the same size) it is identical to misclassification.\n",
    "\n",
    "logloss\n",
    "\n",
    "Multiclass Classification givea a probability for the target belonging to each class. The confidence assigned to the correct category is used to calculate logloss (and MSE). Logloss disproportionately punishes low numbers, which is another way of saying having high confidence in the wrong answer is a bad thing.\n",
    "\n",
    "\n",
    "MSE\n",
    "\n",
    "Mean Squared Error. The error is the distance from of the probability it suggested from the actual probability.  \n"
   ]
  },
  {
   "cell_type": "markdown",
   "metadata": {},
   "source": [
    "## Confusion Matrix\n",
    "\n",
    "A confusion matrix, also known as an error matrix, is a specific table layout that allows visualization of the performance of an algorithm, typically a supervised learning one (in unsupervised learning it is usually called a matching matrix). Each row of the matrix represents the instances in a predicted class while each column represents the instances in an actual class.\n",
    "\n",
    "https://en.wikipedia.org/wiki/Confusion_matrix\n"
   ]
  }
 ],
 "metadata": {
  "kernelspec": {
   "display_name": "Python 3",
   "language": "python",
   "name": "python3"
  },
  "language_info": {
   "codemirror_mode": {
    "name": "ipython",
    "version": 3
   },
   "file_extension": ".py",
   "mimetype": "text/x-python",
   "name": "python",
   "nbconvert_exporter": "python",
   "pygments_lexer": "ipython3",
   "version": "3.6.5"
  }
 },
 "nbformat": 4,
 "nbformat_minor": 2
}
