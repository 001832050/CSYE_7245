{
 "cells": [
  {
   "cell_type": "markdown",
   "metadata": {},
   "source": [
    "## Starter Code for Assignment 2 - Big Data with H2O\n",
    "\n",
    "**Binary Classification**\n",
    "\n",
    "Here is some starter code for Assignment 2 - Big Data with H2O.   You will still need to extend this code somewhat.  \n",
    "\n",
    "\n",
    "[H2O Docs](http://docs.h2o.ai/h2o/latest-stable/h2o-docs/index.html)  \n",
    "[http://docs.h2o.ai/h2o/latest-stable/h2o-docs/index.html](http://docs.h2o.ai/h2o/latest-stable/h2o-docs/index.html)  "
   ]
  },
  {
   "cell_type": "code",
   "execution_count": 1,
   "metadata": {
    "collapsed": true
   },
   "outputs": [],
   "source": [
    "import h2o\n",
    "from h2o.automl import H2OAutoML\n",
    "import random, os, sys\n",
    "from datetime import datetime\n",
    "import pandas as pd\n",
    "import logging\n",
    "import csv\n",
    "import optparse\n",
    "import time\n",
    "import json\n",
    "from distutils.util import strtobool"
   ]
  },
  {
   "cell_type": "markdown",
   "metadata": {},
   "source": [
    "Set up some parameters for the analysis.  "
   ]
  },
  {
   "cell_type": "code",
   "execution_count": 2,
   "metadata": {
    "collapsed": true
   },
   "outputs": [],
   "source": [
    "data_path=None\n",
    "all_variables=None\n",
    "test_path=None\n",
    "target=None\n",
    "nthreads=1 \n",
    "min_mem_size=6 \n",
    "run_time=333\n",
    "classification=False\n",
    "scale=False\n",
    "max_models=9    \n",
    "model_path=None\n",
    "balance_y=False \n",
    "balance_threshold=0.2\n",
    "name=None \n",
    "server_path=None  \n",
    "analysis=0 "
   ]
  },
  {
   "cell_type": "markdown",
   "metadata": {},
   "source": [
    "The next sections contains helper functions for automating analysis.             "
   ]
  },
  {
   "cell_type": "code",
   "execution_count": 3,
   "metadata": {
    "collapsed": true
   },
   "outputs": [],
   "source": [
    "# Functions\n",
    "\n",
    "def alphabet(n):\n",
    "  alpha='0123456789abcdefghijklmnopqrstuvwxyzABCDEFGHIJKLMNOPQRSTUVWXYZ'    \n",
    "  str=''\n",
    "  r=len(alpha)-1   \n",
    "  while len(str)<n:\n",
    "    i=random.randint(0,r)\n",
    "    str+=alpha[i]   \n",
    "  return str\n",
    "  \n",
    "  \n",
    "def set_meta_data(run_id,analysis,target,run_time,classification,scale,model,balance,balance_threshold,name,nthreads,min_mem_size):\n",
    "  m_data={}\n",
    "  m_data['run_id'] =run_id\n",
    "  m_data['start_time'] = time.time()\n",
    "  m_data['target']=target\n",
    "  m_data['max_models']=model\n",
    "  m_data['run_time']=run_time\n",
    "  m_data['scale']=scale\n",
    "  m_data['classification']=classification\n",
    "  m_data['scale']=False\n",
    "  m_data['balance']=balance\n",
    "  m_data['balance_threshold']=balance_threshold\n",
    "  m_data['project'] =name\n",
    "  m_data['end_time'] = time.time()\n",
    "  m_data['execution_time'] = 0.0\n",
    "  m_data['nthreads'] = nthreads\n",
    "  m_data['min_mem_size'] = min_mem_size\n",
    "  m_data['analysis'] = analysis\n",
    "  return m_data\n",
    "\n",
    "\n",
    "def dict_to_json(dct,n):\n",
    "  j = json.dumps(dct, indent=4)\n",
    "  f = open(n, 'w')\n",
    "  print(j, file=f)\n",
    "  f.close()\n",
    "  \n",
    "  \n",
    "def stackedensemble(mod):\n",
    "    coef_norm=None\n",
    "    try:\n",
    "      metalearner = h2o.get_model(mod.metalearner()['name'])\n",
    "      coef_norm=metalearner.coef_norm()\n",
    "    except:\n",
    "      pass        \n",
    "    return coef_norm\n",
    "\n",
    "def stackedensemble_df(df):\n",
    "    bm_algo={ 'GBM': None,'GLM': None,'DRF': None,'XRT': None,'Dee': None}\n",
    "    for index, row in df.iterrows():\n",
    "      if len(row['model_id'])>3:\n",
    "        key=row['model_id'][0:3]\n",
    "        if key in bm_algo:\n",
    "          if bm_algo[key] is None:\n",
    "                bm_algo[key]=row['model_id']\n",
    "    bm=list(bm_algo.values()) \n",
    "    bm=list(filter(None.__ne__, bm))             \n",
    "    return bm\n",
    "\n",
    "def se_stats(modl):\n",
    "    d={}\n",
    "    d['algo']=modl.algo\n",
    "    d['model_id']=modl.model_id   \n",
    "    d['auc']=modl.auc()   \n",
    "    d['roc']=modl.roc()\n",
    "    d['mse']=modl.mse()   \n",
    "    d['null_degrees_of_freedom']=modl.null_degrees_of_freedom()\n",
    "    d['null_deviance']=modl.null_deviance()\n",
    "    d['residual_degrees_of_freedom']=modl.residual_degrees_of_freedom()   \n",
    "    d['residual_deviance']=modl.residual_deviance()\n",
    "    d['rmse']=modl.rmse()\n",
    "    return d\n",
    "\n",
    "def get_model_by_algo(algo,models_dict):\n",
    "    mod=None\n",
    "    mod_id=None    \n",
    "    for m in list(models_dict.keys()):\n",
    "        if m[0:3]==algo:\n",
    "            mod_id=m\n",
    "            mod=h2o.get_model(m)      \n",
    "    return mod,mod_id     \n",
    "    \n",
    "    \n",
    "def gbm_stats(modl):\n",
    "    d={}\n",
    "    d['algo']=modl.algo\n",
    "    d['model_id']=modl.model_id   \n",
    "    d['varimp']=modl.varimp()  \n",
    "    return d\n",
    "    \n",
    "    \n",
    "def dl_stats(modl):\n",
    "    d={}\n",
    "    d['algo']=modl.algo\n",
    "    d['model_id']=modl.model_id   \n",
    "    d['varimp']=modl.varimp()  \n",
    "    return d\n",
    "    \n",
    "    \n",
    "def drf_stats(modl):\n",
    "    d={}\n",
    "    d['algo']=modl.algo\n",
    "    d['model_id']=modl.model_id   \n",
    "    d['varimp']=modl.varimp()  \n",
    "    d['roc']=modl.roc()      \n",
    "    return d\n",
    "    \n",
    "def xrt_stats(modl):\n",
    "    d={}\n",
    "    d['algo']=modl.algo\n",
    "    d['model_id']=modl.model_id   \n",
    "    d['varimp']=modl.varimp()  \n",
    "    d['roc']=modl.roc()      \n",
    "    return d\n",
    "    \n",
    "    \n",
    "def glm_stats(modl):\n",
    "    d={}\n",
    "    d['algo']=modl.algo\n",
    "    d['model_id']=modl.model_id   \n",
    "    d['coef']=modl.coef()  \n",
    "    d['coef_norm']=modl.coef_norm()      \n",
    "    return d\n",
    "    \n",
    "def model_performance_stats(perf):\n",
    "    d={}\n",
    "    try:    \n",
    "      d['mse']=perf.mse()\n",
    "    except:\n",
    "      pass      \n",
    "    try:    \n",
    "      d['rmse']=perf.rmse() \n",
    "    except:\n",
    "      pass      \n",
    "    try:    \n",
    "      d['null_degrees_of_freedom']=perf.null_degrees_of_freedom()\n",
    "    except:\n",
    "      pass      \n",
    "    try:    \n",
    "      d['residual_degrees_of_freedom']=perf.residual_degrees_of_freedom()\n",
    "    except:\n",
    "      pass      \n",
    "    try:    \n",
    "      d['residual_deviance']=perf.residual_deviance() \n",
    "    except:\n",
    "      pass      \n",
    "    try:    \n",
    "      d['null_deviance']=perf.null_deviance() \n",
    "    except:\n",
    "      pass      \n",
    "    try:    \n",
    "      d['aic']=perf.aic() \n",
    "    except:\n",
    "      pass      \n",
    "    try:\n",
    "      d['logloss']=perf.logloss() \n",
    "    except:\n",
    "      pass    \n",
    "    try:\n",
    "      d['auc']=perf.auc()\n",
    "    except:\n",
    "      pass  \n",
    "    try:\n",
    "      d['gini']=perf.gini()\n",
    "    except:\n",
    "      pass    \n",
    "    return d\n",
    "    \n",
    "def impute_missing_values(df, x, scal=False):\n",
    "    # determine column types\n",
    "    ints, reals, enums = [], [], []\n",
    "    for key, val in df.types.items():\n",
    "        if key in x:\n",
    "            if val == 'enum':\n",
    "                enums.append(key)\n",
    "            elif val == 'int':\n",
    "                ints.append(key)            \n",
    "            else: \n",
    "                reals.append(key)    \n",
    "    _ = df[reals].impute(method='mean')\n",
    "    _ = df[ints].impute(method='median')\n",
    "    if scal:\n",
    "        df[reals] = df[reals].scale()\n",
    "        df[ints] = df[ints].scale()    \n",
    "    return\n",
    "\n",
    "\n",
    "def get_independent_variables(df, targ):\n",
    "    C = [name for name in df.columns if name != targ]\n",
    "    # determine column types\n",
    "    ints, reals, enums = [], [], []\n",
    "    for key, val in df.types.items():\n",
    "        if key in C:\n",
    "            if val == 'enum':\n",
    "                enums.append(key)\n",
    "            elif val == 'int':\n",
    "                ints.append(key)            \n",
    "            else: \n",
    "                reals.append(key)    \n",
    "    x=ints+enums+reals\n",
    "    return x\n",
    "    \n",
    "def get_all_variables_csv(i):\n",
    "    ivd={}\n",
    "    try:\n",
    "      iv = pd.read_csv(i,header=None)\n",
    "    except:\n",
    "      sys.exit(1)    \n",
    "    col=iv.values.tolist()[0]\n",
    "    dt=iv.values.tolist()[1]\n",
    "    i=0\n",
    "    for c in col:\n",
    "      ivd[c.strip()]=dt[i].strip()\n",
    "      i+=1        \n",
    "    return ivd\n",
    "    \n",
    "    \n",
    "\n",
    "def check_all_variables(df,dct,y=None):     \n",
    "    targ=list(dct.keys())     \n",
    "    for key, val in df.types.items():\n",
    "        if key in targ:\n",
    "          if dct[key] not in ['real','int','enum']:                      \n",
    "            targ.remove(key)  \n",
    "    for key, val in df.types.items():\n",
    "        if key in targ:            \n",
    "          if dct[key] != val:\n",
    "            print('convert ',key,' ',dct[key],' ',val)\n",
    "            if dct[key]=='enum':\n",
    "                try:\n",
    "                  df[key] = df[key].asfactor() \n",
    "                except:\n",
    "                  targ.remove(key)                 \n",
    "            if dct[key]=='int': \n",
    "                try:                \n",
    "                  df[key] = df[key].asnumeric() \n",
    "                except:\n",
    "                  targ.remove(key)                  \n",
    "            if dct[key]=='real':\n",
    "                try:                \n",
    "                  df[key] = df[key].asnumeric()  \n",
    "                except:\n",
    "                  targ.remove(key)                  \n",
    "    if y is None:\n",
    "      y=df.columns[-1] \n",
    "    if y in targ:\n",
    "      targ.remove(y)\n",
    "    else:\n",
    "      y=targ.pop()            \n",
    "    return targ    \n",
    "    \n",
    "def predictions(mod,data,run_id):\n",
    "    test = h2o.import_file(data)\n",
    "    mod_perf=mod_best.model_performance(test)\n",
    "              \n",
    "    stats_test={}\n",
    "    stats_test=model_performance_stats(mod_perf)\n",
    "\n",
    "    n=run_id+'_test_stats.json'\n",
    "    dict_to_json(stats_test,n) \n",
    "\n",
    "    try:    \n",
    "      cf=mod_perf.confusion_matrix(metrics=[\"f1\",\"f2\",\"f0point5\",\"accuracy\",\"precision\",\"recall\",\"specificity\",\"absolute_mcc\",\"min_per_class_accuracy\",\"mean_per_class_accuracy\"])\n",
    "      cf_df=cf[0].table.as_data_frame()\n",
    "      cf_df.to_csv(run_id+'_test_confusion_matrix.csv')\n",
    "    except:\n",
    "      pass\n",
    "\n",
    "    predictions = mod_best.predict(test)\n",
    "    predictions_df=test.cbind(predictions).as_data_frame() \n",
    "    predictions_df.to_csv(run_id+'_predictions.csv')\n",
    "    return\n",
    "\n",
    "def predictions_test(mod,test,run_id):\n",
    "    mod_perf=mod_best.model_performance(test)          \n",
    "    stats_test={}\n",
    "    stats_test=model_performance_stats(mod_perf)\n",
    "    n=run_id+'_test_stats.json'\n",
    "    dict_to_json(stats_test,n) \n",
    "    try:\n",
    "      cf=mod_perf.confusion_matrix(metrics=[\"f1\",\"f2\",\"f0point5\",\"accuracy\",\"precision\",\"recall\",\"specificity\",\"absolute_mcc\",\"min_per_class_accuracy\",\"mean_per_class_accuracy\"])\n",
    "      cf_df=cf[0].table.as_data_frame()\n",
    "      cf_df.to_csv(run_id+'_test_confusion_matrix.csv')\n",
    "    except:\n",
    "      pass\n",
    "    predictions = mod_best.predict(test)    \n",
    "    predictions_df=test.cbind(predictions).as_data_frame() \n",
    "    predictions_df.to_csv(run_id+'_predictions.csv')\n",
    "    return predictions\n",
    "\n",
    "def check_X(x,df):\n",
    "    for name in x:\n",
    "        if name not in df.columns:\n",
    "          x.remove(name)  \n",
    "    return x    \n",
    "    \n",
    "    \n",
    "def get_stacked_ensemble(lst):\n",
    "    se=None\n",
    "    for model in model_set:\n",
    "      if 'BestOfFamily' in model:\n",
    "        se=model\n",
    "    if se is None:     \n",
    "      for model in model_set:\n",
    "        if 'AllModels'in model:\n",
    "          se=model           \n",
    "    return se       \n",
    "    \n",
    "def get_variables_types(df):\n",
    "    d={}\n",
    "    for key, val in df.types.items():\n",
    "        d[key]=val           \n",
    "    return d    \n",
    "    \n",
    "#  End Functions"
   ]
  },
  {
   "cell_type": "code",
   "execution_count": 4,
   "metadata": {
    "collapsed": true
   },
   "outputs": [],
   "source": [
    "data_path='data/twoclass_loan.csv'"
   ]
  },
  {
   "cell_type": "code",
   "execution_count": 5,
   "metadata": {
    "collapsed": true
   },
   "outputs": [],
   "source": [
    "data_path = os.path.join(os.path.abspath(os.curdir),data_path)"
   ]
  },
  {
   "cell_type": "code",
   "execution_count": 6,
   "metadata": {
    "collapsed": true
   },
   "outputs": [],
   "source": [
    "all_variables=None"
   ]
  },
  {
   "cell_type": "code",
   "execution_count": 7,
   "metadata": {},
   "outputs": [
    {
     "name": "stdout",
     "output_type": "stream",
     "text": [
      "hunAq3K6I\n"
     ]
    }
   ],
   "source": [
    "run_id=alphabet(9)\n",
    "# run_id to std out\n",
    "print (run_id) "
   ]
  },
  {
   "cell_type": "code",
   "execution_count": 8,
   "metadata": {
    "collapsed": true
   },
   "outputs": [],
   "source": [
    "server_path=os.path.abspath(os.curdir)\n",
    "os.chdir(server_path) \n",
    "run_dir = os.path.join(server_path,run_id)\n",
    "os.mkdir(run_dir)\n",
    "os.chdir(run_dir) "
   ]
  },
  {
   "cell_type": "code",
   "execution_count": 9,
   "metadata": {},
   "outputs": [
    {
     "name": "stdout",
     "output_type": "stream",
     "text": [
      "Checking whether there is an H2O instance running at http://localhost:45444..... not found.\n",
      "Attempting to start a local H2O server...\n",
      "  Java Version: openjdk version \"1.8.0_121\"; OpenJDK Runtime Environment (Zulu 8.20.0.5-macosx) (build 1.8.0_121-b15); OpenJDK 64-Bit Server VM (Zulu 8.20.0.5-macosx) (build 25.121-b15, mixed mode)\n",
      "  Starting server from /Users/bear/anaconda/lib/python3.6/site-packages/h2o/backend/bin/h2o.jar\n",
      "  Ice root: /var/folders/lh/42j8mfjx069d1bkc2wlf2pw40000gn/T/tmpgicv38qo\n",
      "  JVM stdout: /var/folders/lh/42j8mfjx069d1bkc2wlf2pw40000gn/T/tmpgicv38qo/h2o_bear_started_from_python.out\n",
      "  JVM stderr: /var/folders/lh/42j8mfjx069d1bkc2wlf2pw40000gn/T/tmpgicv38qo/h2o_bear_started_from_python.err\n",
      "  Server is running at http://127.0.0.1:45444\n",
      "Connecting to H2O server at http://127.0.0.1:45444... successful.\n"
     ]
    },
    {
     "data": {
      "text/html": [
       "<div style=\"overflow:auto\"><table style=\"width:50%\"><tr><td>H2O cluster uptime:</td>\n",
       "<td>03 secs</td></tr>\n",
       "<tr><td>H2O cluster timezone:</td>\n",
       "<td>America/New_York</td></tr>\n",
       "<tr><td>H2O data parsing timezone:</td>\n",
       "<td>UTC</td></tr>\n",
       "<tr><td>H2O cluster version:</td>\n",
       "<td>3.20.0.1</td></tr>\n",
       "<tr><td>H2O cluster version age:</td>\n",
       "<td>3 months and 25 days !!!</td></tr>\n",
       "<tr><td>H2O cluster name:</td>\n",
       "<td>H2O_from_python_bear_ywvjvo</td></tr>\n",
       "<tr><td>H2O cluster total nodes:</td>\n",
       "<td>1</td></tr>\n",
       "<tr><td>H2O cluster free memory:</td>\n",
       "<td>5.750 Gb</td></tr>\n",
       "<tr><td>H2O cluster total cores:</td>\n",
       "<td>8</td></tr>\n",
       "<tr><td>H2O cluster allowed cores:</td>\n",
       "<td>8</td></tr>\n",
       "<tr><td>H2O cluster status:</td>\n",
       "<td>accepting new members, healthy</td></tr>\n",
       "<tr><td>H2O connection url:</td>\n",
       "<td>http://127.0.0.1:45444</td></tr>\n",
       "<tr><td>H2O connection proxy:</td>\n",
       "<td>None</td></tr>\n",
       "<tr><td>H2O internal security:</td>\n",
       "<td>False</td></tr>\n",
       "<tr><td>H2O API Extensions:</td>\n",
       "<td>XGBoost, Algos, AutoML, Core V3, Core V4</td></tr>\n",
       "<tr><td>Python version:</td>\n",
       "<td>3.6.5 final</td></tr></table></div>"
      ],
      "text/plain": [
       "--------------------------  ----------------------------------------\n",
       "H2O cluster uptime:         03 secs\n",
       "H2O cluster timezone:       America/New_York\n",
       "H2O data parsing timezone:  UTC\n",
       "H2O cluster version:        3.20.0.1\n",
       "H2O cluster version age:    3 months and 25 days !!!\n",
       "H2O cluster name:           H2O_from_python_bear_ywvjvo\n",
       "H2O cluster total nodes:    1\n",
       "H2O cluster free memory:    5.750 Gb\n",
       "H2O cluster total cores:    8\n",
       "H2O cluster allowed cores:  8\n",
       "H2O cluster status:         accepting new members, healthy\n",
       "H2O connection url:         http://127.0.0.1:45444\n",
       "H2O connection proxy:\n",
       "H2O internal security:      False\n",
       "H2O API Extensions:         XGBoost, Algos, AutoML, Core V3, Core V4\n",
       "Python version:             3.6.5 final\n",
       "--------------------------  ----------------------------------------"
      ]
     },
     "metadata": {},
     "output_type": "display_data"
    }
   ],
   "source": [
    "# 65535 Highest port no\n",
    "port_no=random.randint(5555,55555)\n",
    "h2o.init(strict_version_check=False,min_mem_size_GB=min_mem_size,port=port_no)"
   ]
  },
  {
   "cell_type": "code",
   "execution_count": 10,
   "metadata": {},
   "outputs": [
    {
     "name": "stdout",
     "output_type": "stream",
     "text": [
      "{'run_id': 'hunAq3K6I', 'start_time': 1538541163.6288798, 'target': None, 'max_models': 9, 'run_time': 333, 'scale': False, 'classification': False, 'balance': False, 'balance_threshold': 0.2, 'project': None, 'end_time': 1538541163.628885, 'execution_time': 0.0, 'nthreads': 1, 'min_mem_size': 6, 'analysis': 0}\n"
     ]
    }
   ],
   "source": [
    "# meta data\n",
    "meta_data = set_meta_data(run_id,analysis,target,run_time,classification,scale,max_models,balance_y,balance_threshold,name,nthreads,min_mem_size)\n",
    "print(meta_data)  "
   ]
  },
  {
   "cell_type": "code",
   "execution_count": 11,
   "metadata": {},
   "outputs": [
    {
     "name": "stdout",
     "output_type": "stream",
     "text": [
      "/Users/bear/Downloads/AutoML/data/twoclass_loan.csv\n"
     ]
    }
   ],
   "source": [
    "print(data_path)"
   ]
  },
  {
   "cell_type": "code",
   "execution_count": 12,
   "metadata": {},
   "outputs": [
    {
     "name": "stdout",
     "output_type": "stream",
     "text": [
      "Parse progress: |█████████████████████████████████████████████████████████| 100%\n"
     ]
    }
   ],
   "source": [
    "df = h2o.import_file(data_path)"
   ]
  },
  {
   "cell_type": "code",
   "execution_count": 13,
   "metadata": {},
   "outputs": [
    {
     "data": {
      "text/html": [
       "<table>\n",
       "<thead>\n",
       "<tr><th style=\"text-align: right;\">  loan_amnt</th><th>term     </th><th style=\"text-align: right;\">  int_rate</th><th style=\"text-align: right;\">  emp_length</th><th>home_ownership  </th><th style=\"text-align: right;\">  annual_inc</th><th>purpose           </th><th>addr_state  </th><th style=\"text-align: right;\">  dti</th><th style=\"text-align: right;\">  delinq_2yrs</th><th style=\"text-align: right;\">  revol_util</th><th style=\"text-align: right;\">  total_acc</th><th style=\"text-align: right;\">  bad_loan</th><th style=\"text-align: right;\">  longest_credit_length</th><th>verification_status  </th></tr>\n",
       "</thead>\n",
       "<tbody>\n",
       "<tr><td style=\"text-align: right;\">       5000</td><td>36 months</td><td style=\"text-align: right;\">     10.65</td><td style=\"text-align: right;\">          10</td><td>RENT            </td><td style=\"text-align: right;\">       24000</td><td>credit_card       </td><td>AZ          </td><td style=\"text-align: right;\">27.65</td><td style=\"text-align: right;\">            0</td><td style=\"text-align: right;\">        83.7</td><td style=\"text-align: right;\">          9</td><td style=\"text-align: right;\">         0</td><td style=\"text-align: right;\">                     26</td><td>verified             </td></tr>\n",
       "<tr><td style=\"text-align: right;\">       2500</td><td>60 months</td><td style=\"text-align: right;\">     15.27</td><td style=\"text-align: right;\">           0</td><td>RENT            </td><td style=\"text-align: right;\">       30000</td><td>car               </td><td>GA          </td><td style=\"text-align: right;\"> 1   </td><td style=\"text-align: right;\">            0</td><td style=\"text-align: right;\">         9.4</td><td style=\"text-align: right;\">          4</td><td style=\"text-align: right;\">         1</td><td style=\"text-align: right;\">                     12</td><td>verified             </td></tr>\n",
       "<tr><td style=\"text-align: right;\">       2400</td><td>36 months</td><td style=\"text-align: right;\">     15.96</td><td style=\"text-align: right;\">          10</td><td>RENT            </td><td style=\"text-align: right;\">       12252</td><td>small_business    </td><td>IL          </td><td style=\"text-align: right;\"> 8.72</td><td style=\"text-align: right;\">            0</td><td style=\"text-align: right;\">        98.5</td><td style=\"text-align: right;\">         10</td><td style=\"text-align: right;\">         0</td><td style=\"text-align: right;\">                     10</td><td>not verified         </td></tr>\n",
       "<tr><td style=\"text-align: right;\">      10000</td><td>36 months</td><td style=\"text-align: right;\">     13.49</td><td style=\"text-align: right;\">          10</td><td>RENT            </td><td style=\"text-align: right;\">       49200</td><td>other             </td><td>CA          </td><td style=\"text-align: right;\">20   </td><td style=\"text-align: right;\">            0</td><td style=\"text-align: right;\">        21  </td><td style=\"text-align: right;\">         37</td><td style=\"text-align: right;\">         0</td><td style=\"text-align: right;\">                     15</td><td>verified             </td></tr>\n",
       "<tr><td style=\"text-align: right;\">       5000</td><td>36 months</td><td style=\"text-align: right;\">      7.9 </td><td style=\"text-align: right;\">           3</td><td>RENT            </td><td style=\"text-align: right;\">       36000</td><td>wedding           </td><td>AZ          </td><td style=\"text-align: right;\">11.2 </td><td style=\"text-align: right;\">            0</td><td style=\"text-align: right;\">        28.3</td><td style=\"text-align: right;\">         12</td><td style=\"text-align: right;\">         0</td><td style=\"text-align: right;\">                      7</td><td>verified             </td></tr>\n",
       "<tr><td style=\"text-align: right;\">       3000</td><td>36 months</td><td style=\"text-align: right;\">     18.64</td><td style=\"text-align: right;\">           9</td><td>RENT            </td><td style=\"text-align: right;\">       48000</td><td>car               </td><td>CA          </td><td style=\"text-align: right;\"> 5.35</td><td style=\"text-align: right;\">            0</td><td style=\"text-align: right;\">        87.5</td><td style=\"text-align: right;\">          4</td><td style=\"text-align: right;\">         0</td><td style=\"text-align: right;\">                      4</td><td>verified             </td></tr>\n",
       "<tr><td style=\"text-align: right;\">       5600</td><td>60 months</td><td style=\"text-align: right;\">     21.28</td><td style=\"text-align: right;\">           4</td><td>OWN             </td><td style=\"text-align: right;\">       40000</td><td>small_business    </td><td>CA          </td><td style=\"text-align: right;\"> 5.55</td><td style=\"text-align: right;\">            0</td><td style=\"text-align: right;\">        32.6</td><td style=\"text-align: right;\">         13</td><td style=\"text-align: right;\">         1</td><td style=\"text-align: right;\">                      7</td><td>verified             </td></tr>\n",
       "<tr><td style=\"text-align: right;\">       5375</td><td>60 months</td><td style=\"text-align: right;\">     12.69</td><td style=\"text-align: right;\">           0</td><td>RENT            </td><td style=\"text-align: right;\">       15000</td><td>other             </td><td>TX          </td><td style=\"text-align: right;\">18.08</td><td style=\"text-align: right;\">            0</td><td style=\"text-align: right;\">        36.5</td><td style=\"text-align: right;\">          3</td><td style=\"text-align: right;\">         1</td><td style=\"text-align: right;\">                      7</td><td>verified             </td></tr>\n",
       "<tr><td style=\"text-align: right;\">       6500</td><td>60 months</td><td style=\"text-align: right;\">     14.65</td><td style=\"text-align: right;\">           5</td><td>OWN             </td><td style=\"text-align: right;\">       72000</td><td>debt_consolidation</td><td>AZ          </td><td style=\"text-align: right;\">16.12</td><td style=\"text-align: right;\">            0</td><td style=\"text-align: right;\">        20.6</td><td style=\"text-align: right;\">         23</td><td style=\"text-align: right;\">         0</td><td style=\"text-align: right;\">                     13</td><td>not verified         </td></tr>\n",
       "<tr><td style=\"text-align: right;\">      12000</td><td>36 months</td><td style=\"text-align: right;\">     12.69</td><td style=\"text-align: right;\">          10</td><td>OWN             </td><td style=\"text-align: right;\">       75000</td><td>debt_consolidation</td><td>CA          </td><td style=\"text-align: right;\">10.78</td><td style=\"text-align: right;\">            0</td><td style=\"text-align: right;\">        67.1</td><td style=\"text-align: right;\">         34</td><td style=\"text-align: right;\">         0</td><td style=\"text-align: right;\">                     22</td><td>verified             </td></tr>\n",
       "</tbody>\n",
       "</table>"
      ]
     },
     "metadata": {},
     "output_type": "display_data"
    },
    {
     "data": {
      "text/plain": []
     },
     "execution_count": 13,
     "metadata": {},
     "output_type": "execute_result"
    }
   ],
   "source": [
    "df.head()"
   ]
  },
  {
   "cell_type": "code",
   "execution_count": 14,
   "metadata": {},
   "outputs": [
    {
     "name": "stdout",
     "output_type": "stream",
     "text": [
      "Rows:163987\n",
      "Cols:15\n",
      "\n",
      "\n"
     ]
    },
    {
     "data": {
      "text/html": [
       "<table>\n",
       "<thead>\n",
       "<tr><th>       </th><th>loan_amnt         </th><th>term     </th><th>int_rate          </th><th>emp_length        </th><th>home_ownership  </th><th>annual_inc        </th><th>purpose           </th><th>addr_state  </th><th>dti               </th><th>delinq_2yrs       </th><th>revol_util        </th><th>total_acc         </th><th>bad_loan          </th><th>longest_credit_length  </th><th>verification_status  </th></tr>\n",
       "</thead>\n",
       "<tbody>\n",
       "<tr><td>type   </td><td>int               </td><td>enum     </td><td>real              </td><td>int               </td><td>enum            </td><td>real              </td><td>enum              </td><td>enum        </td><td>real              </td><td>int               </td><td>real              </td><td>int               </td><td>int               </td><td>int                    </td><td>enum                 </td></tr>\n",
       "<tr><td>mins   </td><td>500.0             </td><td>         </td><td>5.42              </td><td>0.0               </td><td>                </td><td>1896.0            </td><td>                  </td><td>            </td><td>0.0               </td><td>0.0               </td><td>0.0               </td><td>1.0               </td><td>0.0               </td><td>0.0                    </td><td>                     </td></tr>\n",
       "<tr><td>mean   </td><td>13074.169141456336</td><td>         </td><td>13.715904065566173</td><td>5.68435293299533  </td><td>                </td><td>71915.67051974901 </td><td>                  </td><td>            </td><td>15.881530121290117</td><td>0.2273570060625282</td><td>54.07917280242258 </td><td>24.579733834274638</td><td>0.1830388994249544</td><td>14.854273655448353     </td><td>                     </td></tr>\n",
       "<tr><td>maxs   </td><td>35000.0           </td><td>         </td><td>26.06             </td><td>10.0              </td><td>                </td><td>7141778.0         </td><td>                  </td><td>            </td><td>39.99             </td><td>29.0              </td><td>150.70000000000002</td><td>118.0             </td><td>1.0               </td><td>65.0                   </td><td>                     </td></tr>\n",
       "<tr><td>sigma  </td><td>7993.556188734649 </td><td>         </td><td>4.391939870545795 </td><td>3.6106637311002365</td><td>                </td><td>59070.915654918244</td><td>                  </td><td>            </td><td>7.587668224192549 </td><td>0.6941679229284182</td><td>25.285366766770505</td><td>11.685190365910659</td><td>0.3866995896078875</td><td>6.947732922546696      </td><td>                     </td></tr>\n",
       "<tr><td>zeros  </td><td>0                 </td><td>         </td><td>0                 </td><td>14248             </td><td>                </td><td>0                 </td><td>                  </td><td>            </td><td>270               </td><td>139459            </td><td>1562              </td><td>0                 </td><td>133971            </td><td>11                     </td><td>                     </td></tr>\n",
       "<tr><td>missing</td><td>0                 </td><td>0        </td><td>0                 </td><td>5804              </td><td>0               </td><td>4                 </td><td>0                 </td><td>0           </td><td>0                 </td><td>29                </td><td>193               </td><td>29                </td><td>0                 </td><td>29                     </td><td>0                    </td></tr>\n",
       "<tr><td>0      </td><td>5000.0            </td><td>36 months</td><td>10.65             </td><td>10.0              </td><td>RENT            </td><td>24000.0           </td><td>credit_card       </td><td>AZ          </td><td>27.65             </td><td>0.0               </td><td>83.7              </td><td>9.0               </td><td>0.0               </td><td>26.0                   </td><td>verified             </td></tr>\n",
       "<tr><td>1      </td><td>2500.0            </td><td>60 months</td><td>15.27             </td><td>0.0               </td><td>RENT            </td><td>30000.0           </td><td>car               </td><td>GA          </td><td>1.0               </td><td>0.0               </td><td>9.4               </td><td>4.0               </td><td>1.0               </td><td>12.0                   </td><td>verified             </td></tr>\n",
       "<tr><td>2      </td><td>2400.0            </td><td>36 months</td><td>15.96             </td><td>10.0              </td><td>RENT            </td><td>12252.0           </td><td>small_business    </td><td>IL          </td><td>8.72              </td><td>0.0               </td><td>98.5              </td><td>10.0              </td><td>0.0               </td><td>10.0                   </td><td>not verified         </td></tr>\n",
       "<tr><td>3      </td><td>10000.0           </td><td>36 months</td><td>13.49             </td><td>10.0              </td><td>RENT            </td><td>49200.0           </td><td>other             </td><td>CA          </td><td>20.0              </td><td>0.0               </td><td>21.0              </td><td>37.0              </td><td>0.0               </td><td>15.0                   </td><td>verified             </td></tr>\n",
       "<tr><td>4      </td><td>5000.0            </td><td>36 months</td><td>7.9               </td><td>3.0               </td><td>RENT            </td><td>36000.0           </td><td>wedding           </td><td>AZ          </td><td>11.2              </td><td>0.0               </td><td>28.3              </td><td>12.0              </td><td>0.0               </td><td>7.0                    </td><td>verified             </td></tr>\n",
       "<tr><td>5      </td><td>3000.0            </td><td>36 months</td><td>18.64             </td><td>9.0               </td><td>RENT            </td><td>48000.0           </td><td>car               </td><td>CA          </td><td>5.3500000000000005</td><td>0.0               </td><td>87.5              </td><td>4.0               </td><td>0.0               </td><td>4.0                    </td><td>verified             </td></tr>\n",
       "<tr><td>6      </td><td>5600.0            </td><td>60 months</td><td>21.28             </td><td>4.0               </td><td>OWN             </td><td>40000.0           </td><td>small_business    </td><td>CA          </td><td>5.55              </td><td>0.0               </td><td>32.6              </td><td>13.0              </td><td>1.0               </td><td>7.0                    </td><td>verified             </td></tr>\n",
       "<tr><td>7      </td><td>5375.0            </td><td>60 months</td><td>12.69             </td><td>0.0               </td><td>RENT            </td><td>15000.0           </td><td>other             </td><td>TX          </td><td>18.08             </td><td>0.0               </td><td>36.5              </td><td>3.0               </td><td>1.0               </td><td>7.0                    </td><td>verified             </td></tr>\n",
       "<tr><td>8      </td><td>6500.0            </td><td>60 months</td><td>14.65             </td><td>5.0               </td><td>OWN             </td><td>72000.0           </td><td>debt_consolidation</td><td>AZ          </td><td>16.12             </td><td>0.0               </td><td>20.6              </td><td>23.0              </td><td>0.0               </td><td>13.0                   </td><td>not verified         </td></tr>\n",
       "<tr><td>9      </td><td>12000.0           </td><td>36 months</td><td>12.69             </td><td>10.0              </td><td>OWN             </td><td>75000.0           </td><td>debt_consolidation</td><td>CA          </td><td>10.78             </td><td>0.0               </td><td>67.10000000000001 </td><td>34.0              </td><td>0.0               </td><td>22.0                   </td><td>verified             </td></tr>\n",
       "</tbody>\n",
       "</table>"
      ]
     },
     "metadata": {},
     "output_type": "display_data"
    }
   ],
   "source": [
    "df.describe()"
   ]
  },
  {
   "cell_type": "markdown",
   "metadata": {},
   "source": [
    "describe()[source]\n",
    "Generate an in-depth description of this H2OFrame.\n",
    "\n",
    "The description is a tabular print of the type, min, max, sigma, number of zeros, and number of missing elements for each H2OVec in this H2OFrame.\n",
    "\n",
    "Returns:\tNone (print to stdout) "
   ]
  },
  {
   "cell_type": "code",
   "execution_count": 15,
   "metadata": {
    "collapsed": true
   },
   "outputs": [],
   "source": [
    "# dependent variable\n",
    "# assign target and inputs for classification or regression\n",
    "if target==None:\n",
    "  target=df.columns[-1]   \n",
    "y = target"
   ]
  },
  {
   "cell_type": "code",
   "execution_count": 16,
   "metadata": {},
   "outputs": [
    {
     "name": "stdout",
     "output_type": "stream",
     "text": [
      "verification_status\n"
     ]
    }
   ],
   "source": [
    "print(y)"
   ]
  },
  {
   "cell_type": "code",
   "execution_count": 17,
   "metadata": {
    "scrolled": true
   },
   "outputs": [
    {
     "name": "stdout",
     "output_type": "stream",
     "text": [
      "None\n"
     ]
    }
   ],
   "source": [
    "print(all_variables)"
   ]
  },
  {
   "cell_type": "code",
   "execution_count": 18,
   "metadata": {
    "collapsed": true
   },
   "outputs": [],
   "source": [
    "if all_variables is not None:\n",
    "  ivd=get_all_variables_csv(all_variables)\n",
    "  print(ivd)    \n",
    "  X=check_all_variables(df,ivd,y)\n",
    "  print(X)"
   ]
  },
  {
   "cell_type": "code",
   "execution_count": 19,
   "metadata": {},
   "outputs": [
    {
     "name": "stdout",
     "output_type": "stream",
     "text": [
      "Rows:163987\n",
      "Cols:15\n",
      "\n",
      "\n"
     ]
    },
    {
     "data": {
      "text/html": [
       "<table>\n",
       "<thead>\n",
       "<tr><th>       </th><th>loan_amnt         </th><th>term     </th><th>int_rate          </th><th>emp_length        </th><th>home_ownership  </th><th>annual_inc        </th><th>purpose           </th><th>addr_state  </th><th>dti               </th><th>delinq_2yrs       </th><th>revol_util        </th><th>total_acc         </th><th>bad_loan          </th><th>longest_credit_length  </th><th>verification_status  </th></tr>\n",
       "</thead>\n",
       "<tbody>\n",
       "<tr><td>type   </td><td>int               </td><td>enum     </td><td>real              </td><td>int               </td><td>enum            </td><td>real              </td><td>enum              </td><td>enum        </td><td>real              </td><td>int               </td><td>real              </td><td>int               </td><td>int               </td><td>int                    </td><td>enum                 </td></tr>\n",
       "<tr><td>mins   </td><td>500.0             </td><td>         </td><td>5.42              </td><td>0.0               </td><td>                </td><td>1896.0            </td><td>                  </td><td>            </td><td>0.0               </td><td>0.0               </td><td>0.0               </td><td>1.0               </td><td>0.0               </td><td>0.0                    </td><td>                     </td></tr>\n",
       "<tr><td>mean   </td><td>13074.169141456336</td><td>         </td><td>13.715904065566173</td><td>5.68435293299533  </td><td>                </td><td>71915.67051974901 </td><td>                  </td><td>            </td><td>15.881530121290117</td><td>0.2273570060625282</td><td>54.07917280242258 </td><td>24.579733834274638</td><td>0.1830388994249544</td><td>14.854273655448353     </td><td>                     </td></tr>\n",
       "<tr><td>maxs   </td><td>35000.0           </td><td>         </td><td>26.06             </td><td>10.0              </td><td>                </td><td>7141778.0         </td><td>                  </td><td>            </td><td>39.99             </td><td>29.0              </td><td>150.70000000000002</td><td>118.0             </td><td>1.0               </td><td>65.0                   </td><td>                     </td></tr>\n",
       "<tr><td>sigma  </td><td>7993.556188734649 </td><td>         </td><td>4.391939870545795 </td><td>3.6106637311002365</td><td>                </td><td>59070.915654918244</td><td>                  </td><td>            </td><td>7.587668224192549 </td><td>0.6941679229284182</td><td>25.285366766770505</td><td>11.685190365910659</td><td>0.3866995896078875</td><td>6.947732922546696      </td><td>                     </td></tr>\n",
       "<tr><td>zeros  </td><td>0                 </td><td>         </td><td>0                 </td><td>14248             </td><td>                </td><td>0                 </td><td>                  </td><td>            </td><td>270               </td><td>139459            </td><td>1562              </td><td>0                 </td><td>133971            </td><td>11                     </td><td>                     </td></tr>\n",
       "<tr><td>missing</td><td>0                 </td><td>0        </td><td>0                 </td><td>5804              </td><td>0               </td><td>4                 </td><td>0                 </td><td>0           </td><td>0                 </td><td>29                </td><td>193               </td><td>29                </td><td>0                 </td><td>29                     </td><td>0                    </td></tr>\n",
       "<tr><td>0      </td><td>5000.0            </td><td>36 months</td><td>10.65             </td><td>10.0              </td><td>RENT            </td><td>24000.0           </td><td>credit_card       </td><td>AZ          </td><td>27.65             </td><td>0.0               </td><td>83.7              </td><td>9.0               </td><td>0.0               </td><td>26.0                   </td><td>verified             </td></tr>\n",
       "<tr><td>1      </td><td>2500.0            </td><td>60 months</td><td>15.27             </td><td>0.0               </td><td>RENT            </td><td>30000.0           </td><td>car               </td><td>GA          </td><td>1.0               </td><td>0.0               </td><td>9.4               </td><td>4.0               </td><td>1.0               </td><td>12.0                   </td><td>verified             </td></tr>\n",
       "<tr><td>2      </td><td>2400.0            </td><td>36 months</td><td>15.96             </td><td>10.0              </td><td>RENT            </td><td>12252.0           </td><td>small_business    </td><td>IL          </td><td>8.72              </td><td>0.0               </td><td>98.5              </td><td>10.0              </td><td>0.0               </td><td>10.0                   </td><td>not verified         </td></tr>\n",
       "<tr><td>3      </td><td>10000.0           </td><td>36 months</td><td>13.49             </td><td>10.0              </td><td>RENT            </td><td>49200.0           </td><td>other             </td><td>CA          </td><td>20.0              </td><td>0.0               </td><td>21.0              </td><td>37.0              </td><td>0.0               </td><td>15.0                   </td><td>verified             </td></tr>\n",
       "<tr><td>4      </td><td>5000.0            </td><td>36 months</td><td>7.9               </td><td>3.0               </td><td>RENT            </td><td>36000.0           </td><td>wedding           </td><td>AZ          </td><td>11.2              </td><td>0.0               </td><td>28.3              </td><td>12.0              </td><td>0.0               </td><td>7.0                    </td><td>verified             </td></tr>\n",
       "<tr><td>5      </td><td>3000.0            </td><td>36 months</td><td>18.64             </td><td>9.0               </td><td>RENT            </td><td>48000.0           </td><td>car               </td><td>CA          </td><td>5.3500000000000005</td><td>0.0               </td><td>87.5              </td><td>4.0               </td><td>0.0               </td><td>4.0                    </td><td>verified             </td></tr>\n",
       "<tr><td>6      </td><td>5600.0            </td><td>60 months</td><td>21.28             </td><td>4.0               </td><td>OWN             </td><td>40000.0           </td><td>small_business    </td><td>CA          </td><td>5.55              </td><td>0.0               </td><td>32.6              </td><td>13.0              </td><td>1.0               </td><td>7.0                    </td><td>verified             </td></tr>\n",
       "<tr><td>7      </td><td>5375.0            </td><td>60 months</td><td>12.69             </td><td>0.0               </td><td>RENT            </td><td>15000.0           </td><td>other             </td><td>TX          </td><td>18.08             </td><td>0.0               </td><td>36.5              </td><td>3.0               </td><td>1.0               </td><td>7.0                    </td><td>verified             </td></tr>\n",
       "<tr><td>8      </td><td>6500.0            </td><td>60 months</td><td>14.65             </td><td>5.0               </td><td>OWN             </td><td>72000.0           </td><td>debt_consolidation</td><td>AZ          </td><td>16.12             </td><td>0.0               </td><td>20.6              </td><td>23.0              </td><td>0.0               </td><td>13.0                   </td><td>not verified         </td></tr>\n",
       "<tr><td>9      </td><td>12000.0           </td><td>36 months</td><td>12.69             </td><td>10.0              </td><td>OWN             </td><td>75000.0           </td><td>debt_consolidation</td><td>CA          </td><td>10.78             </td><td>0.0               </td><td>67.10000000000001 </td><td>34.0              </td><td>0.0               </td><td>22.0                   </td><td>verified             </td></tr>\n",
       "</tbody>\n",
       "</table>"
      ]
     },
     "metadata": {},
     "output_type": "display_data"
    }
   ],
   "source": [
    "df.describe()"
   ]
  },
  {
   "cell_type": "code",
   "execution_count": 20,
   "metadata": {
    "collapsed": true
   },
   "outputs": [],
   "source": [
    "# independent variables\n",
    "\n",
    "X = []  \n",
    "if all_variables is None:\n",
    "  X=get_independent_variables(df, target)  \n",
    "else: \n",
    "  ivd=get_all_variables_csv(all_variables)    \n",
    "  X=check_all_variables(df, ivd)\n",
    "\n",
    "\n",
    "X=check_X(X,df)\n",
    "\n",
    "\n",
    "# Add independent variables\n",
    "\n",
    "meta_data['X']=X  \n",
    "\n",
    "\n",
    "# impute missing values\n",
    "\n",
    "_=impute_missing_values(df,X, scale)"
   ]
  },
  {
   "cell_type": "code",
   "execution_count": 21,
   "metadata": {
    "collapsed": true
   },
   "outputs": [],
   "source": [
    "if analysis == 3:\n",
    "  classification=False\n",
    "elif analysis == 2:\n",
    "  classification=True\n",
    "elif analysis == 1:\n",
    "  classification=True"
   ]
  },
  {
   "cell_type": "code",
   "execution_count": 22,
   "metadata": {},
   "outputs": [
    {
     "name": "stdout",
     "output_type": "stream",
     "text": [
      "False\n"
     ]
    }
   ],
   "source": [
    "print(classification)"
   ]
  },
  {
   "cell_type": "code",
   "execution_count": 23,
   "metadata": {
    "collapsed": true
   },
   "outputs": [],
   "source": [
    "# Force target to be factors\n",
    "# Only 'int' or 'string' are allowed for asfactor(), got Target (Total orders):real \n",
    "\n",
    "if classification:\n",
    "    df[y] = df[y].asfactor()"
   ]
  },
  {
   "cell_type": "code",
   "execution_count": 24,
   "metadata": {
    "collapsed": true
   },
   "outputs": [],
   "source": [
    "def check_y(y,df):\n",
    "  ok=False\n",
    "  C = [name for name in df.columns if name == y]\n",
    "  for key, val in df.types.items():\n",
    "    if key in C:\n",
    "      if val in ['real','int','enum']:        \n",
    "        ok=True         \n",
    "  return ok, val   "
   ]
  },
  {
   "cell_type": "code",
   "execution_count": 25,
   "metadata": {
    "collapsed": true
   },
   "outputs": [],
   "source": [
    "ok,val=check_y(y,df)"
   ]
  },
  {
   "cell_type": "code",
   "execution_count": 26,
   "metadata": {},
   "outputs": [
    {
     "name": "stdout",
     "output_type": "stream",
     "text": [
      "enum\n"
     ]
    }
   ],
   "source": [
    "print(val)"
   ]
  },
  {
   "cell_type": "code",
   "execution_count": 27,
   "metadata": {},
   "outputs": [
    {
     "name": "stdout",
     "output_type": "stream",
     "text": [
      "True\n"
     ]
    }
   ],
   "source": [
    "print(ok)"
   ]
  },
  {
   "cell_type": "code",
   "execution_count": 28,
   "metadata": {},
   "outputs": [
    {
     "name": "stdout",
     "output_type": "stream",
     "text": [
      "[['not verified', 'verified']]\n"
     ]
    }
   ],
   "source": [
    "if val=='enum':\n",
    "    print(df[y].levels())"
   ]
  },
  {
   "cell_type": "code",
   "execution_count": 29,
   "metadata": {},
   "outputs": [
    {
     "name": "stdout",
     "output_type": "stream",
     "text": [
      "Rows:163987\n",
      "Cols:15\n",
      "\n",
      "\n"
     ]
    },
    {
     "data": {
      "text/html": [
       "<table>\n",
       "<thead>\n",
       "<tr><th>       </th><th>loan_amnt         </th><th>term     </th><th>int_rate          </th><th>emp_length        </th><th>home_ownership  </th><th>annual_inc       </th><th>purpose           </th><th>addr_state  </th><th>dti               </th><th>delinq_2yrs        </th><th>revol_util        </th><th>total_acc         </th><th>bad_loan          </th><th>longest_credit_length  </th><th>verification_status  </th></tr>\n",
       "</thead>\n",
       "<tbody>\n",
       "<tr><td>type   </td><td>int               </td><td>enum     </td><td>real              </td><td>real              </td><td>enum            </td><td>real             </td><td>enum              </td><td>enum        </td><td>real              </td><td>real               </td><td>real              </td><td>real              </td><td>int               </td><td>real                   </td><td>enum                 </td></tr>\n",
       "<tr><td>mins   </td><td>500.0             </td><td>         </td><td>5.42              </td><td>0.0               </td><td>                </td><td>1896.0           </td><td>                  </td><td>            </td><td>0.0               </td><td>0.0                </td><td>0.0               </td><td>1.0               </td><td>0.0               </td><td>0.0                    </td><td>                     </td></tr>\n",
       "<tr><td>mean   </td><td>13074.169141456336</td><td>         </td><td>13.715904065566173</td><td>5.6843529329953295</td><td>                </td><td>71915.67051974901</td><td>                  </td><td>            </td><td>15.881530121290117</td><td>0.22735700606252815</td><td>54.07917280242254 </td><td>24.579733834274638</td><td>0.1830388994249544</td><td>14.854273655448353     </td><td>                     </td></tr>\n",
       "<tr><td>maxs   </td><td>35000.0           </td><td>         </td><td>26.06             </td><td>10.0              </td><td>                </td><td>7141778.0        </td><td>                  </td><td>            </td><td>39.99             </td><td>29.0               </td><td>150.70000000000002</td><td>118.0             </td><td>1.0               </td><td>65.0                   </td><td>                     </td></tr>\n",
       "<tr><td>sigma  </td><td>7993.556188734649 </td><td>         </td><td>4.391939870545795 </td><td>3.5461915319989035</td><td>                </td><td>59070.19521200387</td><td>                  </td><td>            </td><td>7.587668224192549 </td><td>0.694106540371824  </td><td>25.270482836105227</td><td>11.684157090192695</td><td>0.3866995896078875</td><td>6.947118561676316      </td><td>                     </td></tr>\n",
       "<tr><td>zeros  </td><td>0                 </td><td>         </td><td>0                 </td><td>14248             </td><td>                </td><td>0                </td><td>                  </td><td>            </td><td>270               </td><td>139459             </td><td>1562              </td><td>0                 </td><td>133971            </td><td>11                     </td><td>                     </td></tr>\n",
       "<tr><td>missing</td><td>0                 </td><td>0        </td><td>0                 </td><td>0                 </td><td>0               </td><td>0                </td><td>0                 </td><td>0           </td><td>0                 </td><td>0                  </td><td>0                 </td><td>0                 </td><td>0                 </td><td>0                      </td><td>0                    </td></tr>\n",
       "<tr><td>0      </td><td>5000.0            </td><td>36 months</td><td>10.65             </td><td>10.0              </td><td>RENT            </td><td>24000.0          </td><td>credit_card       </td><td>AZ          </td><td>27.65             </td><td>0.0                </td><td>83.7              </td><td>9.0               </td><td>0.0               </td><td>26.0                   </td><td>verified             </td></tr>\n",
       "<tr><td>1      </td><td>2500.0            </td><td>60 months</td><td>15.27             </td><td>0.0               </td><td>RENT            </td><td>30000.0          </td><td>car               </td><td>GA          </td><td>1.0               </td><td>0.0                </td><td>9.4               </td><td>4.0               </td><td>1.0               </td><td>12.0                   </td><td>verified             </td></tr>\n",
       "<tr><td>2      </td><td>2400.0            </td><td>36 months</td><td>15.96             </td><td>10.0              </td><td>RENT            </td><td>12252.0          </td><td>small_business    </td><td>IL          </td><td>8.72              </td><td>0.0                </td><td>98.5              </td><td>10.0              </td><td>0.0               </td><td>10.0                   </td><td>not verified         </td></tr>\n",
       "<tr><td>3      </td><td>10000.0           </td><td>36 months</td><td>13.49             </td><td>10.0              </td><td>RENT            </td><td>49200.0          </td><td>other             </td><td>CA          </td><td>20.0              </td><td>0.0                </td><td>21.0              </td><td>37.0              </td><td>0.0               </td><td>15.0                   </td><td>verified             </td></tr>\n",
       "<tr><td>4      </td><td>5000.0            </td><td>36 months</td><td>7.9               </td><td>3.0               </td><td>RENT            </td><td>36000.0          </td><td>wedding           </td><td>AZ          </td><td>11.2              </td><td>0.0                </td><td>28.3              </td><td>12.0              </td><td>0.0               </td><td>7.0                    </td><td>verified             </td></tr>\n",
       "<tr><td>5      </td><td>3000.0            </td><td>36 months</td><td>18.64             </td><td>9.0               </td><td>RENT            </td><td>48000.0          </td><td>car               </td><td>CA          </td><td>5.3500000000000005</td><td>0.0                </td><td>87.5              </td><td>4.0               </td><td>0.0               </td><td>4.0                    </td><td>verified             </td></tr>\n",
       "<tr><td>6      </td><td>5600.0            </td><td>60 months</td><td>21.28             </td><td>4.0               </td><td>OWN             </td><td>40000.0          </td><td>small_business    </td><td>CA          </td><td>5.55              </td><td>0.0                </td><td>32.6              </td><td>13.0              </td><td>1.0               </td><td>7.0                    </td><td>verified             </td></tr>\n",
       "<tr><td>7      </td><td>5375.0            </td><td>60 months</td><td>12.69             </td><td>0.0               </td><td>RENT            </td><td>15000.0          </td><td>other             </td><td>TX          </td><td>18.08             </td><td>0.0                </td><td>36.5              </td><td>3.0               </td><td>1.0               </td><td>7.0                    </td><td>verified             </td></tr>\n",
       "<tr><td>8      </td><td>6500.0            </td><td>60 months</td><td>14.65             </td><td>5.0               </td><td>OWN             </td><td>72000.0          </td><td>debt_consolidation</td><td>AZ          </td><td>16.12             </td><td>0.0                </td><td>20.6              </td><td>23.0              </td><td>0.0               </td><td>13.0                   </td><td>not verified         </td></tr>\n",
       "<tr><td>9      </td><td>12000.0           </td><td>36 months</td><td>12.69             </td><td>10.0              </td><td>OWN             </td><td>75000.0          </td><td>debt_consolidation</td><td>CA          </td><td>10.78             </td><td>0.0                </td><td>67.10000000000001 </td><td>34.0              </td><td>0.0               </td><td>22.0                   </td><td>verified             </td></tr>\n",
       "</tbody>\n",
       "</table>"
      ]
     },
     "metadata": {},
     "output_type": "display_data"
    }
   ],
   "source": [
    "df.describe()"
   ]
  },
  {
   "cell_type": "code",
   "execution_count": 30,
   "metadata": {},
   "outputs": [
    {
     "data": {
      "text/plain": [
       "{'addr_state': 'enum',\n",
       " 'annual_inc': 'real',\n",
       " 'bad_loan': 'int',\n",
       " 'delinq_2yrs': 'int',\n",
       " 'dti': 'real',\n",
       " 'emp_length': 'int',\n",
       " 'home_ownership': 'enum',\n",
       " 'int_rate': 'real',\n",
       " 'loan_amnt': 'int',\n",
       " 'longest_credit_length': 'int',\n",
       " 'purpose': 'enum',\n",
       " 'revol_util': 'real',\n",
       " 'term': 'enum',\n",
       " 'total_acc': 'int',\n",
       " 'verification_status': 'enum'}"
      ]
     },
     "execution_count": 30,
     "metadata": {},
     "output_type": "execute_result"
    }
   ],
   "source": [
    "allV=get_variables_types(df)\n",
    "allV"
   ]
  },
  {
   "cell_type": "code",
   "execution_count": 31,
   "metadata": {
    "collapsed": true
   },
   "outputs": [],
   "source": [
    "meta_data['variables']=allV"
   ]
  },
  {
   "cell_type": "code",
   "execution_count": 32,
   "metadata": {
    "collapsed": true
   },
   "outputs": [],
   "source": [
    "# split into training and test for showing how to predict\n",
    "train, test = df.split_frame([0.9])"
   ]
  },
  {
   "cell_type": "code",
   "execution_count": 33,
   "metadata": {
    "collapsed": true
   },
   "outputs": [],
   "source": [
    "# Set up AutoML\n",
    "\n",
    "aml = H2OAutoML(max_runtime_secs=run_time,project_name = name)"
   ]
  },
  {
   "cell_type": "code",
   "execution_count": 34,
   "metadata": {
    "collapsed": true
   },
   "outputs": [],
   "source": [
    "model_start_time = time.time()"
   ]
  },
  {
   "cell_type": "code",
   "execution_count": 35,
   "metadata": {},
   "outputs": [
    {
     "name": "stdout",
     "output_type": "stream",
     "text": [
      "AutoML progress: |████████████████████████████████████████████████████████| 100%\n"
     ]
    }
   ],
   "source": [
    "aml.train(x=X,y=y,training_frame=train)"
   ]
  },
  {
   "cell_type": "code",
   "execution_count": 36,
   "metadata": {
    "collapsed": true
   },
   "outputs": [],
   "source": [
    "meta_data['model_execution_time'] = time.time() - model_start_time"
   ]
  },
  {
   "cell_type": "code",
   "execution_count": 37,
   "metadata": {
    "collapsed": true
   },
   "outputs": [],
   "source": [
    "# get leaderboard\n",
    "aml_leaderboard_df=aml.leaderboard.as_data_frame()"
   ]
  },
  {
   "cell_type": "code",
   "execution_count": 38,
   "metadata": {},
   "outputs": [
    {
     "data": {
      "text/html": [
       "<div>\n",
       "<style>\n",
       "    .dataframe thead tr:only-child th {\n",
       "        text-align: right;\n",
       "    }\n",
       "\n",
       "    .dataframe thead th {\n",
       "        text-align: left;\n",
       "    }\n",
       "\n",
       "    .dataframe tbody tr th {\n",
       "        vertical-align: top;\n",
       "    }\n",
       "</style>\n",
       "<table border=\"1\" class=\"dataframe\">\n",
       "  <thead>\n",
       "    <tr style=\"text-align: right;\">\n",
       "      <th></th>\n",
       "      <th>model_id</th>\n",
       "      <th>auc</th>\n",
       "      <th>logloss</th>\n",
       "      <th>mean_per_class_error</th>\n",
       "      <th>rmse</th>\n",
       "      <th>mse</th>\n",
       "    </tr>\n",
       "  </thead>\n",
       "  <tbody>\n",
       "    <tr>\n",
       "      <th>0</th>\n",
       "      <td>StackedEnsemble_AllModels_0_AutoML_20181003_00...</td>\n",
       "      <td>0.785823</td>\n",
       "      <td>0.522657</td>\n",
       "      <td>0.396698</td>\n",
       "      <td>0.421877</td>\n",
       "      <td>0.177980</td>\n",
       "    </tr>\n",
       "    <tr>\n",
       "      <th>1</th>\n",
       "      <td>StackedEnsemble_BestOfFamily_0_AutoML_20181003...</td>\n",
       "      <td>0.784996</td>\n",
       "      <td>0.523250</td>\n",
       "      <td>0.391956</td>\n",
       "      <td>0.422185</td>\n",
       "      <td>0.178241</td>\n",
       "    </tr>\n",
       "    <tr>\n",
       "      <th>2</th>\n",
       "      <td>GBM_grid_0_AutoML_20181003_003247_model_1</td>\n",
       "      <td>0.784544</td>\n",
       "      <td>0.518154</td>\n",
       "      <td>0.417497</td>\n",
       "      <td>0.421158</td>\n",
       "      <td>0.177374</td>\n",
       "    </tr>\n",
       "    <tr>\n",
       "      <th>3</th>\n",
       "      <td>GBM_grid_0_AutoML_20181003_003247_model_2</td>\n",
       "      <td>0.783022</td>\n",
       "      <td>0.519539</td>\n",
       "      <td>0.392275</td>\n",
       "      <td>0.421796</td>\n",
       "      <td>0.177912</td>\n",
       "    </tr>\n",
       "    <tr>\n",
       "      <th>4</th>\n",
       "      <td>GBM_grid_0_AutoML_20181003_003247_model_0</td>\n",
       "      <td>0.782517</td>\n",
       "      <td>0.519939</td>\n",
       "      <td>0.407686</td>\n",
       "      <td>0.421937</td>\n",
       "      <td>0.178031</td>\n",
       "    </tr>\n",
       "    <tr>\n",
       "      <th>5</th>\n",
       "      <td>GBM_grid_0_AutoML_20181003_003247_model_4</td>\n",
       "      <td>0.780564</td>\n",
       "      <td>0.521617</td>\n",
       "      <td>0.421100</td>\n",
       "      <td>0.422932</td>\n",
       "      <td>0.178872</td>\n",
       "    </tr>\n",
       "    <tr>\n",
       "      <th>6</th>\n",
       "      <td>GBM_grid_0_AutoML_20181003_003247_model_3</td>\n",
       "      <td>0.780374</td>\n",
       "      <td>0.522223</td>\n",
       "      <td>0.421792</td>\n",
       "      <td>0.423088</td>\n",
       "      <td>0.179004</td>\n",
       "    </tr>\n",
       "    <tr>\n",
       "      <th>7</th>\n",
       "      <td>XRT_0_AutoML_20181003_003247</td>\n",
       "      <td>0.775741</td>\n",
       "      <td>0.528193</td>\n",
       "      <td>0.417997</td>\n",
       "      <td>0.424820</td>\n",
       "      <td>0.180472</td>\n",
       "    </tr>\n",
       "    <tr>\n",
       "      <th>8</th>\n",
       "      <td>DRF_0_AutoML_20181003_003247</td>\n",
       "      <td>0.774102</td>\n",
       "      <td>0.537229</td>\n",
       "      <td>0.415757</td>\n",
       "      <td>0.425434</td>\n",
       "      <td>0.180994</td>\n",
       "    </tr>\n",
       "    <tr>\n",
       "      <th>9</th>\n",
       "      <td>DeepLearning_0_AutoML_20181003_003247</td>\n",
       "      <td>0.752195</td>\n",
       "      <td>0.548348</td>\n",
       "      <td>0.468879</td>\n",
       "      <td>0.434282</td>\n",
       "      <td>0.188600</td>\n",
       "    </tr>\n",
       "    <tr>\n",
       "      <th>10</th>\n",
       "      <td>GLM_grid_0_AutoML_20181003_003247_model_0</td>\n",
       "      <td>0.748344</td>\n",
       "      <td>0.551138</td>\n",
       "      <td>0.462745</td>\n",
       "      <td>0.436204</td>\n",
       "      <td>0.190274</td>\n",
       "    </tr>\n",
       "  </tbody>\n",
       "</table>\n",
       "</div>"
      ],
      "text/plain": [
       "                                             model_id       auc   logloss  \\\n",
       "0   StackedEnsemble_AllModels_0_AutoML_20181003_00...  0.785823  0.522657   \n",
       "1   StackedEnsemble_BestOfFamily_0_AutoML_20181003...  0.784996  0.523250   \n",
       "2           GBM_grid_0_AutoML_20181003_003247_model_1  0.784544  0.518154   \n",
       "3           GBM_grid_0_AutoML_20181003_003247_model_2  0.783022  0.519539   \n",
       "4           GBM_grid_0_AutoML_20181003_003247_model_0  0.782517  0.519939   \n",
       "5           GBM_grid_0_AutoML_20181003_003247_model_4  0.780564  0.521617   \n",
       "6           GBM_grid_0_AutoML_20181003_003247_model_3  0.780374  0.522223   \n",
       "7                        XRT_0_AutoML_20181003_003247  0.775741  0.528193   \n",
       "8                        DRF_0_AutoML_20181003_003247  0.774102  0.537229   \n",
       "9               DeepLearning_0_AutoML_20181003_003247  0.752195  0.548348   \n",
       "10          GLM_grid_0_AutoML_20181003_003247_model_0  0.748344  0.551138   \n",
       "\n",
       "    mean_per_class_error      rmse       mse  \n",
       "0               0.396698  0.421877  0.177980  \n",
       "1               0.391956  0.422185  0.178241  \n",
       "2               0.417497  0.421158  0.177374  \n",
       "3               0.392275  0.421796  0.177912  \n",
       "4               0.407686  0.421937  0.178031  \n",
       "5               0.421100  0.422932  0.178872  \n",
       "6               0.421792  0.423088  0.179004  \n",
       "7               0.417997  0.424820  0.180472  \n",
       "8               0.415757  0.425434  0.180994  \n",
       "9               0.468879  0.434282  0.188600  \n",
       "10              0.462745  0.436204  0.190274  "
      ]
     },
     "execution_count": 38,
     "metadata": {},
     "output_type": "execute_result"
    }
   ],
   "source": [
    "aml_leaderboard_df"
   ]
  },
  {
   "cell_type": "code",
   "execution_count": 39,
   "metadata": {
    "collapsed": true
   },
   "outputs": [],
   "source": [
    "# STart best model as first model\n",
    "\n",
    "model_set=aml_leaderboard_df['model_id']\n",
    "mod_best=h2o.get_model(model_set[0])"
   ]
  },
  {
   "cell_type": "code",
   "execution_count": 40,
   "metadata": {},
   "outputs": [
    {
     "data": {
      "text/plain": [
       "'StackedEnsemble_AllModels_0_AutoML_20181003_003247'"
      ]
     },
     "execution_count": 40,
     "metadata": {},
     "output_type": "execute_result"
    }
   ],
   "source": [
    "mod_best._id"
   ]
  },
  {
   "cell_type": "code",
   "execution_count": 41,
   "metadata": {
    "collapsed": true
   },
   "outputs": [],
   "source": [
    "# Get stacked ensemble  \n",
    "se=get_stacked_ensemble(model_set)"
   ]
  },
  {
   "cell_type": "code",
   "execution_count": 42,
   "metadata": {},
   "outputs": [
    {
     "name": "stdout",
     "output_type": "stream",
     "text": [
      "StackedEnsemble_BestOfFamily_0_AutoML_20181003_003247\n"
     ]
    }
   ],
   "source": [
    "print(se)"
   ]
  },
  {
   "cell_type": "code",
   "execution_count": 43,
   "metadata": {
    "collapsed": true
   },
   "outputs": [],
   "source": [
    "if se is not None:\n",
    "  mod_best=h2o.get_model(se)"
   ]
  },
  {
   "cell_type": "markdown",
   "metadata": {},
   "source": [
    "dir(mod_best)"
   ]
  },
  {
   "cell_type": "markdown",
   "metadata": {},
   "source": [
    "confusion_matrix(metrics=None, thresholds=None)[source]\n",
    "Get the confusion matrix for the specified metric\n",
    "\n",
    "Parameters:\t\n",
    "metrics – A string (or list of strings) in {“min_per_class_accuracy”, “absolute_mcc”, “tnr”, “fnr”, “fpr”, “tpr”, “precision”, “accuracy”, “f0point5”, “f2”, “f1”,”mean_per_class_accuracy”}\n",
    "thresholds – A value (or list of values) between 0 and 1\n",
    "\n",
    "http://docs.h2o.ai/h2o/latest-stable/h2o-py/docs/metrics.html"
   ]
  },
  {
   "cell_type": "code",
   "execution_count": 44,
   "metadata": {},
   "outputs": [
    {
     "name": "stdout",
     "output_type": "stream",
     "text": [
      "Confusion Matrix (Act/Pred) for max f1 @ threshold = 0.4491082665876067: \n"
     ]
    },
    {
     "data": {
      "text/html": [
       "<div style=\"overflow:auto\"><table style=\"width:50%\"><tr><td><b></b></td>\n",
       "<td><b>not verified</b></td>\n",
       "<td><b>verified</b></td>\n",
       "<td><b>Error</b></td>\n",
       "<td><b>Rate</b></td></tr>\n",
       "<tr><td>not verified</td>\n",
       "<td>28157.0</td>\n",
       "<td>14484.0</td>\n",
       "<td>0.3397</td>\n",
       "<td> (14484.0/42641.0)</td></tr>\n",
       "<tr><td>verified</td>\n",
       "<td>7543.0</td>\n",
       "<td>68050.0</td>\n",
       "<td>0.0998</td>\n",
       "<td> (7543.0/75593.0)</td></tr>\n",
       "<tr><td>Total</td>\n",
       "<td>35700.0</td>\n",
       "<td>82534.0</td>\n",
       "<td>0.1863</td>\n",
       "<td> (22027.0/118234.0)</td></tr></table></div>"
      ],
      "text/plain": [
       "              not verified    verified    Error    Rate\n",
       "------------  --------------  ----------  -------  ------------------\n",
       "not verified  28157           14484       0.3397   (14484.0/42641.0)\n",
       "verified      7543            68050       0.0998   (7543.0/75593.0)\n",
       "Total         35700           82534       0.1863   (22027.0/118234.0)"
      ]
     },
     "metadata": {},
     "output_type": "display_data"
    },
    {
     "data": {
      "text/plain": []
     },
     "execution_count": 44,
     "metadata": {},
     "output_type": "execute_result"
    }
   ],
   "source": [
    "mod_best.confusion_matrix()"
   ]
  },
  {
   "cell_type": "code",
   "execution_count": 45,
   "metadata": {},
   "outputs": [
    {
     "name": "stdout",
     "output_type": "stream",
     "text": [
      "Confusion Matrix (Act/Pred) for max f1 @ threshold = 0.4491082665876067: \n"
     ]
    },
    {
     "data": {
      "text/html": [
       "<div style=\"overflow:auto\"><table style=\"width:50%\"><tr><td><b></b></td>\n",
       "<td><b>not verified</b></td>\n",
       "<td><b>verified</b></td>\n",
       "<td><b>Error</b></td>\n",
       "<td><b>Rate</b></td></tr>\n",
       "<tr><td>not verified</td>\n",
       "<td>28157.0</td>\n",
       "<td>14484.0</td>\n",
       "<td>0.3397</td>\n",
       "<td> (14484.0/42641.0)</td></tr>\n",
       "<tr><td>verified</td>\n",
       "<td>7543.0</td>\n",
       "<td>68050.0</td>\n",
       "<td>0.0998</td>\n",
       "<td> (7543.0/75593.0)</td></tr>\n",
       "<tr><td>Total</td>\n",
       "<td>35700.0</td>\n",
       "<td>82534.0</td>\n",
       "<td>0.1863</td>\n",
       "<td> (22027.0/118234.0)</td></tr></table></div>"
      ],
      "text/plain": [
       "              not verified    verified    Error    Rate\n",
       "------------  --------------  ----------  -------  ------------------\n",
       "not verified  28157           14484       0.3397   (14484.0/42641.0)\n",
       "verified      7543            68050       0.0998   (7543.0/75593.0)\n",
       "Total         35700           82534       0.1863   (22027.0/118234.0)"
      ]
     },
     "metadata": {},
     "output_type": "display_data"
    },
    {
     "name": "stdout",
     "output_type": "stream",
     "text": [
      "Confusion Matrix (Act/Pred) for max f2 @ threshold = 0.34540682761612657: \n"
     ]
    },
    {
     "data": {
      "text/html": [
       "<div style=\"overflow:auto\"><table style=\"width:50%\"><tr><td><b></b></td>\n",
       "<td><b>not verified</b></td>\n",
       "<td><b>verified</b></td>\n",
       "<td><b>Error</b></td>\n",
       "<td><b>Rate</b></td></tr>\n",
       "<tr><td>not verified</td>\n",
       "<td>14624.0</td>\n",
       "<td>28017.0</td>\n",
       "<td>0.657</td>\n",
       "<td> (28017.0/42641.0)</td></tr>\n",
       "<tr><td>verified</td>\n",
       "<td>1280.0</td>\n",
       "<td>74313.0</td>\n",
       "<td>0.0169</td>\n",
       "<td> (1280.0/75593.0)</td></tr>\n",
       "<tr><td>Total</td>\n",
       "<td>15904.0</td>\n",
       "<td>102330.0</td>\n",
       "<td>0.2478</td>\n",
       "<td> (29297.0/118234.0)</td></tr></table></div>"
      ],
      "text/plain": [
       "              not verified    verified    Error    Rate\n",
       "------------  --------------  ----------  -------  ------------------\n",
       "not verified  14624           28017       0.657    (28017.0/42641.0)\n",
       "verified      1280            74313       0.0169   (1280.0/75593.0)\n",
       "Total         15904           102330      0.2478   (29297.0/118234.0)"
      ]
     },
     "metadata": {},
     "output_type": "display_data"
    },
    {
     "name": "stdout",
     "output_type": "stream",
     "text": [
      "Confusion Matrix (Act/Pred) for max f0point5 @ threshold = 0.598529971801974: \n"
     ]
    },
    {
     "data": {
      "text/html": [
       "<div style=\"overflow:auto\"><table style=\"width:50%\"><tr><td><b></b></td>\n",
       "<td><b>not verified</b></td>\n",
       "<td><b>verified</b></td>\n",
       "<td><b>Error</b></td>\n",
       "<td><b>Rate</b></td></tr>\n",
       "<tr><td>not verified</td>\n",
       "<td>37835.0</td>\n",
       "<td>4806.0</td>\n",
       "<td>0.1127</td>\n",
       "<td> (4806.0/42641.0)</td></tr>\n",
       "<tr><td>verified</td>\n",
       "<td>19467.0</td>\n",
       "<td>56126.0</td>\n",
       "<td>0.2575</td>\n",
       "<td> (19467.0/75593.0)</td></tr>\n",
       "<tr><td>Total</td>\n",
       "<td>57302.0</td>\n",
       "<td>60932.0</td>\n",
       "<td>0.2053</td>\n",
       "<td> (24273.0/118234.0)</td></tr></table></div>"
      ],
      "text/plain": [
       "              not verified    verified    Error    Rate\n",
       "------------  --------------  ----------  -------  ------------------\n",
       "not verified  37835           4806        0.1127   (4806.0/42641.0)\n",
       "verified      19467           56126       0.2575   (19467.0/75593.0)\n",
       "Total         57302           60932       0.2053   (24273.0/118234.0)"
      ]
     },
     "metadata": {},
     "output_type": "display_data"
    },
    {
     "name": "stdout",
     "output_type": "stream",
     "text": [
      "Confusion Matrix (Act/Pred) for max accuracy @ threshold = 0.48488493346781875: \n"
     ]
    },
    {
     "data": {
      "text/html": [
       "<div style=\"overflow:auto\"><table style=\"width:50%\"><tr><td><b></b></td>\n",
       "<td><b>not verified</b></td>\n",
       "<td><b>verified</b></td>\n",
       "<td><b>Error</b></td>\n",
       "<td><b>Rate</b></td></tr>\n",
       "<tr><td>not verified</td>\n",
       "<td>31411.0</td>\n",
       "<td>11230.0</td>\n",
       "<td>0.2634</td>\n",
       "<td> (11230.0/42641.0)</td></tr>\n",
       "<tr><td>verified</td>\n",
       "<td>10260.0</td>\n",
       "<td>65333.0</td>\n",
       "<td>0.1357</td>\n",
       "<td> (10260.0/75593.0)</td></tr>\n",
       "<tr><td>Total</td>\n",
       "<td>41671.0</td>\n",
       "<td>76563.0</td>\n",
       "<td>0.1818</td>\n",
       "<td> (21490.0/118234.0)</td></tr></table></div>"
      ],
      "text/plain": [
       "              not verified    verified    Error    Rate\n",
       "------------  --------------  ----------  -------  ------------------\n",
       "not verified  31411           11230       0.2634   (11230.0/42641.0)\n",
       "verified      10260           65333       0.1357   (10260.0/75593.0)\n",
       "Total         41671           76563       0.1818   (21490.0/118234.0)"
      ]
     },
     "metadata": {},
     "output_type": "display_data"
    },
    {
     "name": "stdout",
     "output_type": "stream",
     "text": [
      "Confusion Matrix (Act/Pred) for max precision @ threshold = 0.9462183010765954: \n"
     ]
    },
    {
     "data": {
      "text/html": [
       "<div style=\"overflow:auto\"><table style=\"width:50%\"><tr><td><b></b></td>\n",
       "<td><b>not verified</b></td>\n",
       "<td><b>verified</b></td>\n",
       "<td><b>Error</b></td>\n",
       "<td><b>Rate</b></td></tr>\n",
       "<tr><td>not verified</td>\n",
       "<td>42641.0</td>\n",
       "<td>0.0</td>\n",
       "<td>0.0</td>\n",
       "<td> (0.0/42641.0)</td></tr>\n",
       "<tr><td>verified</td>\n",
       "<td>74015.0</td>\n",
       "<td>1578.0</td>\n",
       "<td>0.9791</td>\n",
       "<td> (74015.0/75593.0)</td></tr>\n",
       "<tr><td>Total</td>\n",
       "<td>116656.0</td>\n",
       "<td>1578.0</td>\n",
       "<td>0.626</td>\n",
       "<td> (74015.0/118234.0)</td></tr></table></div>"
      ],
      "text/plain": [
       "              not verified    verified    Error    Rate\n",
       "------------  --------------  ----------  -------  ------------------\n",
       "not verified  42641           0           0        (0.0/42641.0)\n",
       "verified      74015           1578        0.9791   (74015.0/75593.0)\n",
       "Total         116656          1578        0.626    (74015.0/118234.0)"
      ]
     },
     "metadata": {},
     "output_type": "display_data"
    },
    {
     "name": "stdout",
     "output_type": "stream",
     "text": [
      "Confusion Matrix (Act/Pred) for max recall @ threshold = 0.19618257820553392: \n"
     ]
    },
    {
     "data": {
      "text/html": [
       "<div style=\"overflow:auto\"><table style=\"width:50%\"><tr><td><b></b></td>\n",
       "<td><b>not verified</b></td>\n",
       "<td><b>verified</b></td>\n",
       "<td><b>Error</b></td>\n",
       "<td><b>Rate</b></td></tr>\n",
       "<tr><td>not verified</td>\n",
       "<td>976.0</td>\n",
       "<td>41665.0</td>\n",
       "<td>0.9771</td>\n",
       "<td> (41665.0/42641.0)</td></tr>\n",
       "<tr><td>verified</td>\n",
       "<td>0.0</td>\n",
       "<td>75593.0</td>\n",
       "<td>0.0</td>\n",
       "<td> (0.0/75593.0)</td></tr>\n",
       "<tr><td>Total</td>\n",
       "<td>976.0</td>\n",
       "<td>117258.0</td>\n",
       "<td>0.3524</td>\n",
       "<td> (41665.0/118234.0)</td></tr></table></div>"
      ],
      "text/plain": [
       "              not verified    verified    Error    Rate\n",
       "------------  --------------  ----------  -------  ------------------\n",
       "not verified  976             41665       0.9771   (41665.0/42641.0)\n",
       "verified      0               75593       0        (0.0/75593.0)\n",
       "Total         976             117258      0.3524   (41665.0/118234.0)"
      ]
     },
     "metadata": {},
     "output_type": "display_data"
    },
    {
     "name": "stdout",
     "output_type": "stream",
     "text": [
      "Confusion Matrix (Act/Pred) for max precision @ threshold = 0.9462183010765954: \n"
     ]
    },
    {
     "data": {
      "text/html": [
       "<div style=\"overflow:auto\"><table style=\"width:50%\"><tr><td><b></b></td>\n",
       "<td><b>not verified</b></td>\n",
       "<td><b>verified</b></td>\n",
       "<td><b>Error</b></td>\n",
       "<td><b>Rate</b></td></tr>\n",
       "<tr><td>not verified</td>\n",
       "<td>42641.0</td>\n",
       "<td>0.0</td>\n",
       "<td>0.0</td>\n",
       "<td> (0.0/42641.0)</td></tr>\n",
       "<tr><td>verified</td>\n",
       "<td>74015.0</td>\n",
       "<td>1578.0</td>\n",
       "<td>0.9791</td>\n",
       "<td> (74015.0/75593.0)</td></tr>\n",
       "<tr><td>Total</td>\n",
       "<td>116656.0</td>\n",
       "<td>1578.0</td>\n",
       "<td>0.626</td>\n",
       "<td> (74015.0/118234.0)</td></tr></table></div>"
      ],
      "text/plain": [
       "              not verified    verified    Error    Rate\n",
       "------------  --------------  ----------  -------  ------------------\n",
       "not verified  42641           0           0        (0.0/42641.0)\n",
       "verified      74015           1578        0.9791   (74015.0/75593.0)\n",
       "Total         116656          1578        0.626    (74015.0/118234.0)"
      ]
     },
     "metadata": {},
     "output_type": "display_data"
    },
    {
     "name": "stdout",
     "output_type": "stream",
     "text": [
      "Confusion Matrix (Act/Pred) for max absolute_mcc @ threshold = 0.5512065088831092: \n"
     ]
    },
    {
     "data": {
      "text/html": [
       "<div style=\"overflow:auto\"><table style=\"width:50%\"><tr><td><b></b></td>\n",
       "<td><b>not verified</b></td>\n",
       "<td><b>verified</b></td>\n",
       "<td><b>Error</b></td>\n",
       "<td><b>Rate</b></td></tr>\n",
       "<tr><td>not verified</td>\n",
       "<td>35793.0</td>\n",
       "<td>6848.0</td>\n",
       "<td>0.1606</td>\n",
       "<td> (6848.0/42641.0)</td></tr>\n",
       "<tr><td>verified</td>\n",
       "<td>15700.0</td>\n",
       "<td>59893.0</td>\n",
       "<td>0.2077</td>\n",
       "<td> (15700.0/75593.0)</td></tr>\n",
       "<tr><td>Total</td>\n",
       "<td>51493.0</td>\n",
       "<td>66741.0</td>\n",
       "<td>0.1907</td>\n",
       "<td> (22548.0/118234.0)</td></tr></table></div>"
      ],
      "text/plain": [
       "              not verified    verified    Error    Rate\n",
       "------------  --------------  ----------  -------  ------------------\n",
       "not verified  35793           6848        0.1606   (6848.0/42641.0)\n",
       "verified      15700           59893       0.2077   (15700.0/75593.0)\n",
       "Total         51493           66741       0.1907   (22548.0/118234.0)"
      ]
     },
     "metadata": {},
     "output_type": "display_data"
    },
    {
     "name": "stdout",
     "output_type": "stream",
     "text": [
      "Confusion Matrix (Act/Pred) for max min_per_class_accuracy @ threshold = 0.5313532697534705: \n"
     ]
    },
    {
     "data": {
      "text/html": [
       "<div style=\"overflow:auto\"><table style=\"width:50%\"><tr><td><b></b></td>\n",
       "<td><b>not verified</b></td>\n",
       "<td><b>verified</b></td>\n",
       "<td><b>Error</b></td>\n",
       "<td><b>Rate</b></td></tr>\n",
       "<tr><td>not verified</td>\n",
       "<td>34652.0</td>\n",
       "<td>7989.0</td>\n",
       "<td>0.1874</td>\n",
       "<td> (7989.0/42641.0)</td></tr>\n",
       "<tr><td>verified</td>\n",
       "<td>14059.0</td>\n",
       "<td>61534.0</td>\n",
       "<td>0.186</td>\n",
       "<td> (14059.0/75593.0)</td></tr>\n",
       "<tr><td>Total</td>\n",
       "<td>48711.0</td>\n",
       "<td>69523.0</td>\n",
       "<td>0.1865</td>\n",
       "<td> (22048.0/118234.0)</td></tr></table></div>"
      ],
      "text/plain": [
       "              not verified    verified    Error    Rate\n",
       "------------  --------------  ----------  -------  ------------------\n",
       "not verified  34652           7989        0.1874   (7989.0/42641.0)\n",
       "verified      14059           61534       0.186    (14059.0/75593.0)\n",
       "Total         48711           69523       0.1865   (22048.0/118234.0)"
      ]
     },
     "metadata": {},
     "output_type": "display_data"
    },
    {
     "name": "stdout",
     "output_type": "stream",
     "text": [
      "Confusion Matrix (Act/Pred) for max mean_per_class_accuracy @ threshold = 0.5732548117680268: \n"
     ]
    },
    {
     "data": {
      "text/html": [
       "<div style=\"overflow:auto\"><table style=\"width:50%\"><tr><td><b></b></td>\n",
       "<td><b>not verified</b></td>\n",
       "<td><b>verified</b></td>\n",
       "<td><b>Error</b></td>\n",
       "<td><b>Rate</b></td></tr>\n",
       "<tr><td>not verified</td>\n",
       "<td>36861.0</td>\n",
       "<td>5780.0</td>\n",
       "<td>0.1356</td>\n",
       "<td> (5780.0/42641.0)</td></tr>\n",
       "<tr><td>verified</td>\n",
       "<td>17413.0</td>\n",
       "<td>58180.0</td>\n",
       "<td>0.2304</td>\n",
       "<td> (17413.0/75593.0)</td></tr>\n",
       "<tr><td>Total</td>\n",
       "<td>54274.0</td>\n",
       "<td>63960.0</td>\n",
       "<td>0.1962</td>\n",
       "<td> (23193.0/118234.0)</td></tr></table></div>"
      ],
      "text/plain": [
       "              not verified    verified    Error    Rate\n",
       "------------  --------------  ----------  -------  ------------------\n",
       "not verified  36861           5780        0.1356   (5780.0/42641.0)\n",
       "verified      17413           58180       0.2304   (17413.0/75593.0)\n",
       "Total         54274           63960       0.1962   (23193.0/118234.0)"
      ]
     },
     "metadata": {},
     "output_type": "display_data"
    },
    {
     "data": {
      "text/plain": [
       "[, , , , , , , , , ]"
      ]
     },
     "execution_count": 45,
     "metadata": {},
     "output_type": "execute_result"
    }
   ],
   "source": [
    "mod_best.confusion_matrix(metrics=[\"f1\",\"f2\",\"f0point5\",\"accuracy\",\"precision\",\"recall\",\"specificity\",\"absolute_mcc\",\"min_per_class_accuracy\",\"mean_per_class_accuracy\"])"
   ]
  },
  {
   "cell_type": "code",
   "execution_count": 46,
   "metadata": {},
   "outputs": [
    {
     "data": {
      "text/plain": [
       "'StackedEnsemble_BestOfFamily_0_AutoML_20181003_003247'"
      ]
     },
     "execution_count": 46,
     "metadata": {},
     "output_type": "execute_result"
    }
   ],
   "source": [
    "mod_best._id"
   ]
  },
  {
   "cell_type": "code",
   "execution_count": 47,
   "metadata": {},
   "outputs": [
    {
     "data": {
      "text/plain": [
       "<function h2o.model.model_base.ModelBase._get_metrics>"
      ]
     },
     "execution_count": 47,
     "metadata": {},
     "output_type": "execute_result"
    }
   ],
   "source": [
    "mod_best._get_metrics"
   ]
  },
  {
   "cell_type": "code",
   "execution_count": 48,
   "metadata": {},
   "outputs": [
    {
     "data": {
      "text/plain": [
       "h2o.estimators.stackedensemble.H2OStackedEnsembleEstimator"
      ]
     },
     "execution_count": 48,
     "metadata": {},
     "output_type": "execute_result"
    }
   ],
   "source": [
    "type(mod_best)"
   ]
  },
  {
   "cell_type": "code",
   "execution_count": 49,
   "metadata": {},
   "outputs": [
    {
     "name": "stdout",
     "output_type": "stream",
     "text": [
      "Model Details\n",
      "=============\n",
      "H2OStackedEnsembleEstimator :  Stacked Ensemble\n",
      "Model Key:  StackedEnsemble_BestOfFamily_0_AutoML_20181003_003247\n",
      "No model summary for this model\n",
      "\n",
      "\n",
      "ModelMetricsBinomialGLM: stackedensemble\n",
      "** Reported on train data. **\n",
      "\n",
      "MSE: 0.13283243041888848\n",
      "RMSE: 0.36446183671118226\n",
      "LogLoss: 0.41502682890195663\n",
      "Null degrees of freedom: 118233\n",
      "Residual degrees of freedom: 118229\n",
      "Null deviance: 154600.60735250154\n",
      "Residual deviance: 98140.56417678788\n",
      "AIC: 98150.56417678788\n",
      "AUC: 0.9019159548320826\n",
      "Gini: 0.8038319096641653\n",
      "Confusion Matrix (Act/Pred) for max f1 @ threshold = 0.4491082665876067: \n"
     ]
    },
    {
     "data": {
      "text/html": [
       "<div style=\"overflow:auto\"><table style=\"width:50%\"><tr><td><b></b></td>\n",
       "<td><b>not verified</b></td>\n",
       "<td><b>verified</b></td>\n",
       "<td><b>Error</b></td>\n",
       "<td><b>Rate</b></td></tr>\n",
       "<tr><td>not verified</td>\n",
       "<td>28157.0</td>\n",
       "<td>14484.0</td>\n",
       "<td>0.3397</td>\n",
       "<td> (14484.0/42641.0)</td></tr>\n",
       "<tr><td>verified</td>\n",
       "<td>7543.0</td>\n",
       "<td>68050.0</td>\n",
       "<td>0.0998</td>\n",
       "<td> (7543.0/75593.0)</td></tr>\n",
       "<tr><td>Total</td>\n",
       "<td>35700.0</td>\n",
       "<td>82534.0</td>\n",
       "<td>0.1863</td>\n",
       "<td> (22027.0/118234.0)</td></tr></table></div>"
      ],
      "text/plain": [
       "              not verified    verified    Error    Rate\n",
       "------------  --------------  ----------  -------  ------------------\n",
       "not verified  28157           14484       0.3397   (14484.0/42641.0)\n",
       "verified      7543            68050       0.0998   (7543.0/75593.0)\n",
       "Total         35700           82534       0.1863   (22027.0/118234.0)"
      ]
     },
     "metadata": {},
     "output_type": "display_data"
    },
    {
     "name": "stdout",
     "output_type": "stream",
     "text": [
      "Maximum Metrics: Maximum metrics at their respective thresholds\n",
      "\n"
     ]
    },
    {
     "data": {
      "text/html": [
       "<div style=\"overflow:auto\"><table style=\"width:50%\"><tr><td><b>metric</b></td>\n",
       "<td><b>threshold</b></td>\n",
       "<td><b>value</b></td>\n",
       "<td><b>idx</b></td></tr>\n",
       "<tr><td>max f1</td>\n",
       "<td>0.4491083</td>\n",
       "<td>0.8607006</td>\n",
       "<td>252.0</td></tr>\n",
       "<tr><td>max f2</td>\n",
       "<td>0.3454068</td>\n",
       "<td>0.9181200</td>\n",
       "<td>312.0</td></tr>\n",
       "<tr><td>max f0point5</td>\n",
       "<td>0.5985300</td>\n",
       "<td>0.8788335</td>\n",
       "<td>174.0</td></tr>\n",
       "<tr><td>max accuracy</td>\n",
       "<td>0.4848849</td>\n",
       "<td>0.8182418</td>\n",
       "<td>232.0</td></tr>\n",
       "<tr><td>max precision</td>\n",
       "<td>0.9462183</td>\n",
       "<td>1.0</td>\n",
       "<td>0.0</td></tr>\n",
       "<tr><td>max recall</td>\n",
       "<td>0.1961826</td>\n",
       "<td>1.0</td>\n",
       "<td>379.0</td></tr>\n",
       "<tr><td>max specificity</td>\n",
       "<td>0.9462183</td>\n",
       "<td>1.0</td>\n",
       "<td>0.0</td></tr>\n",
       "<tr><td>max absolute_mcc</td>\n",
       "<td>0.5512065</td>\n",
       "<td>0.6117913</td>\n",
       "<td>198.0</td></tr>\n",
       "<tr><td>max min_per_class_accuracy</td>\n",
       "<td>0.5313533</td>\n",
       "<td>0.8126451</td>\n",
       "<td>209.0</td></tr>\n",
       "<tr><td>max mean_per_class_accuracy</td>\n",
       "<td>0.5732548</td>\n",
       "<td>0.8170488</td>\n",
       "<td>187.0</td></tr></table></div>"
      ],
      "text/plain": [
       "metric                       threshold    value     idx\n",
       "---------------------------  -----------  --------  -----\n",
       "max f1                       0.449108     0.860701  252\n",
       "max f2                       0.345407     0.91812   312\n",
       "max f0point5                 0.59853      0.878834  174\n",
       "max accuracy                 0.484885     0.818242  232\n",
       "max precision                0.946218     1         0\n",
       "max recall                   0.196183     1         379\n",
       "max specificity              0.946218     1         0\n",
       "max absolute_mcc             0.551207     0.611791  198\n",
       "max min_per_class_accuracy   0.531353     0.812645  209\n",
       "max mean_per_class_accuracy  0.573255     0.817049  187"
      ]
     },
     "metadata": {},
     "output_type": "display_data"
    },
    {
     "name": "stdout",
     "output_type": "stream",
     "text": [
      "Gains/Lift Table: Avg response rate: 63.94 %\n",
      "\n"
     ]
    },
    {
     "data": {
      "text/html": [
       "<div style=\"overflow:auto\"><table style=\"width:50%\"><tr><td><b></b></td>\n",
       "<td><b>group</b></td>\n",
       "<td><b>cumulative_data_fraction</b></td>\n",
       "<td><b>lower_threshold</b></td>\n",
       "<td><b>lift</b></td>\n",
       "<td><b>cumulative_lift</b></td>\n",
       "<td><b>response_rate</b></td>\n",
       "<td><b>cumulative_response_rate</b></td>\n",
       "<td><b>capture_rate</b></td>\n",
       "<td><b>cumulative_capture_rate</b></td>\n",
       "<td><b>gain</b></td>\n",
       "<td><b>cumulative_gain</b></td></tr>\n",
       "<tr><td></td>\n",
       "<td>1</td>\n",
       "<td>0.0100056</td>\n",
       "<td>0.9460229</td>\n",
       "<td>1.5640866</td>\n",
       "<td>1.5640866</td>\n",
       "<td>1.0</td>\n",
       "<td>1.0</td>\n",
       "<td>0.0156496</td>\n",
       "<td>0.0156496</td>\n",
       "<td>56.4086622</td>\n",
       "<td>56.4086622</td></tr>\n",
       "<tr><td></td>\n",
       "<td>2</td>\n",
       "<td>0.0200027</td>\n",
       "<td>0.9452925</td>\n",
       "<td>1.5640866</td>\n",
       "<td>1.5640866</td>\n",
       "<td>1.0</td>\n",
       "<td>1.0</td>\n",
       "<td>0.0156364</td>\n",
       "<td>0.0312860</td>\n",
       "<td>56.4086622</td>\n",
       "<td>56.4086622</td></tr>\n",
       "<tr><td></td>\n",
       "<td>3</td>\n",
       "<td>0.0299998</td>\n",
       "<td>0.9446631</td>\n",
       "<td>1.5640866</td>\n",
       "<td>1.5640866</td>\n",
       "<td>1.0</td>\n",
       "<td>1.0</td>\n",
       "<td>0.0156364</td>\n",
       "<td>0.0469223</td>\n",
       "<td>56.4086622</td>\n",
       "<td>56.4086622</td></tr>\n",
       "<tr><td></td>\n",
       "<td>4</td>\n",
       "<td>0.0400054</td>\n",
       "<td>0.9439739</td>\n",
       "<td>1.5640866</td>\n",
       "<td>1.5640866</td>\n",
       "<td>1.0</td>\n",
       "<td>1.0</td>\n",
       "<td>0.0156496</td>\n",
       "<td>0.0625719</td>\n",
       "<td>56.4086622</td>\n",
       "<td>56.4086622</td></tr>\n",
       "<tr><td></td>\n",
       "<td>5</td>\n",
       "<td>0.0500025</td>\n",
       "<td>0.9432497</td>\n",
       "<td>1.5640866</td>\n",
       "<td>1.5640866</td>\n",
       "<td>1.0</td>\n",
       "<td>1.0</td>\n",
       "<td>0.0156364</td>\n",
       "<td>0.0782083</td>\n",
       "<td>56.4086622</td>\n",
       "<td>56.4086622</td></tr>\n",
       "<tr><td></td>\n",
       "<td>6</td>\n",
       "<td>0.1000051</td>\n",
       "<td>0.9396620</td>\n",
       "<td>1.5640866</td>\n",
       "<td>1.5640866</td>\n",
       "<td>1.0</td>\n",
       "<td>1.0</td>\n",
       "<td>0.0782083</td>\n",
       "<td>0.1564166</td>\n",
       "<td>56.4086622</td>\n",
       "<td>56.4086622</td></tr>\n",
       "<tr><td></td>\n",
       "<td>7</td>\n",
       "<td>0.1499992</td>\n",
       "<td>0.9324639</td>\n",
       "<td>1.5640866</td>\n",
       "<td>1.5640866</td>\n",
       "<td>1.0</td>\n",
       "<td>1.0</td>\n",
       "<td>0.0781951</td>\n",
       "<td>0.2346117</td>\n",
       "<td>56.4086622</td>\n",
       "<td>56.4086622</td></tr>\n",
       "<tr><td></td>\n",
       "<td>8</td>\n",
       "<td>0.2000017</td>\n",
       "<td>0.9201332</td>\n",
       "<td>1.5640866</td>\n",
       "<td>1.5640866</td>\n",
       "<td>1.0</td>\n",
       "<td>1.0</td>\n",
       "<td>0.0782083</td>\n",
       "<td>0.3128200</td>\n",
       "<td>56.4086622</td>\n",
       "<td>56.4086622</td></tr>\n",
       "<tr><td></td>\n",
       "<td>9</td>\n",
       "<td>0.2999983</td>\n",
       "<td>0.8799582</td>\n",
       "<td>1.5537679</td>\n",
       "<td>1.5606471</td>\n",
       "<td>0.9934027</td>\n",
       "<td>0.9978010</td>\n",
       "<td>0.1553715</td>\n",
       "<td>0.4681915</td>\n",
       "<td>55.3767857</td>\n",
       "<td>56.0647130</td></tr>\n",
       "<tr><td></td>\n",
       "<td>10</td>\n",
       "<td>0.4000034</td>\n",
       "<td>0.7500127</td>\n",
       "<td>1.2941018</td>\n",
       "<td>1.4940080</td>\n",
       "<td>0.8273850</td>\n",
       "<td>0.9551952</td>\n",
       "<td>0.1294167</td>\n",
       "<td>0.5976082</td>\n",
       "<td>29.4101778</td>\n",
       "<td>49.4007974</td></tr>\n",
       "<tr><td></td>\n",
       "<td>11</td>\n",
       "<td>0.5</td>\n",
       "<td>0.6139580</td>\n",
       "<td>1.2747643</td>\n",
       "<td>1.4501607</td>\n",
       "<td>0.8150216</td>\n",
       "<td>0.9271614</td>\n",
       "<td>0.1274721</td>\n",
       "<td>0.7250804</td>\n",
       "<td>27.4764331</td>\n",
       "<td>45.0160729</td></tr>\n",
       "<tr><td></td>\n",
       "<td>12</td>\n",
       "<td>0.5999966</td>\n",
       "<td>0.5200249</td>\n",
       "<td>0.9997296</td>\n",
       "<td>1.3750910</td>\n",
       "<td>0.6391779</td>\n",
       "<td>0.8791655</td>\n",
       "<td>0.0999696</td>\n",
       "<td>0.8250499</td>\n",
       "<td>-0.0270439</td>\n",
       "<td>37.5090984</td></tr>\n",
       "<tr><td></td>\n",
       "<td>13</td>\n",
       "<td>0.7000017</td>\n",
       "<td>0.4467173</td>\n",
       "<td>0.7636563</td>\n",
       "<td>1.2877390</td>\n",
       "<td>0.4882442</td>\n",
       "<td>0.8233169</td>\n",
       "<td>0.0763695</td>\n",
       "<td>0.9014194</td>\n",
       "<td>-23.6343702</td>\n",
       "<td>28.7738950</td></tr>\n",
       "<tr><td></td>\n",
       "<td>14</td>\n",
       "<td>0.7999983</td>\n",
       "<td>0.3842762</td>\n",
       "<td>0.5664737</td>\n",
       "<td>1.1975837</td>\n",
       "<td>0.3621754</td>\n",
       "<td>0.7656760</td>\n",
       "<td>0.0566455</td>\n",
       "<td>0.9580649</td>\n",
       "<td>-43.3526270</td>\n",
       "<td>19.7583657</td></tr>\n",
       "<tr><td></td>\n",
       "<td>15</td>\n",
       "<td>0.8999949</td>\n",
       "<td>0.3204968</td>\n",
       "<td>0.3329786</td>\n",
       "<td>1.1015191</td>\n",
       "<td>0.2128901</td>\n",
       "<td>0.7042571</td>\n",
       "<td>0.0332967</td>\n",
       "<td>0.9913616</td>\n",
       "<td>-66.7021397</td>\n",
       "<td>10.1519138</td></tr>\n",
       "<tr><td></td>\n",
       "<td>16</td>\n",
       "<td>1.0</td>\n",
       "<td>0.0617670</td>\n",
       "<td>0.0863793</td>\n",
       "<td>1.0</td>\n",
       "<td>0.0552267</td>\n",
       "<td>0.6393508</td>\n",
       "<td>0.0086384</td>\n",
       "<td>1.0</td>\n",
       "<td>-91.3620724</td>\n",
       "<td>0.0</td></tr></table></div>"
      ],
      "text/plain": [
       "    group    cumulative_data_fraction    lower_threshold    lift       cumulative_lift    response_rate    cumulative_response_rate    capture_rate    cumulative_capture_rate    gain        cumulative_gain\n",
       "--  -------  --------------------------  -----------------  ---------  -----------------  ---------------  --------------------------  --------------  -------------------------  ----------  -----------------\n",
       "    1        0.0100056                   0.946023           1.56409    1.56409            1                1                           0.0156496       0.0156496                  56.4087     56.4087\n",
       "    2        0.0200027                   0.945293           1.56409    1.56409            1                1                           0.0156364       0.031286                   56.4087     56.4087\n",
       "    3        0.0299998                   0.944663           1.56409    1.56409            1                1                           0.0156364       0.0469223                  56.4087     56.4087\n",
       "    4        0.0400054                   0.943974           1.56409    1.56409            1                1                           0.0156496       0.0625719                  56.4087     56.4087\n",
       "    5        0.0500025                   0.94325            1.56409    1.56409            1                1                           0.0156364       0.0782083                  56.4087     56.4087\n",
       "    6        0.100005                    0.939662           1.56409    1.56409            1                1                           0.0782083       0.156417                   56.4087     56.4087\n",
       "    7        0.149999                    0.932464           1.56409    1.56409            1                1                           0.0781951       0.234612                   56.4087     56.4087\n",
       "    8        0.200002                    0.920133           1.56409    1.56409            1                1                           0.0782083       0.31282                    56.4087     56.4087\n",
       "    9        0.299998                    0.879958           1.55377    1.56065            0.993403         0.997801                    0.155372        0.468191                   55.3768     56.0647\n",
       "    10       0.400003                    0.750013           1.2941     1.49401            0.827385         0.955195                    0.129417        0.597608                   29.4102     49.4008\n",
       "    11       0.5                         0.613958           1.27476    1.45016            0.815022         0.927161                    0.127472        0.72508                    27.4764     45.0161\n",
       "    12       0.599997                    0.520025           0.99973    1.37509            0.639178         0.879165                    0.0999696       0.82505                    -0.0270439  37.5091\n",
       "    13       0.700002                    0.446717           0.763656   1.28774            0.488244         0.823317                    0.0763695       0.901419                   -23.6344    28.7739\n",
       "    14       0.799998                    0.384276           0.566474   1.19758            0.362175         0.765676                    0.0566455       0.958065                   -43.3526    19.7584\n",
       "    15       0.899995                    0.320497           0.332979   1.10152            0.21289          0.704257                    0.0332967       0.991362                   -66.7021    10.1519\n",
       "    16       1                           0.061767           0.0863793  1                  0.0552267        0.639351                    0.00863837      1                          -91.3621    0"
      ]
     },
     "metadata": {},
     "output_type": "display_data"
    },
    {
     "name": "stdout",
     "output_type": "stream",
     "text": [
      "\n",
      "\n",
      "ModelMetricsBinomialGLM: stackedensemble\n",
      "** Reported on validation data. **\n",
      "\n",
      "MSE: 0.17928095512804168\n",
      "RMSE: 0.4234158182307809\n",
      "LogLoss: 0.5258134704275307\n",
      "Null degrees of freedom: 29398\n",
      "Residual degrees of freedom: 29394\n",
      "Null deviance: 38443.050903397074\n",
      "Residual deviance: 30916.78043419795\n",
      "AIC: 30926.78043419795\n",
      "AUC: 0.7823037710877021\n",
      "Gini: 0.5646075421754042\n",
      "Confusion Matrix (Act/Pred) for max f1 @ threshold = 0.3540369091884208: \n"
     ]
    },
    {
     "data": {
      "text/html": [
       "<div style=\"overflow:auto\"><table style=\"width:50%\"><tr><td><b></b></td>\n",
       "<td><b>not verified</b></td>\n",
       "<td><b>verified</b></td>\n",
       "<td><b>Error</b></td>\n",
       "<td><b>Rate</b></td></tr>\n",
       "<tr><td>not verified</td>\n",
       "<td>2372.0</td>\n",
       "<td>8232.0</td>\n",
       "<td>0.7763</td>\n",
       "<td> (8232.0/10604.0)</td></tr>\n",
       "<tr><td>verified</td>\n",
       "<td>1181.0</td>\n",
       "<td>17614.0</td>\n",
       "<td>0.0628</td>\n",
       "<td> (1181.0/18795.0)</td></tr>\n",
       "<tr><td>Total</td>\n",
       "<td>3553.0</td>\n",
       "<td>25846.0</td>\n",
       "<td>0.3202</td>\n",
       "<td> (9413.0/29399.0)</td></tr></table></div>"
      ],
      "text/plain": [
       "              not verified    verified    Error    Rate\n",
       "------------  --------------  ----------  -------  ----------------\n",
       "not verified  2372            8232        0.7763   (8232.0/10604.0)\n",
       "verified      1181            17614       0.0628   (1181.0/18795.0)\n",
       "Total         3553            25846       0.3202   (9413.0/29399.0)"
      ]
     },
     "metadata": {},
     "output_type": "display_data"
    },
    {
     "name": "stdout",
     "output_type": "stream",
     "text": [
      "Maximum Metrics: Maximum metrics at their respective thresholds\n",
      "\n"
     ]
    },
    {
     "data": {
      "text/html": [
       "<div style=\"overflow:auto\"><table style=\"width:50%\"><tr><td><b>metric</b></td>\n",
       "<td><b>threshold</b></td>\n",
       "<td><b>value</b></td>\n",
       "<td><b>idx</b></td></tr>\n",
       "<tr><td>max f1</td>\n",
       "<td>0.3540369</td>\n",
       "<td>0.7891400</td>\n",
       "<td>321.0</td></tr>\n",
       "<tr><td>max f2</td>\n",
       "<td>0.1737384</td>\n",
       "<td>0.8988377</td>\n",
       "<td>389.0</td></tr>\n",
       "<tr><td>max f0point5</td>\n",
       "<td>0.6945831</td>\n",
       "<td>0.8022439</td>\n",
       "<td>139.0</td></tr>\n",
       "<tr><td>max accuracy</td>\n",
       "<td>0.5084286</td>\n",
       "<td>0.7111466</td>\n",
       "<td>232.0</td></tr>\n",
       "<tr><td>max precision</td>\n",
       "<td>0.9462609</td>\n",
       "<td>0.9966102</td>\n",
       "<td>0.0</td></tr>\n",
       "<tr><td>max recall</td>\n",
       "<td>0.0969302</td>\n",
       "<td>1.0</td>\n",
       "<td>398.0</td></tr>\n",
       "<tr><td>max specificity</td>\n",
       "<td>0.9462609</td>\n",
       "<td>0.9999057</td>\n",
       "<td>0.0</td></tr>\n",
       "<tr><td>max absolute_mcc</td>\n",
       "<td>0.7305613</td>\n",
       "<td>0.4369673</td>\n",
       "<td>122.0</td></tr>\n",
       "<tr><td>max min_per_class_accuracy</td>\n",
       "<td>0.5643207</td>\n",
       "<td>0.7058260</td>\n",
       "<td>200.0</td></tr>\n",
       "<tr><td>max mean_per_class_accuracy</td>\n",
       "<td>0.6945831</td>\n",
       "<td>0.7247485</td>\n",
       "<td>139.0</td></tr></table></div>"
      ],
      "text/plain": [
       "metric                       threshold    value     idx\n",
       "---------------------------  -----------  --------  -----\n",
       "max f1                       0.354037     0.78914   321\n",
       "max f2                       0.173738     0.898838  389\n",
       "max f0point5                 0.694583     0.802244  139\n",
       "max accuracy                 0.508429     0.711147  232\n",
       "max precision                0.946261     0.99661   0\n",
       "max recall                   0.0969302    1         398\n",
       "max specificity              0.946261     0.999906  0\n",
       "max absolute_mcc             0.730561     0.436967  122\n",
       "max min_per_class_accuracy   0.564321     0.705826  200\n",
       "max mean_per_class_accuracy  0.694583     0.724749  139"
      ]
     },
     "metadata": {},
     "output_type": "display_data"
    },
    {
     "name": "stdout",
     "output_type": "stream",
     "text": [
      "Gains/Lift Table: Avg response rate: 63.93 %\n",
      "\n"
     ]
    },
    {
     "data": {
      "text/html": [
       "<div style=\"overflow:auto\"><table style=\"width:50%\"><tr><td><b></b></td>\n",
       "<td><b>group</b></td>\n",
       "<td><b>cumulative_data_fraction</b></td>\n",
       "<td><b>lower_threshold</b></td>\n",
       "<td><b>lift</b></td>\n",
       "<td><b>cumulative_lift</b></td>\n",
       "<td><b>response_rate</b></td>\n",
       "<td><b>cumulative_response_rate</b></td>\n",
       "<td><b>capture_rate</b></td>\n",
       "<td><b>cumulative_capture_rate</b></td>\n",
       "<td><b>gain</b></td>\n",
       "<td><b>cumulative_gain</b></td></tr>\n",
       "<tr><td></td>\n",
       "<td>1</td>\n",
       "<td>0.0100003</td>\n",
       "<td>0.9458341</td>\n",
       "<td>1.5588722</td>\n",
       "<td>1.5588722</td>\n",
       "<td>0.9965986</td>\n",
       "<td>0.9965986</td>\n",
       "<td>0.0155893</td>\n",
       "<td>0.0155893</td>\n",
       "<td>55.8872221</td>\n",
       "<td>55.8872221</td></tr>\n",
       "<tr><td></td>\n",
       "<td>2</td>\n",
       "<td>0.0200007</td>\n",
       "<td>0.9448595</td>\n",
       "<td>1.5535518</td>\n",
       "<td>1.5562120</td>\n",
       "<td>0.9931973</td>\n",
       "<td>0.9948980</td>\n",
       "<td>0.0155360</td>\n",
       "<td>0.0311253</td>\n",
       "<td>55.3551838</td>\n",
       "<td>55.6212030</td></tr>\n",
       "<tr><td></td>\n",
       "<td>3</td>\n",
       "<td>0.0300010</td>\n",
       "<td>0.9439814</td>\n",
       "<td>1.5429111</td>\n",
       "<td>1.5517784</td>\n",
       "<td>0.9863946</td>\n",
       "<td>0.9920635</td>\n",
       "<td>0.0154296</td>\n",
       "<td>0.0465549</td>\n",
       "<td>54.2911072</td>\n",
       "<td>55.1778377</td></tr>\n",
       "<tr><td></td>\n",
       "<td>4</td>\n",
       "<td>0.0400014</td>\n",
       "<td>0.9430881</td>\n",
       "<td>1.5482315</td>\n",
       "<td>1.5508916</td>\n",
       "<td>0.9897959</td>\n",
       "<td>0.9914966</td>\n",
       "<td>0.0154828</td>\n",
       "<td>0.0620378</td>\n",
       "<td>54.8231455</td>\n",
       "<td>55.0891647</td></tr>\n",
       "<tr><td></td>\n",
       "<td>5</td>\n",
       "<td>0.0500017</td>\n",
       "<td>0.9422885</td>\n",
       "<td>1.5588722</td>\n",
       "<td>1.5524878</td>\n",
       "<td>0.9965986</td>\n",
       "<td>0.9925170</td>\n",
       "<td>0.0155893</td>\n",
       "<td>0.0776270</td>\n",
       "<td>55.8872221</td>\n",
       "<td>55.2487762</td></tr>\n",
       "<tr><td></td>\n",
       "<td>6</td>\n",
       "<td>0.1000034</td>\n",
       "<td>0.9379217</td>\n",
       "<td>1.5322703</td>\n",
       "<td>1.5423790</td>\n",
       "<td>0.9795918</td>\n",
       "<td>0.9860544</td>\n",
       "<td>0.0766161</td>\n",
       "<td>0.1542431</td>\n",
       "<td>53.2270306</td>\n",
       "<td>54.2379034</td></tr>\n",
       "<tr><td></td>\n",
       "<td>7</td>\n",
       "<td>0.1500051</td>\n",
       "<td>0.9295387</td>\n",
       "<td>1.5088606</td>\n",
       "<td>1.5312062</td>\n",
       "<td>0.9646259</td>\n",
       "<td>0.9789116</td>\n",
       "<td>0.0754456</td>\n",
       "<td>0.2296887</td>\n",
       "<td>50.8860621</td>\n",
       "<td>53.1206230</td></tr>\n",
       "<tr><td></td>\n",
       "<td>8</td>\n",
       "<td>0.2000068</td>\n",
       "<td>0.9140933</td>\n",
       "<td>1.4662976</td>\n",
       "<td>1.5149791</td>\n",
       "<td>0.9374150</td>\n",
       "<td>0.9685374</td>\n",
       "<td>0.0733174</td>\n",
       "<td>0.3030061</td>\n",
       "<td>46.6297557</td>\n",
       "<td>51.4979062</td></tr>\n",
       "<tr><td></td>\n",
       "<td>9</td>\n",
       "<td>0.3000102</td>\n",
       "<td>0.8738416</td>\n",
       "<td>1.3710627</td>\n",
       "<td>1.4670069</td>\n",
       "<td>0.8765306</td>\n",
       "<td>0.9378685</td>\n",
       "<td>0.1371109</td>\n",
       "<td>0.4401171</td>\n",
       "<td>37.1062701</td>\n",
       "<td>46.7006941</td></tr>\n",
       "<tr><td></td>\n",
       "<td>10</td>\n",
       "<td>0.4000136</td>\n",
       "<td>0.7399547</td>\n",
       "<td>1.2008104</td>\n",
       "<td>1.4004578</td>\n",
       "<td>0.7676871</td>\n",
       "<td>0.8953231</td>\n",
       "<td>0.1200851</td>\n",
       "<td>0.5602022</td>\n",
       "<td>20.0810445</td>\n",
       "<td>40.0457817</td></tr>\n",
       "<tr><td></td>\n",
       "<td>11</td>\n",
       "<td>0.5000170</td>\n",
       "<td>0.6150150</td>\n",
       "<td>0.9619252</td>\n",
       "<td>1.3127513</td>\n",
       "<td>0.6149660</td>\n",
       "<td>0.8392517</td>\n",
       "<td>0.0961958</td>\n",
       "<td>0.6563980</td>\n",
       "<td>-3.8074752</td>\n",
       "<td>31.2751303</td></tr>\n",
       "<tr><td></td>\n",
       "<td>12</td>\n",
       "<td>0.5999864</td>\n",
       "<td>0.5298125</td>\n",
       "<td>0.8547442</td>\n",
       "<td>1.2364384</td>\n",
       "<td>0.5464444</td>\n",
       "<td>0.7904643</td>\n",
       "<td>0.0854483</td>\n",
       "<td>0.7418462</td>\n",
       "<td>-14.5255760</td>\n",
       "<td>23.6438431</td></tr>\n",
       "<tr><td></td>\n",
       "<td>13</td>\n",
       "<td>0.6999898</td>\n",
       "<td>0.4610015</td>\n",
       "<td>0.7528342</td>\n",
       "<td>1.1673488</td>\n",
       "<td>0.4812925</td>\n",
       "<td>0.7462948</td>\n",
       "<td>0.0752860</td>\n",
       "<td>0.8171322</td>\n",
       "<td>-24.7165804</td>\n",
       "<td>16.7348754</td></tr>\n",
       "<tr><td></td>\n",
       "<td>14</td>\n",
       "<td>0.7999932</td>\n",
       "<td>0.4010567</td>\n",
       "<td>0.6772848</td>\n",
       "<td>1.1060882</td>\n",
       "<td>0.4329932</td>\n",
       "<td>0.7071304</td>\n",
       "<td>0.0677308</td>\n",
       "<td>0.8848630</td>\n",
       "<td>-32.2715243</td>\n",
       "<td>10.6088150</td></tr>\n",
       "<tr><td></td>\n",
       "<td>15</td>\n",
       "<td>0.8999966</td>\n",
       "<td>0.3393584</td>\n",
       "<td>0.6448304</td>\n",
       "<td>1.0548354</td>\n",
       "<td>0.4122449</td>\n",
       "<td>0.6743641</td>\n",
       "<td>0.0644852</td>\n",
       "<td>0.9493482</td>\n",
       "<td>-35.5169579</td>\n",
       "<td>5.4835354</td></tr>\n",
       "<tr><td></td>\n",
       "<td>16</td>\n",
       "<td>1.0</td>\n",
       "<td>0.0787377</td>\n",
       "<td>0.5065005</td>\n",
       "<td>1.0</td>\n",
       "<td>0.3238095</td>\n",
       "<td>0.6393075</td>\n",
       "<td>0.0506518</td>\n",
       "<td>1.0</td>\n",
       "<td>-49.3499538</td>\n",
       "<td>0.0</td></tr></table></div>"
      ],
      "text/plain": [
       "    group    cumulative_data_fraction    lower_threshold    lift      cumulative_lift    response_rate    cumulative_response_rate    capture_rate    cumulative_capture_rate    gain      cumulative_gain\n",
       "--  -------  --------------------------  -----------------  --------  -----------------  ---------------  --------------------------  --------------  -------------------------  --------  -----------------\n",
       "    1        0.0100003                   0.945834           1.55887   1.55887            0.996599         0.996599                    0.0155893       0.0155893                  55.8872   55.8872\n",
       "    2        0.0200007                   0.944859           1.55355   1.55621            0.993197         0.994898                    0.015536        0.0311253                  55.3552   55.6212\n",
       "    3        0.030001                    0.943981           1.54291   1.55178            0.986395         0.992063                    0.0154296       0.0465549                  54.2911   55.1778\n",
       "    4        0.0400014                   0.943088           1.54823   1.55089            0.989796         0.991497                    0.0154828       0.0620378                  54.8231   55.0892\n",
       "    5        0.0500017                   0.942288           1.55887   1.55249            0.996599         0.992517                    0.0155893       0.077627                   55.8872   55.2488\n",
       "    6        0.100003                    0.937922           1.53227   1.54238            0.979592         0.986054                    0.0766161       0.154243                   53.227    54.2379\n",
       "    7        0.150005                    0.929539           1.50886   1.53121            0.964626         0.978912                    0.0754456       0.229689                   50.8861   53.1206\n",
       "    8        0.200007                    0.914093           1.4663    1.51498            0.937415         0.968537                    0.0733174       0.303006                   46.6298   51.4979\n",
       "    9        0.30001                     0.873842           1.37106   1.46701            0.876531         0.937868                    0.137111        0.440117                   37.1063   46.7007\n",
       "    10       0.400014                    0.739955           1.20081   1.40046            0.767687         0.895323                    0.120085        0.560202                   20.081    40.0458\n",
       "    11       0.500017                    0.615015           0.961925  1.31275            0.614966         0.839252                    0.0961958       0.656398                   -3.80748  31.2751\n",
       "    12       0.599986                    0.529813           0.854744  1.23644            0.546444         0.790464                    0.0854483       0.741846                   -14.5256  23.6438\n",
       "    13       0.69999                     0.461002           0.752834  1.16735            0.481293         0.746295                    0.075286        0.817132                   -24.7166  16.7349\n",
       "    14       0.799993                    0.401057           0.677285  1.10609            0.432993         0.70713                     0.0677308       0.884863                   -32.2715  10.6088\n",
       "    15       0.899997                    0.339358           0.64483   1.05484            0.412245         0.674364                    0.0644852       0.949348                   -35.517   5.48354\n",
       "    16       1                           0.0787377          0.5065    1                  0.32381          0.639307                    0.0506518       1                          -49.35    0"
      ]
     },
     "metadata": {},
     "output_type": "display_data"
    },
    {
     "name": "stdout",
     "output_type": "stream",
     "text": [
      "\n",
      "\n",
      "ModelMetricsBinomialGLM: stackedensemble\n",
      "** Reported on cross-validation data. **\n",
      "\n",
      "MSE: 0.1782405240360683\n",
      "RMSE: 0.42218541428626866\n",
      "LogLoss: 0.5232498336903326\n",
      "Null degrees of freedom: 118233\n",
      "Residual degrees of freedom: 118229\n",
      "Null deviance: 154601.3977142679\n",
      "Residual deviance: 123731.84167308558\n",
      "AIC: 123741.84167308558\n",
      "AUC: 0.7849958140882988\n",
      "Gini: 0.5699916281765975\n",
      "Confusion Matrix (Act/Pred) for max f1 @ threshold = 0.3846509039418032: \n"
     ]
    },
    {
     "data": {
      "text/html": [
       "<div style=\"overflow:auto\"><table style=\"width:50%\"><tr><td><b></b></td>\n",
       "<td><b>not verified</b></td>\n",
       "<td><b>verified</b></td>\n",
       "<td><b>Error</b></td>\n",
       "<td><b>Rate</b></td></tr>\n",
       "<tr><td>not verified</td>\n",
       "<td>13239.0</td>\n",
       "<td>29402.0</td>\n",
       "<td>0.6895</td>\n",
       "<td> (29402.0/42641.0)</td></tr>\n",
       "<tr><td>verified</td>\n",
       "<td>7135.0</td>\n",
       "<td>68458.0</td>\n",
       "<td>0.0944</td>\n",
       "<td> (7135.0/75593.0)</td></tr>\n",
       "<tr><td>Total</td>\n",
       "<td>20374.0</td>\n",
       "<td>97860.0</td>\n",
       "<td>0.309</td>\n",
       "<td> (36537.0/118234.0)</td></tr></table></div>"
      ],
      "text/plain": [
       "              not verified    verified    Error    Rate\n",
       "------------  --------------  ----------  -------  ------------------\n",
       "not verified  13239           29402       0.6895   (29402.0/42641.0)\n",
       "verified      7135            68458       0.0944   (7135.0/75593.0)\n",
       "Total         20374           97860       0.309    (36537.0/118234.0)"
      ]
     },
     "metadata": {},
     "output_type": "display_data"
    },
    {
     "name": "stdout",
     "output_type": "stream",
     "text": [
      "Maximum Metrics: Maximum metrics at their respective thresholds\n",
      "\n"
     ]
    },
    {
     "data": {
      "text/html": [
       "<div style=\"overflow:auto\"><table style=\"width:50%\"><tr><td><b>metric</b></td>\n",
       "<td><b>threshold</b></td>\n",
       "<td><b>value</b></td>\n",
       "<td><b>idx</b></td></tr>\n",
       "<tr><td>max f1</td>\n",
       "<td>0.3846509</td>\n",
       "<td>0.7893550</td>\n",
       "<td>299.0</td></tr>\n",
       "<tr><td>max f2</td>\n",
       "<td>0.1583682</td>\n",
       "<td>0.8987170</td>\n",
       "<td>390.0</td></tr>\n",
       "<tr><td>max f0point5</td>\n",
       "<td>0.7083000</td>\n",
       "<td>0.8024969</td>\n",
       "<td>129.0</td></tr>\n",
       "<tr><td>max accuracy</td>\n",
       "<td>0.5005176</td>\n",
       "<td>0.7126292</td>\n",
       "<td>232.0</td></tr>\n",
       "<tr><td>max precision</td>\n",
       "<td>0.9468332</td>\n",
       "<td>0.9971182</td>\n",
       "<td>0.0</td></tr>\n",
       "<tr><td>max recall</td>\n",
       "<td>0.1087959</td>\n",
       "<td>1.0</td>\n",
       "<td>396.0</td></tr>\n",
       "<tr><td>max specificity</td>\n",
       "<td>0.9468332</td>\n",
       "<td>0.9999531</td>\n",
       "<td>0.0</td></tr>\n",
       "<tr><td>max absolute_mcc</td>\n",
       "<td>0.7307278</td>\n",
       "<td>0.4389645</td>\n",
       "<td>120.0</td></tr>\n",
       "<tr><td>max min_per_class_accuracy</td>\n",
       "<td>0.5600324</td>\n",
       "<td>0.7083324</td>\n",
       "<td>199.0</td></tr>\n",
       "<tr><td>max mean_per_class_accuracy</td>\n",
       "<td>0.6777614</td>\n",
       "<td>0.7250033</td>\n",
       "<td>142.0</td></tr></table></div>"
      ],
      "text/plain": [
       "metric                       threshold    value     idx\n",
       "---------------------------  -----------  --------  -----\n",
       "max f1                       0.384651     0.789355  299\n",
       "max f2                       0.158368     0.898717  390\n",
       "max f0point5                 0.7083       0.802497  129\n",
       "max accuracy                 0.500518     0.712629  232\n",
       "max precision                0.946833     0.997118  0\n",
       "max recall                   0.108796     1         396\n",
       "max specificity              0.946833     0.999953  0\n",
       "max absolute_mcc             0.730728     0.438964  120\n",
       "max min_per_class_accuracy   0.560032     0.708332  199\n",
       "max mean_per_class_accuracy  0.677761     0.725003  142"
      ]
     },
     "metadata": {},
     "output_type": "display_data"
    },
    {
     "name": "stdout",
     "output_type": "stream",
     "text": [
      "Gains/Lift Table: Avg response rate: 63.94 %\n",
      "\n"
     ]
    },
    {
     "data": {
      "text/html": [
       "<div style=\"overflow:auto\"><table style=\"width:50%\"><tr><td><b></b></td>\n",
       "<td><b>group</b></td>\n",
       "<td><b>cumulative_data_fraction</b></td>\n",
       "<td><b>lower_threshold</b></td>\n",
       "<td><b>lift</b></td>\n",
       "<td><b>cumulative_lift</b></td>\n",
       "<td><b>response_rate</b></td>\n",
       "<td><b>cumulative_response_rate</b></td>\n",
       "<td><b>capture_rate</b></td>\n",
       "<td><b>cumulative_capture_rate</b></td>\n",
       "<td><b>gain</b></td>\n",
       "<td><b>cumulative_gain</b></td></tr>\n",
       "<tr><td></td>\n",
       "<td>1</td>\n",
       "<td>0.0100056</td>\n",
       "<td>0.9458622</td>\n",
       "<td>1.5614424</td>\n",
       "<td>1.5614424</td>\n",
       "<td>0.9983094</td>\n",
       "<td>0.9983094</td>\n",
       "<td>0.0156231</td>\n",
       "<td>0.0156231</td>\n",
       "<td>56.1442350</td>\n",
       "<td>56.1442350</td></tr>\n",
       "<tr><td></td>\n",
       "<td>2</td>\n",
       "<td>0.0200027</td>\n",
       "<td>0.9448854</td>\n",
       "<td>1.5442378</td>\n",
       "<td>1.5528437</td>\n",
       "<td>0.9873096</td>\n",
       "<td>0.9928118</td>\n",
       "<td>0.0154379</td>\n",
       "<td>0.0310611</td>\n",
       "<td>54.4237807</td>\n",
       "<td>55.2843716</td></tr>\n",
       "<tr><td></td>\n",
       "<td>3</td>\n",
       "<td>0.0299998</td>\n",
       "<td>0.9440429</td>\n",
       "<td>1.5587936</td>\n",
       "<td>1.5548265</td>\n",
       "<td>0.9966159</td>\n",
       "<td>0.9940795</td>\n",
       "<td>0.0155835</td>\n",
       "<td>0.0466445</td>\n",
       "<td>55.8793604</td>\n",
       "<td>55.4826453</td></tr>\n",
       "<tr><td></td>\n",
       "<td>4</td>\n",
       "<td>0.0400054</td>\n",
       "<td>0.9432213</td>\n",
       "<td>1.5535095</td>\n",
       "<td>1.5544971</td>\n",
       "<td>0.9932375</td>\n",
       "<td>0.9938689</td>\n",
       "<td>0.0155438</td>\n",
       "<td>0.0621883</td>\n",
       "<td>55.3509536</td>\n",
       "<td>55.4497084</td></tr>\n",
       "<tr><td></td>\n",
       "<td>5</td>\n",
       "<td>0.0500025</td>\n",
       "<td>0.9423361</td>\n",
       "<td>1.5482076</td>\n",
       "<td>1.5532396</td>\n",
       "<td>0.9898477</td>\n",
       "<td>0.9930650</td>\n",
       "<td>0.0154776</td>\n",
       "<td>0.0776659</td>\n",
       "<td>54.8207570</td>\n",
       "<td>55.3239607</td></tr>\n",
       "<tr><td></td>\n",
       "<td>6</td>\n",
       "<td>0.1000051</td>\n",
       "<td>0.9376606</td>\n",
       "<td>1.5339266</td>\n",
       "<td>1.5435831</td>\n",
       "<td>0.9807172</td>\n",
       "<td>0.9868911</td>\n",
       "<td>0.0767002</td>\n",
       "<td>0.1543661</td>\n",
       "<td>53.3926629</td>\n",
       "<td>54.3583118</td></tr>\n",
       "<tr><td></td>\n",
       "<td>7</td>\n",
       "<td>0.1499992</td>\n",
       "<td>0.9286545</td>\n",
       "<td>1.5140761</td>\n",
       "<td>1.5337485</td>\n",
       "<td>0.9680257</td>\n",
       "<td>0.9806033</td>\n",
       "<td>0.0756948</td>\n",
       "<td>0.2300610</td>\n",
       "<td>51.4076070</td>\n",
       "<td>53.3748545</td></tr>\n",
       "<tr><td></td>\n",
       "<td>8</td>\n",
       "<td>0.2000017</td>\n",
       "<td>0.9142339</td>\n",
       "<td>1.4706965</td>\n",
       "<td>1.5179849</td>\n",
       "<td>0.9402909</td>\n",
       "<td>0.9705248</td>\n",
       "<td>0.0735386</td>\n",
       "<td>0.3035995</td>\n",
       "<td>47.0696470</td>\n",
       "<td>51.7984859</td></tr>\n",
       "<tr><td></td>\n",
       "<td>9</td>\n",
       "<td>0.2999983</td>\n",
       "<td>0.8725402</td>\n",
       "<td>1.3717343</td>\n",
       "<td>1.4692360</td>\n",
       "<td>0.8770194</td>\n",
       "<td>0.9393572</td>\n",
       "<td>0.1371688</td>\n",
       "<td>0.4407683</td>\n",
       "<td>37.1734262</td>\n",
       "<td>46.9236035</td></tr>\n",
       "<tr><td></td>\n",
       "<td>10</td>\n",
       "<td>0.4000034</td>\n",
       "<td>0.7353691</td>\n",
       "<td>1.2062674</td>\n",
       "<td>1.4034911</td>\n",
       "<td>0.7712280</td>\n",
       "<td>0.8973231</td>\n",
       "<td>0.1206329</td>\n",
       "<td>0.5614012</td>\n",
       "<td>20.6267414</td>\n",
       "<td>40.3491099</td></tr>\n",
       "<tr><td></td>\n",
       "<td>11</td>\n",
       "<td>0.5</td>\n",
       "<td>0.6113730</td>\n",
       "<td>0.9669212</td>\n",
       "<td>1.3161801</td>\n",
       "<td>0.6182018</td>\n",
       "<td>0.8415008</td>\n",
       "<td>0.0966888</td>\n",
       "<td>0.6580900</td>\n",
       "<td>-3.3078819</td>\n",
       "<td>31.6180070</td></tr>\n",
       "<tr><td></td>\n",
       "<td>12</td>\n",
       "<td>0.5999966</td>\n",
       "<td>0.5277814</td>\n",
       "<td>0.8588387</td>\n",
       "<td>1.2399587</td>\n",
       "<td>0.5490992</td>\n",
       "<td>0.7927685</td>\n",
       "<td>0.0858810</td>\n",
       "<td>0.7439710</td>\n",
       "<td>-14.1161266</td>\n",
       "<td>23.9958663</td></tr>\n",
       "<tr><td></td>\n",
       "<td>13</td>\n",
       "<td>0.7000017</td>\n",
       "<td>0.4591393</td>\n",
       "<td>0.7508251</td>\n",
       "<td>1.1700791</td>\n",
       "<td>0.4800406</td>\n",
       "<td>0.7480910</td>\n",
       "<td>0.0750863</td>\n",
       "<td>0.8190573</td>\n",
       "<td>-24.9174927</td>\n",
       "<td>17.0079058</td></tr>\n",
       "<tr><td></td>\n",
       "<td>14</td>\n",
       "<td>0.7999983</td>\n",
       "<td>0.4000020</td>\n",
       "<td>0.6900343</td>\n",
       "<td>1.1100754</td>\n",
       "<td>0.4411740</td>\n",
       "<td>0.7097276</td>\n",
       "<td>0.0690011</td>\n",
       "<td>0.8880584</td>\n",
       "<td>-30.9965675</td>\n",
       "<td>11.0075370</td></tr>\n",
       "<tr><td></td>\n",
       "<td>15</td>\n",
       "<td>0.8999949</td>\n",
       "<td>0.3387557</td>\n",
       "<td>0.6065582</td>\n",
       "<td>1.0541306</td>\n",
       "<td>0.3878034</td>\n",
       "<td>0.6739592</td>\n",
       "<td>0.0606538</td>\n",
       "<td>0.9487122</td>\n",
       "<td>-39.3441837</td>\n",
       "<td>5.4130591</td></tr>\n",
       "<tr><td></td>\n",
       "<td>16</td>\n",
       "<td>1.0</td>\n",
       "<td>0.0695948</td>\n",
       "<td>0.5128522</td>\n",
       "<td>1.0</td>\n",
       "<td>0.3278924</td>\n",
       "<td>0.6393508</td>\n",
       "<td>0.0512878</td>\n",
       "<td>1.0</td>\n",
       "<td>-48.7147849</td>\n",
       "<td>0.0</td></tr></table></div>"
      ],
      "text/plain": [
       "    group    cumulative_data_fraction    lower_threshold    lift      cumulative_lift    response_rate    cumulative_response_rate    capture_rate    cumulative_capture_rate    gain      cumulative_gain\n",
       "--  -------  --------------------------  -----------------  --------  -----------------  ---------------  --------------------------  --------------  -------------------------  --------  -----------------\n",
       "    1        0.0100056                   0.945862           1.56144   1.56144            0.998309         0.998309                    0.0156231       0.0156231                  56.1442   56.1442\n",
       "    2        0.0200027                   0.944885           1.54424   1.55284            0.98731          0.992812                    0.0154379       0.0310611                  54.4238   55.2844\n",
       "    3        0.0299998                   0.944043           1.55879   1.55483            0.996616         0.99408                     0.0155835       0.0466445                  55.8794   55.4826\n",
       "    4        0.0400054                   0.943221           1.55351   1.5545             0.993238         0.993869                    0.0155438       0.0621883                  55.351    55.4497\n",
       "    5        0.0500025                   0.942336           1.54821   1.55324            0.989848         0.993065                    0.0154776       0.0776659                  54.8208   55.324\n",
       "    6        0.100005                    0.937661           1.53393   1.54358            0.980717         0.986891                    0.0767002       0.154366                   53.3927   54.3583\n",
       "    7        0.149999                    0.928655           1.51408   1.53375            0.968026         0.980603                    0.0756948       0.230061                   51.4076   53.3749\n",
       "    8        0.200002                    0.914234           1.4707    1.51798            0.940291         0.970525                    0.0735386       0.3036                     47.0696   51.7985\n",
       "    9        0.299998                    0.87254            1.37173   1.46924            0.877019         0.939357                    0.137169        0.440768                   37.1734   46.9236\n",
       "    10       0.400003                    0.735369           1.20627   1.40349            0.771228         0.897323                    0.120633        0.561401                   20.6267   40.3491\n",
       "    11       0.5                         0.611373           0.966921  1.31618            0.618202         0.841501                    0.0966888       0.65809                    -3.30788  31.618\n",
       "    12       0.599997                    0.527781           0.858839  1.23996            0.549099         0.792769                    0.085881        0.743971                   -14.1161  23.9959\n",
       "    13       0.700002                    0.459139           0.750825  1.17008            0.480041         0.748091                    0.0750863       0.819057                   -24.9175  17.0079\n",
       "    14       0.799998                    0.400002           0.690034  1.11008            0.441174         0.709728                    0.0690011       0.888058                   -30.9966  11.0075\n",
       "    15       0.899995                    0.338756           0.606558  1.05413            0.387803         0.673959                    0.0606538       0.948712                   -39.3442  5.41306\n",
       "    16       1                           0.0695948          0.512852  1                  0.327892         0.639351                    0.0512878       1                          -48.7148  0"
      ]
     },
     "metadata": {},
     "output_type": "display_data"
    },
    {
     "name": "stdout",
     "output_type": "stream",
     "text": [
      "\n",
      "<bound method ModelBase.coef_norm of >\n"
     ]
    }
   ],
   "source": [
    "mods=mod_best.coef_norm\n",
    "print(mods)"
   ]
  },
  {
   "cell_type": "code",
   "execution_count": 50,
   "metadata": {
    "collapsed": true
   },
   "outputs": [],
   "source": [
    "bm=stackedensemble_df(aml_leaderboard_df)"
   ]
  },
  {
   "cell_type": "code",
   "execution_count": 51,
   "metadata": {},
   "outputs": [
    {
     "data": {
      "text/plain": [
       "['GBM_grid_0_AutoML_20181003_003247_model_1',\n",
       " 'GLM_grid_0_AutoML_20181003_003247_model_0',\n",
       " 'DRF_0_AutoML_20181003_003247',\n",
       " 'XRT_0_AutoML_20181003_003247',\n",
       " 'DeepLearning_0_AutoML_20181003_003247']"
      ]
     },
     "execution_count": 51,
     "metadata": {},
     "output_type": "execute_result"
    }
   ],
   "source": [
    "bm"
   ]
  },
  {
   "cell_type": "code",
   "execution_count": 52,
   "metadata": {},
   "outputs": [
    {
     "data": {
      "text/html": [
       "<div>\n",
       "<style>\n",
       "    .dataframe thead tr:only-child th {\n",
       "        text-align: right;\n",
       "    }\n",
       "\n",
       "    .dataframe thead th {\n",
       "        text-align: left;\n",
       "    }\n",
       "\n",
       "    .dataframe tbody tr th {\n",
       "        vertical-align: top;\n",
       "    }\n",
       "</style>\n",
       "<table border=\"1\" class=\"dataframe\">\n",
       "  <thead>\n",
       "    <tr style=\"text-align: right;\">\n",
       "      <th></th>\n",
       "      <th>model_id</th>\n",
       "      <th>auc</th>\n",
       "      <th>logloss</th>\n",
       "      <th>mean_per_class_error</th>\n",
       "      <th>rmse</th>\n",
       "      <th>mse</th>\n",
       "    </tr>\n",
       "  </thead>\n",
       "  <tbody>\n",
       "    <tr>\n",
       "      <th>0</th>\n",
       "      <td>StackedEnsemble_AllModels_0_AutoML_20181003_00...</td>\n",
       "      <td>0.785823</td>\n",
       "      <td>0.522657</td>\n",
       "      <td>0.396698</td>\n",
       "      <td>0.421877</td>\n",
       "      <td>0.177980</td>\n",
       "    </tr>\n",
       "    <tr>\n",
       "      <th>1</th>\n",
       "      <td>StackedEnsemble_BestOfFamily_0_AutoML_20181003...</td>\n",
       "      <td>0.784996</td>\n",
       "      <td>0.523250</td>\n",
       "      <td>0.391956</td>\n",
       "      <td>0.422185</td>\n",
       "      <td>0.178241</td>\n",
       "    </tr>\n",
       "    <tr>\n",
       "      <th>2</th>\n",
       "      <td>GBM_grid_0_AutoML_20181003_003247_model_1</td>\n",
       "      <td>0.784544</td>\n",
       "      <td>0.518154</td>\n",
       "      <td>0.417497</td>\n",
       "      <td>0.421158</td>\n",
       "      <td>0.177374</td>\n",
       "    </tr>\n",
       "    <tr>\n",
       "      <th>3</th>\n",
       "      <td>GBM_grid_0_AutoML_20181003_003247_model_2</td>\n",
       "      <td>0.783022</td>\n",
       "      <td>0.519539</td>\n",
       "      <td>0.392275</td>\n",
       "      <td>0.421796</td>\n",
       "      <td>0.177912</td>\n",
       "    </tr>\n",
       "    <tr>\n",
       "      <th>4</th>\n",
       "      <td>GBM_grid_0_AutoML_20181003_003247_model_0</td>\n",
       "      <td>0.782517</td>\n",
       "      <td>0.519939</td>\n",
       "      <td>0.407686</td>\n",
       "      <td>0.421937</td>\n",
       "      <td>0.178031</td>\n",
       "    </tr>\n",
       "    <tr>\n",
       "      <th>5</th>\n",
       "      <td>GBM_grid_0_AutoML_20181003_003247_model_4</td>\n",
       "      <td>0.780564</td>\n",
       "      <td>0.521617</td>\n",
       "      <td>0.421100</td>\n",
       "      <td>0.422932</td>\n",
       "      <td>0.178872</td>\n",
       "    </tr>\n",
       "    <tr>\n",
       "      <th>6</th>\n",
       "      <td>GBM_grid_0_AutoML_20181003_003247_model_3</td>\n",
       "      <td>0.780374</td>\n",
       "      <td>0.522223</td>\n",
       "      <td>0.421792</td>\n",
       "      <td>0.423088</td>\n",
       "      <td>0.179004</td>\n",
       "    </tr>\n",
       "    <tr>\n",
       "      <th>7</th>\n",
       "      <td>XRT_0_AutoML_20181003_003247</td>\n",
       "      <td>0.775741</td>\n",
       "      <td>0.528193</td>\n",
       "      <td>0.417997</td>\n",
       "      <td>0.424820</td>\n",
       "      <td>0.180472</td>\n",
       "    </tr>\n",
       "    <tr>\n",
       "      <th>8</th>\n",
       "      <td>DRF_0_AutoML_20181003_003247</td>\n",
       "      <td>0.774102</td>\n",
       "      <td>0.537229</td>\n",
       "      <td>0.415757</td>\n",
       "      <td>0.425434</td>\n",
       "      <td>0.180994</td>\n",
       "    </tr>\n",
       "    <tr>\n",
       "      <th>9</th>\n",
       "      <td>DeepLearning_0_AutoML_20181003_003247</td>\n",
       "      <td>0.752195</td>\n",
       "      <td>0.548348</td>\n",
       "      <td>0.468879</td>\n",
       "      <td>0.434282</td>\n",
       "      <td>0.188600</td>\n",
       "    </tr>\n",
       "    <tr>\n",
       "      <th>10</th>\n",
       "      <td>GLM_grid_0_AutoML_20181003_003247_model_0</td>\n",
       "      <td>0.748344</td>\n",
       "      <td>0.551138</td>\n",
       "      <td>0.462745</td>\n",
       "      <td>0.436204</td>\n",
       "      <td>0.190274</td>\n",
       "    </tr>\n",
       "  </tbody>\n",
       "</table>\n",
       "</div>"
      ],
      "text/plain": [
       "                                             model_id       auc   logloss  \\\n",
       "0   StackedEnsemble_AllModels_0_AutoML_20181003_00...  0.785823  0.522657   \n",
       "1   StackedEnsemble_BestOfFamily_0_AutoML_20181003...  0.784996  0.523250   \n",
       "2           GBM_grid_0_AutoML_20181003_003247_model_1  0.784544  0.518154   \n",
       "3           GBM_grid_0_AutoML_20181003_003247_model_2  0.783022  0.519539   \n",
       "4           GBM_grid_0_AutoML_20181003_003247_model_0  0.782517  0.519939   \n",
       "5           GBM_grid_0_AutoML_20181003_003247_model_4  0.780564  0.521617   \n",
       "6           GBM_grid_0_AutoML_20181003_003247_model_3  0.780374  0.522223   \n",
       "7                        XRT_0_AutoML_20181003_003247  0.775741  0.528193   \n",
       "8                        DRF_0_AutoML_20181003_003247  0.774102  0.537229   \n",
       "9               DeepLearning_0_AutoML_20181003_003247  0.752195  0.548348   \n",
       "10          GLM_grid_0_AutoML_20181003_003247_model_0  0.748344  0.551138   \n",
       "\n",
       "    mean_per_class_error      rmse       mse  \n",
       "0               0.396698  0.421877  0.177980  \n",
       "1               0.391956  0.422185  0.178241  \n",
       "2               0.417497  0.421158  0.177374  \n",
       "3               0.392275  0.421796  0.177912  \n",
       "4               0.407686  0.421937  0.178031  \n",
       "5               0.421100  0.422932  0.178872  \n",
       "6               0.421792  0.423088  0.179004  \n",
       "7               0.417997  0.424820  0.180472  \n",
       "8               0.415757  0.425434  0.180994  \n",
       "9               0.468879  0.434282  0.188600  \n",
       "10              0.462745  0.436204  0.190274  "
      ]
     },
     "execution_count": 52,
     "metadata": {},
     "output_type": "execute_result"
    }
   ],
   "source": [
    "aml_leaderboard_df"
   ]
  },
  {
   "cell_type": "code",
   "execution_count": 53,
   "metadata": {
    "collapsed": true
   },
   "outputs": [],
   "source": [
    "#  Get best_models and coef_norm()\n",
    "best_models={}\n",
    "best_models=stackedensemble(mod_best)\n",
    "bm=[]\n",
    "if best_models is not None: \n",
    "  if 'Intercept' in best_models.keys():\n",
    "    del best_models['Intercept']\n",
    "  bm=list(best_models.keys())\n",
    "else:\n",
    "  best_models={}\n",
    "  bm=stackedensemble_df(aml_leaderboard_df)   \n",
    "  for b in bm:   \n",
    "    best_models[b]=None\n",
    "\n",
    "if mod_best.model_id not in bm:\n",
    "    bm.append(mod_best.model_id)"
   ]
  },
  {
   "cell_type": "code",
   "execution_count": 54,
   "metadata": {},
   "outputs": [
    {
     "data": {
      "text/plain": [
       "['GBM_grid_0_AutoML_20181003_003247_model_1',\n",
       " 'XRT_0_AutoML_20181003_003247',\n",
       " 'DRF_0_AutoML_20181003_003247',\n",
       " 'DeepLearning_0_AutoML_20181003_003247',\n",
       " 'GLM_grid_0_AutoML_20181003_003247_model_0',\n",
       " 'StackedEnsemble_BestOfFamily_0_AutoML_20181003_003247']"
      ]
     },
     "execution_count": 54,
     "metadata": {},
     "output_type": "execute_result"
    }
   ],
   "source": [
    "bm"
   ]
  },
  {
   "cell_type": "code",
   "execution_count": 55,
   "metadata": {
    "collapsed": true
   },
   "outputs": [],
   "source": [
    "# Best of Family leaderboard\n",
    "\n",
    "aml_leaderboard_df=aml_leaderboard_df.loc[aml_leaderboard_df['model_id'].isin(bm)]\n"
   ]
  },
  {
   "cell_type": "code",
   "execution_count": 56,
   "metadata": {},
   "outputs": [
    {
     "data": {
      "text/html": [
       "<div>\n",
       "<style>\n",
       "    .dataframe thead tr:only-child th {\n",
       "        text-align: right;\n",
       "    }\n",
       "\n",
       "    .dataframe thead th {\n",
       "        text-align: left;\n",
       "    }\n",
       "\n",
       "    .dataframe tbody tr th {\n",
       "        vertical-align: top;\n",
       "    }\n",
       "</style>\n",
       "<table border=\"1\" class=\"dataframe\">\n",
       "  <thead>\n",
       "    <tr style=\"text-align: right;\">\n",
       "      <th></th>\n",
       "      <th>model_id</th>\n",
       "      <th>auc</th>\n",
       "      <th>logloss</th>\n",
       "      <th>mean_per_class_error</th>\n",
       "      <th>rmse</th>\n",
       "      <th>mse</th>\n",
       "    </tr>\n",
       "  </thead>\n",
       "  <tbody>\n",
       "    <tr>\n",
       "      <th>1</th>\n",
       "      <td>StackedEnsemble_BestOfFamily_0_AutoML_20181003...</td>\n",
       "      <td>0.784996</td>\n",
       "      <td>0.523250</td>\n",
       "      <td>0.391956</td>\n",
       "      <td>0.422185</td>\n",
       "      <td>0.178241</td>\n",
       "    </tr>\n",
       "    <tr>\n",
       "      <th>2</th>\n",
       "      <td>GBM_grid_0_AutoML_20181003_003247_model_1</td>\n",
       "      <td>0.784544</td>\n",
       "      <td>0.518154</td>\n",
       "      <td>0.417497</td>\n",
       "      <td>0.421158</td>\n",
       "      <td>0.177374</td>\n",
       "    </tr>\n",
       "    <tr>\n",
       "      <th>7</th>\n",
       "      <td>XRT_0_AutoML_20181003_003247</td>\n",
       "      <td>0.775741</td>\n",
       "      <td>0.528193</td>\n",
       "      <td>0.417997</td>\n",
       "      <td>0.424820</td>\n",
       "      <td>0.180472</td>\n",
       "    </tr>\n",
       "    <tr>\n",
       "      <th>8</th>\n",
       "      <td>DRF_0_AutoML_20181003_003247</td>\n",
       "      <td>0.774102</td>\n",
       "      <td>0.537229</td>\n",
       "      <td>0.415757</td>\n",
       "      <td>0.425434</td>\n",
       "      <td>0.180994</td>\n",
       "    </tr>\n",
       "    <tr>\n",
       "      <th>9</th>\n",
       "      <td>DeepLearning_0_AutoML_20181003_003247</td>\n",
       "      <td>0.752195</td>\n",
       "      <td>0.548348</td>\n",
       "      <td>0.468879</td>\n",
       "      <td>0.434282</td>\n",
       "      <td>0.188600</td>\n",
       "    </tr>\n",
       "    <tr>\n",
       "      <th>10</th>\n",
       "      <td>GLM_grid_0_AutoML_20181003_003247_model_0</td>\n",
       "      <td>0.748344</td>\n",
       "      <td>0.551138</td>\n",
       "      <td>0.462745</td>\n",
       "      <td>0.436204</td>\n",
       "      <td>0.190274</td>\n",
       "    </tr>\n",
       "  </tbody>\n",
       "</table>\n",
       "</div>"
      ],
      "text/plain": [
       "                                             model_id       auc   logloss  \\\n",
       "1   StackedEnsemble_BestOfFamily_0_AutoML_20181003...  0.784996  0.523250   \n",
       "2           GBM_grid_0_AutoML_20181003_003247_model_1  0.784544  0.518154   \n",
       "7                        XRT_0_AutoML_20181003_003247  0.775741  0.528193   \n",
       "8                        DRF_0_AutoML_20181003_003247  0.774102  0.537229   \n",
       "9               DeepLearning_0_AutoML_20181003_003247  0.752195  0.548348   \n",
       "10          GLM_grid_0_AutoML_20181003_003247_model_0  0.748344  0.551138   \n",
       "\n",
       "    mean_per_class_error      rmse       mse  \n",
       "1               0.391956  0.422185  0.178241  \n",
       "2               0.417497  0.421158  0.177374  \n",
       "7               0.417997  0.424820  0.180472  \n",
       "8               0.415757  0.425434  0.180994  \n",
       "9               0.468879  0.434282  0.188600  \n",
       "10              0.462745  0.436204  0.190274  "
      ]
     },
     "execution_count": 56,
     "metadata": {},
     "output_type": "execute_result"
    }
   ],
   "source": [
    "aml_leaderboard_df"
   ]
  },
  {
   "cell_type": "code",
   "execution_count": 57,
   "metadata": {
    "collapsed": true
   },
   "outputs": [],
   "source": [
    "# save leaderboard\n",
    "leaderboard_stats=run_id+'_leaderboard.csv'\n",
    "aml_leaderboard_df.to_csv(leaderboard_stats)"
   ]
  },
  {
   "cell_type": "code",
   "execution_count": 58,
   "metadata": {},
   "outputs": [
    {
     "name": "stdout",
     "output_type": "stream",
     "text": [
      "StackedEnsemble_BestOfFamily_0_AutoML_20181003_003247\n"
     ]
    }
   ],
   "source": [
    "top=aml_leaderboard_df.iloc[0]['model_id']\n",
    "print(top)"
   ]
  },
  {
   "cell_type": "code",
   "execution_count": 59,
   "metadata": {},
   "outputs": [
    {
     "name": "stdout",
     "output_type": "stream",
     "text": [
      "StackedEnsemble_BestOfFamily_0_AutoML_20181003_003247\n",
      "stackedensemble\n"
     ]
    }
   ],
   "source": [
    "mod_best=h2o.get_model(top)\n",
    "print(mod_best._id)\n",
    "print(mod_best.algo)"
   ]
  },
  {
   "cell_type": "code",
   "execution_count": 60,
   "metadata": {
    "collapsed": true
   },
   "outputs": [],
   "source": [
    "meta_data['mod_best']=mod_best._id\n",
    "meta_data['mod_best_algo']=mod_best.algo"
   ]
  },
  {
   "cell_type": "code",
   "execution_count": 61,
   "metadata": {
    "collapsed": true
   },
   "outputs": [],
   "source": [
    "meta_data['models']=bm"
   ]
  },
  {
   "cell_type": "code",
   "execution_count": 62,
   "metadata": {
    "collapsed": true
   },
   "outputs": [],
   "source": [
    "models_path=os.path.join(run_dir,'models')\n",
    "for mod in bm:\n",
    "  try:   \n",
    "    m=h2o.get_model(mod) \n",
    "    h2o.save_model(m, path = models_path)\n",
    "  except:    \n",
    "    pass    "
   ]
  },
  {
   "cell_type": "code",
   "execution_count": 63,
   "metadata": {},
   "outputs": [
    {
     "name": "stdout",
     "output_type": "stream",
     "text": [
      "/Users/bear/Downloads/AutoML/hunAq3K6I/models\n"
     ]
    }
   ],
   "source": [
    "print(models_path)"
   ]
  },
  {
   "cell_type": "code",
   "execution_count": 64,
   "metadata": {},
   "outputs": [
    {
     "name": "stdout",
     "output_type": "stream",
     "text": [
      "{'algo': 'gbm', 'model_id': 'GBM_grid_0_AutoML_20181003_003247_model_1', 'varimp': [('loan_amnt', 13790.80078125, 1.0, 0.36337776396370103), ('term', 6952.900390625, 0.5041694460613322, 0.18320396596858468), ('addr_state', 3470.388916015625, 0.25164520690734454, 0.09144227259817375), ('int_rate', 3460.663330078125, 0.25093998419462704, 0.09118601034573005), ('dti', 2710.388916015625, 0.19653600679234487, 0.07141681468655704), ('emp_length', 2214.00244140625, 0.16054197841915113, 0.058337385140259886), ('purpose', 1386.7762451171875, 0.10055806527222488, 0.03654056490713698), ('annual_inc', 1144.5565185546875, 0.08299420292626, 0.030158247881294013), ('revol_util', 985.2030029296875, 0.07143914400309309, 0.025959396407324812), ('longest_credit_length', 813.091796875, 0.05895899808664347, 0.021424388890264632), ('total_acc', 520.2718505859375, 0.03772600727387057, 0.01370879216645741), ('home_ownership', 358.5807189941406, 0.026001442895300732, 0.009448346179124241), ('delinq_2yrs', 78.76882934570312, 0.005711693656890279, 0.002075502469486444), ('bad_loan', 65.29772186279297, 0.0047348752910397985, 0.00172054839590502)]}\n"
     ]
    }
   ],
   "source": [
    "# GBM\n",
    " \n",
    "mod,mod_id=get_model_by_algo(\"GBM\",best_models)\n",
    "if mod is not None:\n",
    "    try:     \n",
    "        sh_df=mod.scoring_history()\n",
    "        sh_df.to_csv(run_id+'_gbm_scoring_history.csv') \n",
    "    except:\n",
    "        pass   \n",
    "    try:     \n",
    "        stats_gbm={}\n",
    "        stats_gbm=gbm_stats(mod)\n",
    "        n=run_id+'_gbm_stats.json'\n",
    "        dict_to_json(stats_gbm,n)\n",
    "        print(stats_gbm)\n",
    "    except:\n",
    "        pass        "
   ]
  },
  {
   "cell_type": "code",
   "execution_count": 65,
   "metadata": {
    "collapsed": true
   },
   "outputs": [],
   "source": [
    "# DeepLearning\n",
    "\n",
    "mod,mod_id=get_model_by_algo(\"Dee\",best_models)\n"
   ]
  },
  {
   "cell_type": "code",
   "execution_count": 66,
   "metadata": {},
   "outputs": [
    {
     "name": "stdout",
     "output_type": "stream",
     "text": [
      "{'algo': 'deeplearning', 'model_id': 'DeepLearning_0_AutoML_20181003_003247', 'varimp': [('loan_amnt', 1.0, 1.0, 0.057139774459626), ('annual_inc', 0.6492429971694946, 0.6492429971694946, 0.03709759842775653), ('term.36 months', 0.6443209052085876, 0.6443209052085876, 0.03681635120324076), ('term.60 months', 0.6017407178878784, 0.6017407178878784, 0.03438332890328681), ('int_rate', 0.5695430040359497, 0.5695430040359497, 0.03254355879567203), ('dti', 0.5403347015380859, 0.5403347015380859, 0.030874602978595563), ('purpose.small_business', 0.5323701500892639, 0.5323701500892639, 0.030419510305137783), ('revol_util', 0.4409337639808655, 0.4409337639808655, 0.025194855825500618), ('home_ownership.RENT', 0.39914199709892273, 0.39914199709892273, 0.02280688369159714), ('home_ownership.MORTGAGE', 0.276227205991745, 0.276227205991745, 0.01578356024998096), ('purpose.educational', 0.2624789774417877, 0.2624789774417877, 0.014997989571417012), ('addr_state.NH', 0.25939443707466125, 0.25939443707466125, 0.014821739630527794), ('purpose.moving', 0.25279638171195984, 0.25279638171195984, 0.01444472823523091), ('purpose.credit_card', 0.2515411078929901, 0.2515411078929901, 0.014373002172329905), ('home_ownership.OWN', 0.22743430733680725, 0.22743430733680725, 0.012995545025606431), ('addr_state.KY', 0.2232837677001953, 0.2232837677001953, 0.012758384126884686), ('home_ownership.OTHER', 0.21927842497825623, 0.21927842497825623, 0.012529519747119583), ('addr_state.OK', 0.21325935423374176, 0.21325935423374176, 0.012185591402321493), ('purpose.other', 0.21146421134471893, 0.21146421134471893, 0.012083017342519927), ('purpose.debt_consolidation', 0.21126717329025269, 0.21126717329025269, 0.012071758632527761), ('addr_state.NV', 0.20126491785049438, 0.20126491785049438, 0.011500232012612405), ('purpose.house', 0.19786709547042847, 0.19786709547042847, 0.011306081208161569), ('addr_state.LA', 0.1972535103559494, 0.1972535103559494, 0.01127102109310845), ('addr_state.MS', 0.19543464481830597, 0.19543464481830597, 0.011167091526515118), ('addr_state.VT', 0.19500404596328735, 0.19500404596328735, 0.011142487205056782), ('addr_state.WV', 0.1939319223165512, 0.1939319223165512, 0.011081226301689447), ('addr_state.CA', 0.19291287660598755, 0.19291287660598755, 0.01102299825962379), ('addr_state.WI', 0.1893240213394165, 0.1893240213394165, 0.01081793187912368), ('longest_credit_length', 0.18865889310836792, 0.18865889310836792, 0.010779926602014834), ('addr_state.IA', 0.18780554831027985, 0.18780554831027985, 0.010731166672715786), ('addr_state.IN', 0.1851573884487152, 0.1851573884487152, 0.010579851415492949), ('addr_state.DE', 0.18483507633209229, 0.18483507633209229, 0.010561434573843509), ('addr_state.SD', 0.1836792379617691, 0.1836792379617691, 0.01049539023005146), ('home_ownership.ANY', 0.18099218606948853, 0.18099218606948853, 0.010341852690965238), ('addr_state.AL', 0.18065199255943298, 0.18065199255943298, 0.010322414110528035), ('addr_state.MA', 0.18029429018497467, 0.18029429018497467, 0.010301975077527815), ('addr_state.OR', 0.17779842019081116, 0.17779842019081116, 0.010159361628980764), ('purpose.medical', 0.1764095574617386, 0.1764095574617386, 0.010080002325886177), ('addr_state.AR', 0.17508871853351593, 0.17508871853351593, 0.010004529887430039), ('addr_state.AZ', 0.17491456866264343, 0.17491456866264343, 0.009994579003086212), ('addr_state.UT', 0.17073644697666168, 0.17073644697666168, 0.009755842072284342), ('addr_state.GA', 0.17021530866622925, 0.17021530866622925, 0.009726064346763963), ('addr_state.MN', 0.1698986440896988, 0.1698986440896988, 0.009707970204281659), ('purpose.car', 0.1689324676990509, 0.1689324676990509, 0.009652763103231824), ('addr_state.NM', 0.16767315566539764, 0.16767315566539764, 0.009580806297654584), ('purpose.renewable_energy', 0.16686241328716278, 0.16686241328716278, 0.009534480661017383), ('addr_state.NC', 0.16423119604587555, 0.16423119604587555, 0.00938413350129595), ('addr_state.IL', 0.16388565301895142, 0.16388565301895142, 0.00936438925067141), ('home_ownership.NONE', 0.16354188323020935, 0.16354188323020935, 0.009344746322476654), ('addr_state.CO', 0.1604451835155487, 0.1604451835155487, 0.009167801599211756), ('addr_state.DC', 0.15870803594589233, 0.15870803594589233, 0.009068541378878504), ('addr_state.WY', 0.15741007030010223, 0.15741007030010223, 0.008994375914621716), ('addr_state.OH', 0.15725091099739075, 0.15725091099739075, 0.00898528158796163), ('addr_state.VA', 0.15546216070652008, 0.15546216070652008, 0.00888307279977669), ('addr_state.RI', 0.15136586129665375, 0.15136586129665375, 0.008649011175377828), ('total_acc', 0.14978927373886108, 0.14978927373886108, 0.008558925317909702), ('addr_state.TN', 0.14908374845981598, 0.14908374845981598, 0.0085186117625895), ('addr_state.CT', 0.14762726426124573, 0.14762726426124573, 0.008435388583979188), ('addr_state.KS', 0.14718472957611084, 0.14718472957611084, 0.008410102251880018), ('purpose.wedding', 0.14515072107315063, 0.14515072107315063, 0.00829387946477191), ('addr_state.MO', 0.14287108182907104, 0.14287108182907104, 0.00816362139251589), ('addr_state.AK', 0.14003321528434753, 0.14003321528434753, 0.008001466338203872), ('addr_state.ME', 0.1394415646791458, 0.1394415646791458, 0.007967659556063744), ('purpose.vacation', 0.13468427956104279, 0.13468427956104279, 0.007695829357375201), ('addr_state.FL', 0.13282740116119385, 0.13282740116119385, 0.007589727744408882), ('addr_state.HI', 0.13258281350135803, 0.13258281350135803, 0.007575752060690256), ('addr_state.NY', 0.13217400014400482, 0.13217400014400482, 0.0075523925576550105), ('addr_state.TX', 0.1319451630115509, 0.1319451630115509, 0.007539316855518606), ('purpose.home_improvement', 0.12820328772068024, 0.12820328772068024, 0.007325506945342209), ('addr_state.ID', 0.1264401078224182, 0.1264401078224182, 0.00722475924362377), ('addr_state.MI', 0.12443909794092178, 0.12443909794092178, 0.007110421990303582), ('addr_state.MT', 0.12239392846822739, 0.12239392846822739, 0.006993561467902112), ('addr_state.NE', 0.12208927422761917, 0.12208927422761917, 0.006976153593305589), ('emp_length', 0.11550751328468323, 0.11550751328468323, 0.006600073257479054), ('addr_state.MD', 0.11414600163698196, 0.11414600163698196, 0.0065222767890052505), ('purpose.major_purchase', 0.10685215890407562, 0.10685215890407562, 0.006105508260303), ('addr_state.WA', 0.10005176067352295, 0.10005176067352295, 0.00571693503917358), ('bad_loan', 0.09902647137641907, 0.09902647137641907, 0.005658350239981196), ('addr_state.PA', 0.09518402814865112, 0.09518402814865112, 0.005438793900572618), ('addr_state.SC', 0.09192225337028503, 0.09192225337028503, 0.005252416825398683), ('addr_state.NJ', 0.08208009600639343, 0.08208009600639343, 0.00469003817342977), ('delinq_2yrs', 0.07526099681854248, 0.07526099681854248, 0.004300396383818148), ('addr_state.missing(NA)', 0.0, 0.0, 0.0), ('purpose.missing(NA)', 0.0, 0.0, 0.0), ('home_ownership.missing(NA)', 0.0, 0.0, 0.0), ('term.missing(NA)', 0.0, 0.0, 0.0)]}\n"
     ]
    }
   ],
   "source": [
    "if mod is not None:\n",
    "    try:    \n",
    "        sh_df=mod.scoring_history()\n",
    "        sh_df.to_csv(run_id+'_dl_scoring_history.csv') \n",
    "    except:\n",
    "        pass \n",
    "    try:\n",
    "        stats_dl={}\n",
    "        stats_dl=dl_stats(mod)\n",
    "        n=run_id+'_dl_stats.json'\n",
    "        dict_to_json(stats_dl,n)\n",
    "        print(stats_dl)\n",
    "    except:\n",
    "        pass    \n",
    "    try:\n",
    "        cf=mod.confusion_matrix()    \n",
    "        cf_df.to_csv(run_id+'_dl_confusion_matrix.csv')\n",
    "    except:\n",
    "        pass       "
   ]
  },
  {
   "cell_type": "code",
   "execution_count": 67,
   "metadata": {},
   "outputs": [
    {
     "name": "stdout",
     "output_type": "stream",
     "text": [
      "{'algo': 'drf', 'model_id': 'DRF_0_AutoML_20181003_003247', 'varimp': [('loan_amnt', 123539.453125, 1.0, 0.2228840883972794), ('addr_state', 85879.015625, 0.6951545716986919, 0.15493889300826416), ('int_rate', 53601.1484375, 0.43387878998675145, 0.09670467858111173), ('dti', 46907.97265625, 0.37970034243868195, 0.08462916468858045), ('term', 41309.95703125, 0.33438675650807403, 0.07452948739642512), ('revol_util', 33860.30859375, 0.274084980443368, 0.06108918100950623), ('total_acc', 31307.00390625, 0.2534170511065228, 0.056482628420204094), ('annual_inc', 31131.365234375, 0.2519953298067103, 0.05616574936434039), ('longest_credit_length', 29828.21484375, 0.2414468745751136, 0.053814666536046454), ('purpose', 28012.44140625, 0.2267489510246284, 0.05053873324416365), ('emp_length', 27478.240234375, 0.2224248168443153, 0.04957495253927705), ('home_ownership', 9887.966796875, 0.08003893935705003, 0.017839406034881225), ('delinq_2yrs', 6830.953125, 0.05529369729432336, 0.012324085315560377), ('bad_loan', 4702.6416015625, 0.03806590916995772, 0.008484285464359666)], 'roc': ([0.0041274829389554655, 0.004596515091109496, 0.005182805281302033, 0.005346966534555944, 0.005581482610632959, 0.0058863535095330785, 0.006167772800825496, 0.006308482446471706, 0.0066368049529795265, 0.006871321029056542, 0.007082385497525856, 0.007434159611641378, 0.007996998194226215, 0.008372223915949438, 0.00853638516920335, 0.008841256068103468, 0.009075772144180483, 0.009357191435472902, 0.009708965549588425, 0.010060739663703947, 0.010459416993034872, 0.010693933069111887, 0.010975352360404306, 0.011420932904950635, 0.012077577917966277, 0.012616964892943412, 0.013297061513566756, 0.014282029033090218, 0.014633803147205741, 0.015431157805867592, 0.015923641565629323, 0.016744447831898875, 0.01726038319926831, 0.018761286086161205, 0.019066156985061325, 0.019863511643723176, 0.020144930935015595, 0.02068431790999273, 0.021340962923008373, 0.021575478999085386, 0.021997607936024014, 0.022818414202293566, 0.02377993011420933, 0.024272413873971062, 0.024905607279379002, 0.025585703900002345, 0.026171994090194883, 0.026805187495602824, 0.027883961445557093, 0.028751670927042047, 0.029642832016134706, 0.030369831851973454, 0.030674702750873573, 0.03163621866278933, 0.03203489599212026, 0.032714992612743604, 0.03351234727140545, 0.0342158954996365, 0.034942895335475246, 0.03590441124739101, 0.036490701437583546, 0.036748669121268264, 0.03745221734949931, 0.03855444290706128, 0.03946905560376164, 0.039844281325484864, 0.04059473276893131, 0.04157970028845477, 0.04244740976993973, 0.04317440960577847, 0.04376069979597101, 0.04448769963180976, 0.0451208930372177, 0.04622311859477967, 0.047231537721910834, 0.04770056987406487, 0.048544827747942124, 0.0497408597359349, 0.05056166600220445, 0.05112450458478929, 0.05187495602823573, 0.052930278370582305, 0.05349311695316714, 0.054173213573790485, 0.055064374662883143, 0.05644801951173753, 0.05736263220843789, 0.058183438474707444, 0.058863535095330786, 0.059778147792031146, 0.06085692174198541, 0.061912244084331984, 0.06282685678103234, 0.0636945662625173, 0.06453882413639454, 0.06554724326352572, 0.06592246898524894, 0.0670246945428109, 0.0685021458220961, 0.06944021012640417, 0.07084730658286625, 0.07192608053282053, 0.07338008020449802, 0.07502169273703713, 0.07603011186416829, 0.07741375671302268, 0.07886775638470017, 0.07978236908140053, 0.0808376914237471, 0.08193991698130906, 0.08301869093126334, 0.08494172275509486, 0.08590323866701062, 0.0871227222626111, 0.0885767219342886, 0.09000726999835838, 0.09071081822658943, 0.09181304378415141, 0.09258694683520555, 0.09404094650688305, 0.09556530100138365, 0.09680823620459182, 0.0981215262306231, 0.09861400999038485, 0.10051359020660866, 0.10231936399240169, 0.10356229919560986, 0.10532116976618747, 0.10733800802044981, 0.10851058840083487, 0.1105508782627049, 0.11214558758002861, 0.11402171618864473, 0.11610890926573017, 0.11723458643089983, 0.11889965057104665, 0.12096339204052438, 0.12267535939588659, 0.1244107783588565, 0.12593513285335708, 0.1272484228793884, 0.12898384184235828, 0.1307661640205436, 0.13308787317370604, 0.13498745338992987, 0.1367228723528998, 0.1385286461386928, 0.14054548439295514, 0.14293754836894068, 0.1448371285851645, 0.14729954738397316, 0.15001993386646656, 0.15203677212072889, 0.15433502966628362, 0.15569522290753032, 0.1584859642128468, 0.1614643183790249, 0.16437231772237987, 0.1665533172298961, 0.16878121995262776, 0.17133744518186722, 0.17215825144813676, 0.174339250955653, 0.17668441171642316, 0.17935789498370114, 0.18158579770643277, 0.18435308740414155, 0.1866513449496963, 0.18953589268544357, 0.19235008559836778, 0.19460143992870713, 0.19718111676555428, 0.20022982575455547, 0.20355995403484908, 0.20625688890973476, 0.20888346896179733, 0.21188527473558313, 0.21448840318003798, 0.21734949930817757, 0.22004643418306324, 0.22340001407096458, 0.22602659412302714, 0.22898149668159754, 0.2317956895945217, 0.23463333411505358, 0.23601697896390797, 0.2392767524213785, 0.24316971928425693, 0.2469688797167046, 0.25083839497197535, 0.25384020074576114, 0.256443329190216, 0.25914026406510166, 0.2629863277127647, 0.2659646818789428, 0.2689430360451209, 0.27173377735043736, 0.2755798409981004, 0.2790975821392557, 0.2826387748880186, 0.285828193522666, 0.291010998803968, 0.29464599798316177, 0.2973663844656551, 0.3015173190122183, 0.3052461246218428, 0.30909218826950585, 0.3135010904997538, 0.3174644121854553, 0.3225065078211111, 0.3260477005698741, 0.3297296029642832, 0.33345840857390774, 0.33674163363898596, 0.3416195680213879, 0.3451373091625431, 0.3474590183157055, 0.3516099528622687, 0.35562017776318566, 0.36019324124668745, 0.364789756337797, 0.36666588494641306, 0.3702774325179991, 0.37426420581130837, 0.37747707605356345, 0.38174526863816516, 0.38591965479233603, 0.390398911845407, 0.3946671044300087, 0.39870078093853334, 0.4032738444220351, 0.40679158556319034, 0.4103327783119533, 0.4149058417954551, 0.4192443892028799, 0.4245679041298281, 0.42977416101873783, 0.4322600314251542, 0.4354025468445862, 0.4417344808986656, 0.44527567364742854, 0.45038812410590745, 0.45531296170352475, 0.45922938017401094, 0.46354447597382803, 0.4687507328627377, 0.47416805422011676, 0.4813442461480735, 0.48601111606200603, 0.49086559883680025, 0.49499308177575574, 0.4991440163223189, 0.5044206280340517, 0.5107291104805234, 0.5165451091672334, 0.5214933983724584, 0.5281771065406533, 0.532609460378509, 0.5378626204826341, 0.5421777162824511, 0.548322037475669, 0.554677423137356, 0.5594380994817195, 0.5651602917379986, 0.571187354893178, 0.5772847728711803, 0.5815060622405666, 0.5843202551534907, 0.590980511714078, 0.5961867686029877, 0.6006894772636664, 0.6074200886470768, 0.6117351844468938, 0.6166834736521188, 0.6214441499964822, 0.6260875683028072, 0.6324898571797096, 0.6375554044229732, 0.6421050162988673, 0.6480851762388312, 0.6543702070776952, 0.6597171736122511, 0.6651813981848456, 0.6695903004150935, 0.6730376867334256, 0.6788302338125278, 0.6834736521188527, 0.6870382964752234, 0.6927370371238949, 0.6977322295443352, 0.7026805187495603, 0.7058464857766, 0.7114748716024484, 0.7155554513261884, 0.7206679017846673, 0.7239276752421379, 0.729579512675594, 0.734996834032973, 0.7396871555545133, 0.7442602190380151, 0.7487863793063014, 0.7538284749419573, 0.7591050866536901, 0.7657418916066696, 0.7697052132923712, 0.774348631598696, 0.7787340822213362, 0.784643887338477, 0.7895921765437021, 0.7948218850402196, 0.7989493679791749, 0.8029830444876996, 0.8059144954386623, 0.8111676555427875, 0.8167491381534204, 0.8219319434347224, 0.8257780070823855, 0.8301165544898103, 0.834150230998335, 0.8389578105579137, 0.8431321967120846, 0.8475410989423325, 0.8511760981215263, 0.8546000328322506, 0.8587040641635985, 0.8627611922797308, 0.8650125466100701, 0.869421448840318, 0.8734082221336272, 0.8767148988063131, 0.8803498979855069, 0.8854388968363781, 0.8886517670786332, 0.8923336694730424, 0.8969067329565442, 0.9003541192748763, 0.9037780539856007, 0.9051851504420628, 0.9083745690767102, 0.911610890926573, 0.9137684388264815, 0.9167936962078751, 0.9199362116273071, 0.9212260500457307, 0.9237588236673624, 0.9267371778335405, 0.9287071128725874, 0.9319434347224502, 0.9343589503060434, 0.9371731432189676, 0.9384864332449989, 0.9411599165122769, 0.9437864965643394, 0.9473980441359255, 0.9500011725803804, 0.9523697849487582, 0.9551605262540748, 0.9585141061419761, 0.9607654604723154, 0.9630402664102624, 0.9643535564362937, 0.9659951689688329, 0.9679182007926643, 0.9697239745784574, 0.9710372646044887, 0.9730071996435355, 0.9753523604043057, 0.9771581341900988, 0.9785652306465609, 0.979808165849769, 0.9804648108627847, 0.9815904880279543, 0.9832790037757089, 0.9847095518397786, 0.9861400999038484, 0.9873361318918412, 0.9883445510189723, 0.9892591637156727, 0.9904551957036655, 0.9912994535775428, 0.9917684857296968, 0.9926361952111817, 0.993480453085059, 0.9941370980980746, 0.994887549541521, 0.9957787106306137, 0.9962242911751601, 0.9966933233273141, 0.9971858070870758, 0.9977017424544452, 0.9981238713913839, 0.9986163551511457, 0.998897774442438, 0.9992495485565536, 0.9994371614174151, 0.999601322670669, 0.9996951291010999, 0.9998358387467461, 0.9999530967847846, 1.0], [0.11322476948923842, 0.12215416771394176, 0.13042212903311154, 0.13589882661092959, 0.1415342690460757, 0.14634952971836016, 0.15059595465188574, 0.15369147936978292, 0.1567737753495694, 0.15986930006746655, 0.16303096847591708, 0.16625878057492097, 0.1694072202452608, 0.17201328165306312, 0.17422248091754527, 0.17653751008691282, 0.17869379439895228, 0.18090299366343446, 0.18291376185625652, 0.18520233354940271, 0.1882846295291892, 0.19089069093699151, 0.19487254110830368, 0.19987300411413755, 0.20700329395578956, 0.21557551625150476, 0.22476948923842155, 0.23417512203510907, 0.23570965565594698, 0.24438770785654756, 0.24747000383633405, 0.2560686836082706, 0.25913775084994645, 0.2663341843821518, 0.26969428386226235, 0.27563398727395394, 0.2779225589671001, 0.2810180836849973, 0.28551585464262563, 0.2880954585742066, 0.2907941211487836, 0.29619144629793764, 0.30029235511224583, 0.30258092680539206, 0.3074226449538979, 0.31008162131414285, 0.3144603336287751, 0.31745002844178694, 0.3225960075668382, 0.32566507480851403, 0.33086396888600794, 0.333602317674917, 0.3348590477954308, 0.34033574537324884, 0.34247880094717764, 0.34508486235498, 0.3499001230272644, 0.3536967708650272, 0.3561573161536121, 0.36094611934967524, 0.36410778775812574, 0.3652719167118649, 0.36816901035810196, 0.3722831479105208, 0.37585490720040216, 0.3775614144166788, 0.3795192676570582, 0.38531345494953234, 0.38819731985765876, 0.39073723757490775, 0.39379307607847286, 0.3968621433201487, 0.3987273953937534, 0.40208749487386397, 0.40462741259111296, 0.4064926646647176, 0.40851666159565037, 0.41285568769595066, 0.41536914793697827, 0.41756511846334976, 0.41976108898972125, 0.4238487690659188, 0.4259256809492942, 0.42849205614276453, 0.43142883600333365, 0.4349873665551043, 0.4377918590345667, 0.4397364835368354, 0.4419059965869856, 0.4440887383752464, 0.4480441310703372, 0.450147500429934, 0.4521318111465347, 0.45394414826769675, 0.4558623152937441, 0.4589049250591986, 0.4597118780839496, 0.4623576257060839, 0.4648710859471115, 0.46722580133081104, 0.4700964375008268, 0.47219980686042357, 0.47500429933988597, 0.47738547219980687, 0.4788274046538701, 0.4818832431574352, 0.48429087349357747, 0.485679890995198, 0.4876245154974667, 0.4899130871906129, 0.491963541597767, 0.49497969388700014, 0.4962893389599566, 0.4979164737475692, 0.5002976466074901, 0.5024803883957509, 0.5034990012302727, 0.5056155993279801, 0.5074014789729208, 0.5096371357136242, 0.5121109097403199, 0.5142936515285806, 0.5162779622451814, 0.5171378302223751, 0.5194925456060746, 0.5218340322516635, 0.5234082520868334, 0.5260672284470784, 0.5282367414972285, 0.5298771050229518, 0.5322582778828727, 0.5343748759805802, 0.5364914740782877, 0.5390843067479794, 0.540751127749924, 0.5428280396332994, 0.545182755016999, 0.5473654968052597, 0.5501567605466114, 0.5519955551439948, 0.5537152910983821, 0.5558451179342002, 0.5580146309843504, 0.5600386279152831, 0.5618112788221131, 0.563994020610374, 0.5659915600650854, 0.5676980672813621, 0.5709523368565872, 0.5728043601920813, 0.5751458468376701, 0.5774344185308163, 0.579180611961425, 0.5809664916063657, 0.5823951953223182, 0.5840487875861522, 0.5864961041366265, 0.5890227931157647, 0.5914436521900176, 0.5939438836929345, 0.5963382852909661, 0.5975024142447052, 0.5992750651515352, 0.6013916632492426, 0.6040903258238197, 0.6062466101358591, 0.6084822668765626, 0.6101623166166179, 0.6126360906433135, 0.614752688741021, 0.6163401373143016, 0.6187742251266651, 0.620956966914926, 0.6238143743468311, 0.6258780574920958, 0.6280211130660246, 0.6303625997116135, 0.6328760599526411, 0.6348339131930205, 0.637029883719392, 0.639728546293969, 0.6416996282724591, 0.6439088275369412, 0.6463958303017475, 0.6485256571375656, 0.6497559297818581, 0.6522693900228858, 0.6550341962880161, 0.6577990025531465, 0.6604579789133914, 0.6621909436058895, 0.6642546267511542, 0.666238937467755, 0.6687259402325613, 0.6706970222110513, 0.6726548754514307, 0.6746524149061421, 0.6773246200044978, 0.6794676755784266, 0.681663646104798, 0.683965446536055, 0.6873123172780549, 0.6896008889712011, 0.6914396835685844, 0.6939266863333906, 0.6962814017170902, 0.6987551757437858, 0.7015993544375801, 0.703861468654505, 0.7071421957059516, 0.709179421374995, 0.7116664241398013, 0.7142857142857143, 0.7159922215019909, 0.7187305702908999, 0.7211646581032636, 0.722394930747556, 0.7246305874882595, 0.7271705052055084, 0.7294458481605439, 0.732144510735121, 0.7333483259031921, 0.7355310676914529, 0.7381106716230339, 0.7396981201963144, 0.7425819851044408, 0.7446192107734844, 0.7471988147050653, 0.7495932163030968, 0.7513129522574842, 0.7533237204503063, 0.7554535472861243, 0.7572526556691758, 0.7601629780535235, 0.762557379651555, 0.7650972973688039, 0.7676636725622743, 0.7689865463733414, 0.7711957456378236, 0.7747939624039263, 0.776579842048867, 0.7791197597661159, 0.7819242522455783, 0.7843186538436099, 0.7869247152514122, 0.7891206857777836, 0.7911579114468271, 0.7946635270461551, 0.7971769872871827, 0.7999417935523131, 0.8023097376741233, 0.8043205058669454, 0.8064503327027635, 0.8099427195639808, 0.8126942970910005, 0.8147315227600439, 0.8178667336922731, 0.8200891616948659, 0.8227745955313323, 0.8249573373195931, 0.8276824573703915, 0.8301694601351977, 0.8330268675671028, 0.8349847208074822, 0.8375775534771738, 0.8405804770282963, 0.8424986440543436, 0.8437686029129682, 0.8467318402497586, 0.8486235497995847, 0.8505549455637427, 0.8533065230907624, 0.8553437487598058, 0.8575529480242879, 0.8599605783604302, 0.862302065006019, 0.8650271850568174, 0.8672892992737423, 0.869035492704351, 0.8711785482782798, 0.8741153281388488, 0.8765758734274337, 0.8788644451205799, 0.8806238672892993, 0.8819864273146985, 0.8845395737700581, 0.8864841982723268, 0.8884685089889276, 0.8909422830156232, 0.8930721098514413, 0.8953209953302554, 0.8964057518553306, 0.8989192120963582, 0.901101953884619, 0.9031788657679944, 0.9047398568650536, 0.9068564549627611, 0.9086291058695911, 0.9102165544428716, 0.9121214927308084, 0.9143571494715119, 0.9168309234982075, 0.9187490905242549, 0.9209979760030691, 0.9229293717672271, 0.9245961927691717, 0.9262100988186737, 0.9281150371066104, 0.9301522627756539, 0.9325202068974641, 0.934054740518302, 0.9354305292818118, 0.9370576640694244, 0.9393065495482386, 0.9412379453123967, 0.9430238249573373, 0.9444392999351792, 0.9460796634609024, 0.9477597132009578, 0.949400076726681, 0.9506964930615268, 0.9520061381344833, 0.9531041233976691, 0.954559284589843, 0.9558424721865781, 0.957297633378752, 0.9579326128080642, 0.9595465188575661, 0.9608297064543013, 0.962417155027582, 0.9636474276718744, 0.9651290463402696, 0.96612120169857, 0.9672721019141984, 0.9688463217493684, 0.969785562155226, 0.9709496911089651, 0.9714523831571706, 0.9725635971584671, 0.9738203272789808, 0.9744949929226251, 0.9754474620665935, 0.9766248197584433, 0.9769423094730993, 0.977841863664625, 0.9787149603799293, 0.9793234823330202, 0.9802362652626566, 0.9812284206209569, 0.9822734909317, 0.9827364967655735, 0.9834243911473285, 0.984204886695858, 0.9851970420541585, 0.9858452502215813, 0.9865728308176683, 0.9873004114137552, 0.9882264230815022, 0.9889804611538106, 0.9897212704880082, 0.9901181326313283, 0.9905546809889805, 0.9910706017752966, 0.9917849536332729, 0.9920495283954863, 0.9925125342293598, 0.9931739711348935, 0.9935443758019923, 0.9940735253264191, 0.99448361620785, 0.9946688185413993, 0.9950259944703874, 0.995608058947257, 0.9958726337094704, 0.9962430383765692, 0.9966663579961107, 0.9969573902345455, 0.997301337425423, 0.9976320558781898, 0.9979760030690672, 0.998068604235842, 0.9982008916169487, 0.9984125514267194, 0.9986109824983794, 0.9988226423081502, 0.9990607595941423, 0.9991798182371383, 0.9993121056182451, 0.9993914780469091, 0.9994973079517945, 0.9996295953329012, 0.9997089677615653, 0.9997618827140079, 0.9998677126188933, 0.9998941700951146, 0.999960313785668, 0.9999867712618893, 0.9999867712618893, 0.9999867712618893, 1.0])}"
     ]
    },
    {
     "name": "stdout",
     "output_type": "stream",
     "text": [
      "\n"
     ]
    }
   ],
   "source": [
    "# DRF\n",
    "\n",
    "mod,mod_id=get_model_by_algo(\"DRF\",best_models)\n",
    "if mod is not None:\n",
    "    try:     \n",
    "         sh_df=mod.scoring_history()\n",
    "         sh_df.to_csv(run_id+'_drf_scoring_history.csv') \n",
    "    except:\n",
    "         pass  \n",
    "    try: \n",
    "         stats_drf={}\n",
    "         stats_drf=drf_stats(mod)\n",
    "         n=run_id+'_drf_stats.json'\n",
    "         dict_to_json(stats_drf,n)\n",
    "         print(stats_drf)\n",
    "    except:\n",
    "         pass     "
   ]
  },
  {
   "cell_type": "code",
   "execution_count": 68,
   "metadata": {},
   "outputs": [
    {
     "name": "stdout",
     "output_type": "stream",
     "text": [
      "{'algo': 'drf', 'model_id': 'XRT_0_AutoML_20181003_003247', 'varimp': [('loan_amnt', 107676.0546875, 1.0, 0.19883127109738963), ('addr_state', 100249.28125, 0.9310266942909995, 0.1851172210514802), ('term', 50597.24609375, 0.46990248891078457, 0.09343130916195833), ('int_rate', 48523.203125, 0.45064061146951556, 0.08960144558658868), ('dti', 43028.5, 0.39961066668794964, 0.07945509680164033), ('annual_inc', 33411.66796875, 0.3102980329815959, 0.061696952316750445), ('revol_util', 30078.9453125, 0.27934665139613285, 0.05554284977389249), ('purpose', 28430.447265625, 0.2640368589668011, 0.05249878428493126), ('total_acc', 26800.810546875, 0.24890223387787516, 0.049489547540917674), ('emp_length', 25706.701171875, 0.2387411133002746, 0.04746919902069951), ('longest_credit_length', 25396.5234375, 0.2358604567302024, 0.04689643441327701), ('home_ownership', 10680.3427734375, 0.09918958123451165, 0.019721990516475735), ('delinq_2yrs', 6400.908203125, 0.05944597637517336, 0.011819719044301114), ('bad_loan', 4564.2373046875, 0.042388600863339, 0.008428179389697601)], 'roc': ([0.001805773785793016, 0.0020168382542623295, 0.002462418798808658, 0.00295490255857039, 0.003330128280293614, 0.0035646443563706292, 0.0038929668628784504, 0.004408902230247883, 0.004737224736755705, 0.004995192420440421, 0.005276611711732839, 0.005675289041063765, 0.005980159939963884, 0.006285030838864004, 0.006566450130156422, 0.006918224244271944, 0.007434159611641378, 0.007739030510541498, 0.008043901409441617, 0.008419127131164841, 0.008723998030064961, 0.00902886892896508, 0.00947444947351141, 0.009755868764803827, 0.00994348162566544, 0.010154546094134752, 0.010435965385427171, 0.010858094322365798, 0.011397481297342932, 0.011749255411458456, 0.012171384348397082, 0.012874932576628128, 0.013320513121174457, 0.014047512957013203, 0.014282029033090218, 0.014704157970028846, 0.015290448160221383, 0.015947093173237024, 0.016416125325391055, 0.0171196735536221, 0.017635608920991534, 0.018081189465537863, 0.01894889894702282, 0.019394479491569146, 0.020027672896977086, 0.020496705049131116, 0.02131751131540067, 0.021692737037123894, 0.02253699491100115, 0.023099833493585985, 0.023686123683778523, 0.02410825262071715, 0.024811800848948195, 0.025421542646748434, 0.025702961938040853, 0.026312703735841093, 0.026781735887995123, 0.027391477685795362, 0.028118477521634107, 0.028517154850965034, 0.029361412724842287, 0.029877348092211722, 0.030768509181304377, 0.03130789615628151, 0.032105250814943365, 0.032738444220351305, 0.03341854084097465, 0.03433315353767501, 0.03508360498112146, 0.035552637133275486, 0.03604512089303722, 0.03660795947562205, 0.03724115288102999, 0.03855444290706128, 0.03930489435050773, 0.0404305715156774, 0.041087216528693044, 0.042048732440608805, 0.04279918388405525, 0.04340892568185549, 0.04408902230247883, 0.044511151239417464, 0.04537886072090242, 0.04596515091109495, 0.04713773129148003, 0.04751295701320325, 0.048286860064257406, 0.049201472760957765, 0.050022279027227314, 0.050655472432635254, 0.05215637531952815, 0.052906826762974604, 0.053774536244459555, 0.05461879411833681, 0.055721019675898785, 0.05661218076499144, 0.05771440632255341, 0.058113083651884334, 0.05919185760183861, 0.059965760652892754, 0.060716212096339206, 0.06172463122347037, 0.062475082666916815, 0.06294411481907085, 0.06357730822447878, 0.06451537252878685, 0.0654065336178795, 0.06620388827654136, 0.0667667268591262, 0.06770479116343425, 0.06815037170798058, 0.06927604887315025, 0.07014375835463521, 0.07122253230458948, 0.07180882249478202, 0.07244201590018996, 0.0732628221664595, 0.07410708004033677, 0.07516240238268333, 0.07579559578809128, 0.07673366009239933, 0.0777655308271382, 0.07879740156187706, 0.08008723998030065, 0.08121291714547033, 0.0823854975258554, 0.08320630379212494, 0.08456649703337164, 0.0856452709833259, 0.08677094814849558, 0.08876433479515021, 0.0902652376820431, 0.09162543092328979, 0.09347810792429821, 0.0948148495579372, 0.0963626556600455, 0.09774630050889989, 0.09870781642081565, 0.10023217091531625, 0.10119368682723201, 0.1027883961445557, 0.1043596538542717, 0.1056963954879107, 0.10651720175418025, 0.10815881428671935, 0.10984733003447386, 0.11123097488332825, 0.11289603902347506, 0.11456110316362186, 0.11592129640486855, 0.11744565089936915, 0.11934523111559298, 0.12115100490138599, 0.12272226261110199, 0.12466874604254122, 0.12654487465115732, 0.12820993879130416, 0.1305081963368589, 0.13264229262915972, 0.13461222766820666, 0.13651180788443049, 0.13871625899955442, 0.14038132313970123, 0.14176496798855562, 0.14394596749607186, 0.1461504186111958, 0.14844867615675056, 0.14952745010670482, 0.15182570765225956, 0.15463990056518373, 0.15679744846509228, 0.15761825473136185, 0.16033864121385522, 0.16261344715180226, 0.1649586079125724, 0.16742102671138107, 0.16936751014282028, 0.17199409019488285, 0.1742454445252222, 0.17701273422293098, 0.17975657231303205, 0.1819141202129406, 0.1849393775943341, 0.18787082854529677, 0.19056776342018245, 0.193194343472245, 0.1960085363851692, 0.19957318074153985, 0.20262188973054102, 0.2048966956684881, 0.20782814661945076, 0.21082995239323657, 0.21357379048333763, 0.2174667573462161, 0.22143007903191764, 0.22593278769259634, 0.228864238643559, 0.2317018831640909, 0.23573555967261556, 0.23749443024319317, 0.24014446190286345, 0.24352149339837245, 0.24668746042541218, 0.24980652423723645, 0.2535587814544687, 0.2572641354564855, 0.26111019910414857, 0.2645810370300884, 0.26833329424732066, 0.27002180999507513, 0.2734457447057996, 0.2770572922773856, 0.2814896461152412, 0.2847025163574963, 0.28857203161276707, 0.29307474027344577, 0.2965690298069933, 0.3003447386318332, 0.3030416735067189, 0.30557444712835063, 0.30927980113036746, 0.3141342839051617, 0.31868389578105577, 0.32262376585914965, 0.3265167327220281, 0.33066766726859126, 0.3346778921695082, 0.3400248587040642, 0.3436833094908656, 0.34856124387326753, 0.3531343073567693, 0.3573086935109402, 0.3621866278933421, 0.3667362397692362, 0.37100443235383784, 0.376023076381886, 0.37998639806758755, 0.38486433244998947, 0.3890856218193757, 0.3950657817593396, 0.4003658450786801, 0.4047278440937126, 0.40995755259023003, 0.41244342299664644, 0.41748551863230227, 0.41954926010177995, 0.42344222696465844, 0.42820290330902183, 0.43268216036209284, 0.43619990150324806, 0.4406557069487113, 0.4432353837855585, 0.4479257053070988, 0.45156070448629254, 0.4537651556014165, 0.45843202551534906, 0.46408386294880516, 0.4685631200018761, 0.4729016674093009, 0.4754813442461481, 0.48141460097089656, 0.48610492249243686, 0.49241340493890856, 0.49813559719518774, 0.502825918716728, 0.5084308529349687, 0.5116906263924392, 0.5154194320020637, 0.5176473347247954, 0.5220093337398278, 0.527027977767876, 0.532210783049178, 0.5393869749771347, 0.5442180061443211, 0.5493304566028001, 0.5547243263525715, 0.5576088740883187, 0.5629558406228747, 0.5685373232335077, 0.5735559672615558, 0.579348514340658, 0.5836870617480828, 0.5895030604347928, 0.5936774465889637, 0.5988133486550503, 0.6036678314298445, 0.6088271851035388, 0.6149949579043643, 0.6196383762106893, 0.6247039234539528, 0.6309889542928168, 0.6379071785370887, 0.6439811449074834, 0.6464904669215075, 0.6529162074060176, 0.6582866255481813, 0.6632818179686217, 0.6684646232499237, 0.6747496540887877, 0.6786660725592739, 0.684786942144884, 0.6885391993621163, 0.6929011983771488, 0.699795971013813, 0.7063389695363618, 0.7104430008677095, 0.7148753547055651, 0.7216763209117985, 0.7262962876105157, 0.7315259961070332, 0.7360287047677119, 0.7412584132642293, 0.74686334748247, 0.7510377336366408, 0.7576510869820127, 0.7607232475786215, 0.7659529560751389, 0.7708543420651486, 0.7750756314345348, 0.781431017096222, 0.786613822377524, 0.7915152083675336, 0.797213949016205, 0.803029947702915, 0.8096198494406791, 0.8161159447480125, 0.8208297178771605, 0.8272320067540629, 0.8324617152505804, 0.8366361014047513, 0.842710067775146, 0.8462043573086935, 0.8510822916910954, 0.8552097746300509, 0.8596186768602988, 0.8642386435590159, 0.8686475457892638, 0.8736896414249197, 0.8779812856171291, 0.8820853169484768, 0.8862831547102554, 0.8899416054970568, 0.8947960882718511, 0.8991346356792758, 0.9036373443399545, 0.9059825051007246, 0.9096644074951338, 0.91358082596562, 0.918763631246922, 0.920334888956638, 0.9239698881358317, 0.9267606294411482, 0.9302783705823034, 0.9331629183180506, 0.9365634014211675, 0.9385098848526067, 0.9414178841959616, 0.9443962383621397, 0.9469993668065946, 0.9494617856054033, 0.9515020754672733, 0.9530498815693815, 0.9556530100138364, 0.9582326868506836, 0.9599446542060458, 0.9625946858657161, 0.9654088787786402, 0.9680589104383105, 0.9702633615534345, 0.972819586782674, 0.9750240378977979, 0.9773691986585681, 0.979104617621538, 0.9812856171290542, 0.9825285523322623, 0.9841232616495861, 0.9858352290049482, 0.9877582608287798, 0.9889073896015572, 0.9899861635515115, 0.9912525503623273, 0.9922375178818508, 0.9931755821861589, 0.9936446143383129, 0.9944654206045824, 0.9951924204404212, 0.9957787106306137, 0.9965995168968833, 0.9972796135175066, 0.9977017424544452, 0.998030064960953, 0.9983349358598532, 0.9987570647967918, 0.9992026453413382, 0.999530967847846, 0.9996951291010999, 0.9998123871391383, 0.9999296451771769, 1.0, 1.0], [0.060375960737105286, 0.07148810075006945, 0.08532536081383196, 0.09932136573492255, 0.1088063709602741, 0.11280144986969692, 0.12117524109375206, 0.128107099863744, 0.1337425422988901, 0.13992036299657376, 0.14369055335811518, 0.14806926567274747, 0.153003584988028, 0.15853319751828873, 0.16072916804466023, 0.16424801238209888, 0.16866641091106319, 0.17293929332081012, 0.1760215893005966, 0.1793949175188179, 0.18239784106994034, 0.18570502559760824, 0.18788776738586907, 0.18948844469726034, 0.19138015424708638, 0.19438307779820882, 0.19776963475454076, 0.20234677814083316, 0.2066064318124694, 0.20881563107695156, 0.2144510735120977, 0.2202188033283505, 0.2233937004749117, 0.2290820578625005, 0.23295807812892727, 0.23893746775495087, 0.2429722328787057, 0.24917651105261068, 0.25437540513010465, 0.25964044289815197, 0.2635693781170214, 0.26757768576455493, 0.2728559522707129, 0.27604407815538473, 0.27972166735015147, 0.28384903364068104, 0.2874869366211157, 0.2911248396015504, 0.2950273173441985, 0.2976466074901115, 0.3004378712314632, 0.30345402352069634, 0.30759461854933656, 0.3107959731721191, 0.31426190255711506, 0.3171854536795735, 0.319421110420277, 0.3234558755440319, 0.3267895175479211, 0.3285621684547511, 0.33259693357850595, 0.3355601709152964, 0.3387350680618576, 0.34201579511330416, 0.3450584048787586, 0.3485904779543079, 0.35221515219663196, 0.3552577619620864, 0.35819454182265553, 0.36113132168322465, 0.36382998425780166, 0.3670577963568055, 0.3698490600981572, 0.3734340481261492, 0.3768602912968132, 0.38032622068180916, 0.38367309142380907, 0.38645112642705015, 0.38993028455015677, 0.3925231172198484, 0.3953805246517535, 0.3970473456536981, 0.39995766803804583, 0.4022330109930814, 0.4055269667826386, 0.4069821279748125, 0.4090325823819666, 0.41165187252787955, 0.4139272154829151, 0.4164009895096107, 0.42015795113304144, 0.42297567235061445, 0.4251054991864326, 0.42771156059423493, 0.4304763668593653, 0.4330824282671676, 0.43592660696096197, 0.436931991057373, 0.4394454512984006, 0.44195891153942823, 0.4447369465426693, 0.4468403159022661, 0.44818964718955456, 0.44944637731006837, 0.45132485812178375, 0.45394414826769675, 0.45608720384162554, 0.4577275673673488, 0.4597647930363923, 0.4622782532774199, 0.4631381212546135, 0.46569126770997316, 0.4673845461881391, 0.4697524903099493, 0.4714457687881153, 0.47384017038614684, 0.4754805339118702, 0.47774264812879497, 0.47963435767862106, 0.48132763615678703, 0.4827563398727395, 0.48517719894699246, 0.4871747384017039, 0.48983371476194887, 0.4918047967404389, 0.4938684798857037, 0.4954956146733163, 0.49814136229545064, 0.5000330718452767, 0.5020041538237667, 0.5048880187318932, 0.5065812972100592, 0.5086714378315452, 0.5111187543820195, 0.5137645020041538, 0.5159207863161933, 0.5181299855806755, 0.51959837551096, 0.5219398621565489, 0.523831571706375, 0.5258687973754184, 0.5278531080920191, 0.53003584988028, 0.5316100697154499, 0.5337795827656, 0.5360284682444142, 0.5384625560567777, 0.5404865529877105, 0.5425370073948647, 0.5442832008254732, 0.5463601127088487, 0.5482121360443427, 0.5499980156892834, 0.5514399481433466, 0.5529877105022952, 0.5549852499570066, 0.5571944492214888, 0.5587818977947694, 0.5615334753217891, 0.5634251848716151, 0.5652904369452197, 0.5676319235908087, 0.5691267709973146, 0.5705157884989351, 0.5726720728109745, 0.5750267881946741, 0.5771037000780496, 0.578214914079346, 0.580027251200508, 0.5821967642506581, 0.5840884738004841, 0.5852393740161126, 0.5880306377574643, 0.5905970129509346, 0.5929384995965234, 0.5951212413847843, 0.596867434815393, 0.5990898628179858, 0.6012461471300252, 0.6034421176563968, 0.6055454870159935, 0.6079531173521358, 0.6105724074980488, 0.6126360906433135, 0.6144219702882542, 0.6165385683859617, 0.6187213101742225, 0.6218697498445623, 0.6243435238712579, 0.6266188668262934, 0.6287090074477796, 0.6312489251650285, 0.633405209477068, 0.6357996110750995, 0.6390274231741034, 0.6420303467252259, 0.6438955987988306, 0.6465016602066329, 0.6490018917095498, 0.6503115367825063, 0.6521238739036683, 0.6548093077401347, 0.6569391345759528, 0.659188020054767, 0.661688251557684, 0.6640297382032728, 0.6666887145635177, 0.6692021748045454, 0.6711600280449248, 0.6725887317608773, 0.6752477081211223, 0.6773246200044978, 0.6804333734605056, 0.6830526636064186, 0.6859232997764343, 0.6893363142089876, 0.6918100882356832, 0.693953143809612, 0.6957125659783313, 0.6974719881470507, 0.6999854483880783, 0.7034646065111849, 0.7059251517997698, 0.7080417498974773, 0.7107271837339436, 0.7130554416414219, 0.7151720397391292, 0.7180691333853664, 0.7202121889592952, 0.7231489688198642, 0.7259137750849947, 0.7284933790165756, 0.7316550474250261, 0.7341420501898324, 0.7373037185982829, 0.7400949823396347, 0.7425819851044408, 0.7455849086555634, 0.7481248263728123, 0.7511409786620454, 0.7540116148320611, 0.7567235061447488, 0.7594221687193259, 0.7609699310782745, 0.7637082798671835, 0.7650708398925826, 0.7677298162528277, 0.7700580741603058, 0.7727699654729935, 0.7745426163798236, 0.7771883640019579, 0.7783392642175863, 0.7808791819348352, 0.7829825512944321, 0.7844244837484953, 0.7867527416559734, 0.7896101490878785, 0.7919251782572461, 0.7939227177119574, 0.7952852777373567, 0.7984469461458071, 0.8009339489106134, 0.8046247668434908, 0.8068604235841943, 0.8091093090630085, 0.8121254613522416, 0.8137261386636329, 0.8154194171417989, 0.8166496897860913, 0.818554628074028, 0.8204595663619647, 0.8227216805788896, 0.8256584604394587, 0.8281983781567076, 0.8304737211117431, 0.8331591549482095, 0.8346540023547154, 0.8374717235722884, 0.8398396676940987, 0.8419562657918062, 0.8445623271996084, 0.8465201804399878, 0.84872937970447, 0.8503168282777506, 0.8527641448282248, 0.8549601153545964, 0.8575132618099559, 0.8599076634079875, 0.8619978040294737, 0.8642863757226198, 0.8668395221779794, 0.8696969296098845, 0.8718532139219239, 0.8729908853994417, 0.8754249732118053, 0.8775151138332914, 0.8795523395023349, 0.8819070548860344, 0.8844337438651727, 0.8860608786527853, 0.888733083751141, 0.8904528197055283, 0.8920667257550302, 0.8950035056155994, 0.8979667429523898, 0.8993293029777889, 0.9010754964083976, 0.9036551003399785, 0.905771698437686, 0.9081264138213856, 0.9099784371568796, 0.912095035254587, 0.9141984046141839, 0.9160239704734565, 0.9187094043099229, 0.9198338470493299, 0.9217917002897094, 0.9238024684825314, 0.92515179976982, 0.9276388025346263, 0.9294246821795669, 0.9314619078486103, 0.9338033944941992, 0.9358141626870213, 0.9382747079756062, 0.9406029658830845, 0.9423094730993611, 0.9445054436257325, 0.9464500681280013, 0.9477993994152898, 0.9498101676081119, 0.9511462701572897, 0.952866006111677, 0.954479912161179, 0.9560276745201275, 0.9576151230934081, 0.9592554866191314, 0.9612530260738428, 0.9629463045520088, 0.9640839760295266, 0.9654994510073684, 0.9666900374373288, 0.9681981135819454, 0.9694680724405699, 0.9711216647044039, 0.9719021602529335, 0.9731985765877793, 0.9744156204939611, 0.9760162978053524, 0.9765322185916685, 0.977762491235961, 0.9787678753323721, 0.9796938870001191, 0.9806463561440875, 0.9818766287883799, 0.9825512944320242, 0.9834508486235498, 0.9842842591245221, 0.9852102707922691, 0.9860833675075734, 0.9867183469368856, 0.9872871826756445, 0.9880147632717315, 0.9886629714391544, 0.9892714933922453, 0.9900652176788856, 0.9908192557511939, 0.9916658949902769, 0.9923141031576997, 0.9930416837537868, 0.9935311470638816, 0.9941528977550832, 0.9944703874697393, 0.9948937070892807, 0.9952508830182689, 0.9955948302091463, 0.99625626711468, 0.9969441614964348, 0.9972881086873123, 0.9975262259733044, 0.9979098593785138, 0.9981744341407273, 0.9984257801648301, 0.9986242112364901, 0.9987697273557076, 0.9990607595941423, 0.999193046975249, 0.999351791832577, 0.9994973079517945, 0.9996163665947905, 0.9996560528091225, 0.9997089677615653, 0.9997751114521186, 0.9998544838807826, 0.9998677126188933, 0.9999206275713359, 0.999960313785668, 0.9999867712618893, 0.9999867712618893, 1.0])}"
     ]
    },
    {
     "name": "stdout",
     "output_type": "stream",
     "text": [
      "\n"
     ]
    }
   ],
   "source": [
    "# XRT\n",
    "\n",
    "mod,mod_id=get_model_by_algo(\"XRT\",best_models)\n",
    "if mod is not None:\n",
    "    try:     \n",
    "         sh_df=mod.scoring_history()\n",
    "         sh_df.to_csv(run_id+'_xrt_scoring_history.csv')\n",
    "    except:\n",
    "         pass     \n",
    "    try:        \n",
    "         stats_xrt={}\n",
    "         stats_xrt=xrt_stats(mod)\n",
    "         n=run_id+'_xrt_stats.json'\n",
    "         dict_to_json(stats_xrt,n)\n",
    "         print(stats_xrt)\n",
    "    except:\n",
    "         pass     "
   ]
  },
  {
   "cell_type": "code",
   "execution_count": 69,
   "metadata": {},
   "outputs": [
    {
     "name": "stdout",
     "output_type": "stream",
     "text": [
      "{'algo': 'glm', 'model_id': 'GLM_grid_0_AutoML_20181003_003247_model_0', 'coef': {'Intercept': -1.643191526405633, 'addr_state.AK': 0.031111965796962005, 'addr_state.AL': -0.013296057771368757, 'addr_state.AR': 0.13150827846679108, 'addr_state.AZ': 0.06252148904002464, 'addr_state.CA': 0.1517902825591284, 'addr_state.CO': 0.03668192794759818, 'addr_state.CT': -0.10173028414432689, 'addr_state.DC': 0.1291408602740501, 'addr_state.DE': 0.13527748755041608, 'addr_state.FL': 0.03948988937950739, 'addr_state.GA': 0.13294014640982532, 'addr_state.HI': 0.020993943093315547, 'addr_state.IA': -0.21073258759220903, 'addr_state.ID': -0.20360371996444435, 'addr_state.IL': -0.04386217401577293, 'addr_state.IN': 0.05001305521098949, 'addr_state.KS': 0.06762418787443246, 'addr_state.KY': 0.03342361221740867, 'addr_state.LA': 0.007074231672246331, 'addr_state.MA': -0.04170193279874198, 'addr_state.MD': 0.056561327567320865, 'addr_state.ME': -0.09490831917704058, 'addr_state.MI': -0.03782350685439326, 'addr_state.MN': -0.10049060593988673, 'addr_state.MO': -0.09260095169139373, 'addr_state.MS': -0.05756490612823781, 'addr_state.MT': 0.09345061843941009, 'addr_state.NC': 0.013500820839838324, 'addr_state.NE': -0.2618881806924381, 'addr_state.NH': -0.04341033420246094, 'addr_state.NJ': 0.024327826662637483, 'addr_state.NM': 0.1553089548005981, 'addr_state.NV': 0.1450759692359208, 'addr_state.NY': 0.023985582627048162, 'addr_state.OH': -0.07538203333198226, 'addr_state.OK': -0.010110256646120187, 'addr_state.OR': -0.08237459543856436, 'addr_state.PA': -0.07921041673893471, 'addr_state.RI': -0.08698877130194556, 'addr_state.SC': -0.05955024252094844, 'addr_state.SD': -0.1406715069541161, 'addr_state.TN': 0.08181276247346951, 'addr_state.TX': 0.0018011003303336857, 'addr_state.UT': -0.028089973479144367, 'addr_state.VA': 0.04115954711418933, 'addr_state.VT': -0.10385336084792542, 'addr_state.WA': 0.06528020744243786, 'addr_state.WI': -0.24348945558846372, 'addr_state.WV': -0.1099163888620759, 'addr_state.WY': 0.04925490146178093, 'purpose.car': -0.10565312740728197, 'purpose.credit_card': -0.15815597346399116, 'purpose.debt_consolidation': -0.10269559036207349, 'purpose.educational': -0.7874803244579668, 'purpose.home_improvement': 0.006861588770377743, 'purpose.house': 0.1833374010350908, 'purpose.major_purchase': 0.014007705710945832, 'purpose.medical': -0.04924208962176142, 'purpose.moving': 0.20420876766746873, 'purpose.other': -0.13430677620092746, 'purpose.renewable_energy': 0.25117356724527296, 'purpose.small_business': 0.5298852670226017, 'purpose.vacation': 0.10829701510497984, 'purpose.wedding': -0.028302602850447865, 'home_ownership.ANY': 0.0634331704336403, 'home_ownership.MORTGAGE': 0.07178403037971456, 'home_ownership.NONE': -0.2510828495861033, 'home_ownership.OTHER': -0.405867129239247, 'home_ownership.OWN': 0.05632776120023219, 'home_ownership.RENT': 0.021729233713384873, 'term.36 months': -0.5829889933321583, 'term.60 months': 0.5948873384878457, 'loan_amnt': 9.011176667966683e-05, 'int_rate': 0.07050050556905423, 'emp_length': -0.0013426936568856286, 'annual_inc': 2.443624633732205e-06, 'dti': 0.026474445834530392, 'delinq_2yrs': -0.00546629927779754, 'revol_util': -0.00323069655638037, 'total_acc': -0.0013638975941173337, 'bad_loan': -0.012581372919805005, 'longest_credit_length': 0.019191368128563768}, 'coef_norm': {'Intercept': 1.1629818068383793, 'addr_state.AK': 0.031111965796962005, 'addr_state.AL': -0.013296057771368757, 'addr_state.AR': 0.13150827846679108, 'addr_state.AZ': 0.06252148904002464, 'addr_state.CA': 0.1517902825591284, 'addr_state.CO': 0.03668192794759818, 'addr_state.CT': -0.10173028414432689, 'addr_state.DC': 0.1291408602740501, 'addr_state.DE': 0.13527748755041608, 'addr_state.FL': 0.03948988937950739, 'addr_state.GA': 0.13294014640982532, 'addr_state.HI': 0.020993943093315547, 'addr_state.IA': -0.21073258759220903, 'addr_state.ID': -0.20360371996444435, 'addr_state.IL': -0.04386217401577293, 'addr_state.IN': 0.05001305521098949, 'addr_state.KS': 0.06762418787443246, 'addr_state.KY': 0.03342361221740867, 'addr_state.LA': 0.007074231672246331, 'addr_state.MA': -0.04170193279874198, 'addr_state.MD': 0.056561327567320865, 'addr_state.ME': -0.09490831917704058, 'addr_state.MI': -0.03782350685439326, 'addr_state.MN': -0.10049060593988673, 'addr_state.MO': -0.09260095169139373, 'addr_state.MS': -0.05756490612823781, 'addr_state.MT': 0.09345061843941009, 'addr_state.NC': 0.013500820839838324, 'addr_state.NE': -0.2618881806924381, 'addr_state.NH': -0.04341033420246094, 'addr_state.NJ': 0.024327826662637483, 'addr_state.NM': 0.1553089548005981, 'addr_state.NV': 0.1450759692359208, 'addr_state.NY': 0.023985582627048162, 'addr_state.OH': -0.07538203333198226, 'addr_state.OK': -0.010110256646120187, 'addr_state.OR': -0.08237459543856436, 'addr_state.PA': -0.07921041673893471, 'addr_state.RI': -0.08698877130194556, 'addr_state.SC': -0.05955024252094844, 'addr_state.SD': -0.1406715069541161, 'addr_state.TN': 0.08181276247346951, 'addr_state.TX': 0.0018011003303336857, 'addr_state.UT': -0.028089973479144367, 'addr_state.VA': 0.04115954711418933, 'addr_state.VT': -0.10385336084792542, 'addr_state.WA': 0.06528020744243786, 'addr_state.WI': -0.24348945558846372, 'addr_state.WV': -0.1099163888620759, 'addr_state.WY': 0.04925490146178093, 'purpose.car': -0.10565312740728197, 'purpose.credit_card': -0.15815597346399116, 'purpose.debt_consolidation': -0.10269559036207349, 'purpose.educational': -0.7874803244579668, 'purpose.home_improvement': 0.006861588770377743, 'purpose.house': 0.1833374010350908, 'purpose.major_purchase': 0.014007705710945832, 'purpose.medical': -0.04924208962176142, 'purpose.moving': 0.20420876766746873, 'purpose.other': -0.13430677620092746, 'purpose.renewable_energy': 0.25117356724527296, 'purpose.small_business': 0.5298852670226017, 'purpose.vacation': 0.10829701510497984, 'purpose.wedding': -0.028302602850447865, 'home_ownership.ANY': 0.0634331704336403, 'home_ownership.MORTGAGE': 0.07178403037971456, 'home_ownership.NONE': -0.2510828495861033, 'home_ownership.OTHER': -0.405867129239247, 'home_ownership.OWN': 0.05632776120023219, 'home_ownership.RENT': 0.021729233713384873, 'term.36 months': -0.5829889933321583, 'term.60 months': 0.5948873384878457, 'loan_amnt': 0.7205123795487798, 'int_rate': 0.3098125138704035, 'emp_length': -0.004754335114315592, 'annual_inc': 0.14656013888704492, 'dti': 0.2008573789462785, 'delinq_2yrs': -0.0038545173562062876, 'revol_util': -0.08154721244476619, 'total_acc': -0.015938912789095188, 'bad_loan': -0.00486910182656035, 'longest_credit_length': 0.13335832268506362}}\n"
     ]
    }
   ],
   "source": [
    "# GLM\n",
    "\n",
    "mod,mod_id=get_model_by_algo(\"GLM\",best_models)\n",
    "if mod is not None:\n",
    "    try:     \n",
    "         stats_glm={}\n",
    "         stats_glm=glm_stats(mod)\n",
    "         n=run_id+'_glm_stats.json'\n",
    "         dict_to_json(stats_glm,n)\n",
    "         print(stats_glm)\n",
    "    except:\n",
    "         pass     "
   ]
  },
  {
   "cell_type": "code",
   "execution_count": 70,
   "metadata": {},
   "outputs": [
    {
     "name": "stdout",
     "output_type": "stream",
     "text": [
      "stackedensemble prediction progress: |████████████████████████████████████| 100%\n"
     ]
    }
   ],
   "source": [
    "predictions_df=predictions_test(mod_best,test,run_id)"
   ]
  },
  {
   "cell_type": "code",
   "execution_count": 71,
   "metadata": {},
   "outputs": [
    {
     "data": {
      "text/html": [
       "<table>\n",
       "<thead>\n",
       "<tr><th>predict     </th><th style=\"text-align: right;\">  not verified</th><th style=\"text-align: right;\">  verified</th></tr>\n",
       "</thead>\n",
       "<tbody>\n",
       "<tr><td>verified    </td><td style=\"text-align: right;\">      0.437667</td><td style=\"text-align: right;\">  0.562333</td></tr>\n",
       "<tr><td>not verified</td><td style=\"text-align: right;\">      0.7105  </td><td style=\"text-align: right;\">  0.2895  </td></tr>\n",
       "<tr><td>not verified</td><td style=\"text-align: right;\">      0.70557 </td><td style=\"text-align: right;\">  0.29443 </td></tr>\n",
       "<tr><td>verified    </td><td style=\"text-align: right;\">      0.553836</td><td style=\"text-align: right;\">  0.446164</td></tr>\n",
       "<tr><td>verified    </td><td style=\"text-align: right;\">      0.62137 </td><td style=\"text-align: right;\">  0.37863 </td></tr>\n",
       "<tr><td>verified    </td><td style=\"text-align: right;\">      0.383057</td><td style=\"text-align: right;\">  0.616943</td></tr>\n",
       "<tr><td>verified    </td><td style=\"text-align: right;\">      0.407588</td><td style=\"text-align: right;\">  0.592412</td></tr>\n",
       "<tr><td>verified    </td><td style=\"text-align: right;\">      0.368503</td><td style=\"text-align: right;\">  0.631497</td></tr>\n",
       "<tr><td>verified    </td><td style=\"text-align: right;\">      0.535562</td><td style=\"text-align: right;\">  0.464438</td></tr>\n",
       "<tr><td>verified    </td><td style=\"text-align: right;\">      0.594965</td><td style=\"text-align: right;\">  0.405035</td></tr>\n",
       "</tbody>\n",
       "</table>"
      ]
     },
     "metadata": {},
     "output_type": "display_data"
    },
    {
     "data": {
      "text/plain": []
     },
     "execution_count": 71,
     "metadata": {},
     "output_type": "execute_result"
    }
   ],
   "source": [
    "predictions_df.head()"
   ]
  },
  {
   "cell_type": "code",
   "execution_count": 72,
   "metadata": {},
   "outputs": [
    {
     "name": "stdout",
     "output_type": "stream",
     "text": [
      "Rows:16354\n",
      "Cols:3\n",
      "\n",
      "\n"
     ]
    },
    {
     "data": {
      "text/html": [
       "<table>\n",
       "<thead>\n",
       "<tr><th>       </th><th>predict     </th><th>not verified       </th><th>verified           </th></tr>\n",
       "</thead>\n",
       "<tbody>\n",
       "<tr><td>type   </td><td>enum        </td><td>real               </td><td>real               </td></tr>\n",
       "<tr><td>mins   </td><td>            </td><td>0.05296612913498899</td><td>0.07791647516368842</td></tr>\n",
       "<tr><td>mean   </td><td>            </td><td>0.360804076078991  </td><td>0.6391959239210091 </td></tr>\n",
       "<tr><td>maxs   </td><td>            </td><td>0.9220835248363116 </td><td>0.947033870865011  </td></tr>\n",
       "<tr><td>sigma  </td><td>            </td><td>0.23287204602157835</td><td>0.2328720460215783 </td></tr>\n",
       "<tr><td>zeros  </td><td>            </td><td>0                  </td><td>0                  </td></tr>\n",
       "<tr><td>missing</td><td>0           </td><td>0                  </td><td>0                  </td></tr>\n",
       "<tr><td>0      </td><td>verified    </td><td>0.43766718748348854</td><td>0.5623328125165115 </td></tr>\n",
       "<tr><td>1      </td><td>not verified</td><td>0.7105002344288622 </td><td>0.2894997655711378 </td></tr>\n",
       "<tr><td>2      </td><td>not verified</td><td>0.705569730301578  </td><td>0.29443026969842195</td></tr>\n",
       "<tr><td>3      </td><td>verified    </td><td>0.5538355708789979 </td><td>0.44616442912100207</td></tr>\n",
       "<tr><td>4      </td><td>verified    </td><td>0.6213696764640588 </td><td>0.37863032353594117</td></tr>\n",
       "<tr><td>5      </td><td>verified    </td><td>0.38305733918376794</td><td>0.6169426608162321 </td></tr>\n",
       "<tr><td>6      </td><td>verified    </td><td>0.40758794502748363</td><td>0.5924120549725164 </td></tr>\n",
       "<tr><td>7      </td><td>verified    </td><td>0.36850301971805455</td><td>0.6314969802819455 </td></tr>\n",
       "<tr><td>8      </td><td>verified    </td><td>0.5355623359090134 </td><td>0.4644376640909866 </td></tr>\n",
       "<tr><td>9      </td><td>verified    </td><td>0.5949654696229765 </td><td>0.4050345303770235 </td></tr>\n",
       "</tbody>\n",
       "</table>"
      ]
     },
     "metadata": {},
     "output_type": "display_data"
    }
   ],
   "source": [
    "predictions_df.describe()"
   ]
  },
  {
   "cell_type": "code",
   "execution_count": 73,
   "metadata": {
    "collapsed": true
   },
   "outputs": [],
   "source": [
    "# Update and save meta data\n",
    "\n",
    "meta_data['end_time'] = time.time()\n",
    "meta_data['execution_time'] = meta_data['end_time'] - meta_data['start_time']\n",
    "  \n",
    "n=run_id+'_meta_data.json'\n",
    "dict_to_json(meta_data,n)    \n"
   ]
  },
  {
   "cell_type": "code",
   "execution_count": 74,
   "metadata": {
    "scrolled": true
   },
   "outputs": [
    {
     "data": {
      "text/plain": [
       "{'X': ['loan_amnt',\n",
       "  'emp_length',\n",
       "  'delinq_2yrs',\n",
       "  'total_acc',\n",
       "  'bad_loan',\n",
       "  'longest_credit_length',\n",
       "  'term',\n",
       "  'home_ownership',\n",
       "  'purpose',\n",
       "  'addr_state',\n",
       "  'int_rate',\n",
       "  'annual_inc',\n",
       "  'dti',\n",
       "  'revol_util'],\n",
       " 'analysis': 0,\n",
       " 'balance': False,\n",
       " 'balance_threshold': 0.2,\n",
       " 'classification': False,\n",
       " 'end_time': 1538541557.772541,\n",
       " 'execution_time': 394.14366126060486,\n",
       " 'max_models': 9,\n",
       " 'min_mem_size': 6,\n",
       " 'mod_best': 'StackedEnsemble_BestOfFamily_0_AutoML_20181003_003247',\n",
       " 'mod_best_algo': 'stackedensemble',\n",
       " 'model_execution_time': 385.7865219116211,\n",
       " 'models': ['GBM_grid_0_AutoML_20181003_003247_model_1',\n",
       "  'XRT_0_AutoML_20181003_003247',\n",
       "  'DRF_0_AutoML_20181003_003247',\n",
       "  'DeepLearning_0_AutoML_20181003_003247',\n",
       "  'GLM_grid_0_AutoML_20181003_003247_model_0',\n",
       "  'StackedEnsemble_BestOfFamily_0_AutoML_20181003_003247'],\n",
       " 'nthreads': 1,\n",
       " 'project': None,\n",
       " 'run_id': 'hunAq3K6I',\n",
       " 'run_time': 333,\n",
       " 'scale': False,\n",
       " 'start_time': 1538541163.6288798,\n",
       " 'target': None,\n",
       " 'variables': {'addr_state': 'enum',\n",
       "  'annual_inc': 'real',\n",
       "  'bad_loan': 'int',\n",
       "  'delinq_2yrs': 'int',\n",
       "  'dti': 'real',\n",
       "  'emp_length': 'int',\n",
       "  'home_ownership': 'enum',\n",
       "  'int_rate': 'real',\n",
       "  'loan_amnt': 'int',\n",
       "  'longest_credit_length': 'int',\n",
       "  'purpose': 'enum',\n",
       "  'revol_util': 'real',\n",
       "  'term': 'enum',\n",
       "  'total_acc': 'int',\n",
       "  'verification_status': 'enum'}}"
      ]
     },
     "execution_count": 74,
     "metadata": {},
     "output_type": "execute_result"
    }
   ],
   "source": [
    "meta_data"
   ]
  },
  {
   "cell_type": "code",
   "execution_count": 75,
   "metadata": {
    "collapsed": true
   },
   "outputs": [],
   "source": [
    "# Clean up\n",
    "os.chdir(server_path)"
   ]
  },
  {
   "cell_type": "code",
   "execution_count": 76,
   "metadata": {
    "scrolled": true
   },
   "outputs": [
    {
     "name": "stdout",
     "output_type": "stream",
     "text": [
      "H2O session _sid_a408 closed.\n"
     ]
    }
   ],
   "source": [
    "h2o.cluster().shutdown()"
   ]
  },
  {
   "cell_type": "markdown",
   "metadata": {},
   "source": [
    "**When availble for your models you will need to make the following plots: **"
   ]
  },
  {
   "cell_type": "markdown",
   "metadata": {},
   "source": [
    "## Variable Importance Plots\n",
    "\n",
    "The Variable Importance Plot graphs the VIP values for each X variable. \n",
    "\n",
    "https://www.researchgate.net/figure/Random-forest-variable-importance-plot-Variables-are-ranked-in-terms-of-importance-on_fig2_295097543\n",
    "\n"
   ]
  },
  {
   "cell_type": "markdown",
   "metadata": {},
   "source": [
    "## Partial Dependence Plots\n",
    "\n",
    "For models that include only numerical values, you can view a Partial Dependence Plot (PDP) for that model. This provides a graphical representation of the marginal effect of a variable on the class probability (classification) or response (regression).\n",
    "\n",
    "https://www.kaggle.com/dansbecker/partial-dependence-plots\n",
    "\n"
   ]
  },
  {
   "cell_type": "markdown",
   "metadata": {},
   "source": [
    "## Gains/Lift Charts\n",
    "\n",
    "[Score: Gains/Lift Table](http://h2o-release.s3.amazonaws.com/h2o/master/1648/docs-website/userguide/scoregainslift.html)  \n",
    "\n",
    "The Gains/Lift Table page uses predicted data to evaluate model performance. The accuracy of the classification model for a random sample is evaluated according to the results when the model is and is not used.\n",
    "\n",
    "The Gains/Lift Table is particularly useful for direct marketing applications, for example. The gains/lift chart shows the effectiveness of the current model(s) compared to a baseline, allowing users to quickly identify the most useful model.\n",
    "\n",
    "To create a Gains/Lift table, H2O applies the model to each entry in the original dataset to find the response probability (Pi^), then orders the entries according to their predicted response probabilities. Finally, H2O divides the dataset into equal groups and calculates the average response rate for each group.\n",
    "\n",
    "H2O uses the response rate of the top ten groups to evaluate the model performance; the highest response and greatest variation rates indicate the best model.\n",
    "\n",
    "The lift is calculated from the gains. H2O uses the following formula to calculate the lift: λk=rkr⎯⎯⎯\n",
    "\n",
    "where λk is the lift for k, rk is the response rate for k, and r⎯⎯⎯ is the average response rate for k. In other words, λk defines how much more likely k customers are to respond in comparison to the average response rate.\n",
    "\n",
    "Requirements:\n",
    "\n",
    "The vactual column must contain actual binary class labels.\n",
    "The vpredict column must contain probabilities.\n",
    "\n",
    "Evaluating Classifiers: Gains and Lift Charts https://youtu.be/1dYOcDaDJLY \n",
    "\n",
    "Understanding And Interpreting Gain And Lift Charts\n",
    "\n",
    "   https://www.datasciencecentral.com/profiles/blogs/understanding-and-interpreting-gain-and-lift-charts\n",
    "   \n",
    "   "
   ]
  },
  {
   "cell_type": "markdown",
   "metadata": {},
   "source": [
    "**Binomial Classification Metrics**\n",
    "\n",
    "When you train a binomial model, there are some additional metrics we get, the most commonly used of which is AUC, which normally ranges from 0.5 to 1.0, higher being better. AUC stands for Area Under Curve. \n",
    "\n",
    "See\n",
    "\n",
    "* ROC Curves and Area Under the Curve (AUC) Explained https://youtu.be/OAl6eAyP-yo   \n",
    "\n",
    "\n",
    "* ROC Curves https://youtu.be/21Igj5Pr6u4  \n",
    "\n"
   ]
  },
  {
   "cell_type": "markdown",
   "metadata": {},
   "source": [
    "## Confusion Matrix\n",
    "\n",
    "A confusion matrix, also known as an error matrix, is a specific table layout that allows visualization of the performance of an algorithm, typically a supervised learning one (in unsupervised learning it is usually called a matching matrix). Each row of the matrix represents the instances in a predicted class while each column represents the instances in an actual class.\n",
    "\n",
    "https://en.wikipedia.org/wiki/Confusion_matrix\n"
   ]
  },
  {
   "cell_type": "markdown",
   "metadata": {},
   "source": [
    "## Max F1 and Max F2\n",
    "\n",
    "By default H2O AI uses max F1 for binary classification in the confusion matrix.  For \n",
    "\n",
    "See https://en.wikipedia.org/wiki/F1_score\n",
    "    \n",
    "For binary classification also generate the max F2 confusion matrix.  \n",
    "\n"
   ]
  }
 ],
 "metadata": {
  "kernelspec": {
   "display_name": "Python 3",
   "language": "python",
   "name": "python3"
  },
  "language_info": {
   "codemirror_mode": {
    "name": "ipython",
    "version": 3
   },
   "file_extension": ".py",
   "mimetype": "text/x-python",
   "name": "python",
   "nbconvert_exporter": "python",
   "pygments_lexer": "ipython3",
   "version": "3.6.5"
  }
 },
 "nbformat": 4,
 "nbformat_minor": 2
}
