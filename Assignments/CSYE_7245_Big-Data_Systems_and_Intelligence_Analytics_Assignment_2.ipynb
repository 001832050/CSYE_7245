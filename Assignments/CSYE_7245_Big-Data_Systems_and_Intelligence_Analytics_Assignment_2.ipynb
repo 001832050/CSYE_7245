{
 "cells": [
  {
   "cell_type": "markdown",
   "metadata": {},
   "source": [
    "# CSYE 7245 - Big-Data Systems and Intelligence Analytics "
   ]
  },
  {
   "attachments": {},
   "cell_type": "markdown",
   "metadata": {
    "collapsed": true
   },
   "source": [
    "## Assignment 2 - Big Data with H2O\n",
    "\n",
    "**Due Monday, October 15 2018**\n",
    "\n",
    "_Submission: Put the data and Jupyter notebook files in a folder. Make sure all links to data are relative to the folder so the TAs can run the notebooks._\n",
    "\n",
    "## Individual Assignments\n",
    "\n",
    "These are individual assignments.  They cannot be done in groups.\n",
    "\n",
    "## Big Data with H2O\n",
    "\n",
    "Continue with your data from assignment 1 or use your project data. You will perform regression, binary clasification and multiclass clasification. If your data is not appropriate for regression, binary clasification or multiclass clasification you must find one or more Kaggle datasets for  regression, binary clasification or multiclass clasification.  \n",
    "\n",
    "You MUST use H2O AI with python in jupyter notebooks.\n",
    "\n",
    "No two students can analyze the same data so you MUST use piazza to ask the TA's for approval for any new data sets used.\n",
    "\n",
    "## Part A - Analyze Data with H2O (40 points)\n",
    "\n",
    "Perform  regression, binary clasification and multiclass clasification with the AutoML and three of the following algorithms.\n",
    "\n",
    "* Cox Proportional Hazards (CoxPH)   \n",
    "* Deep Learning (Neural Networks)  \n",
    "* Distributed Random Forest (DRF)  \n",
    "* Generalized Linear Model (GLM)   \n",
    "* Gradient Boosting Machine (GBM)    \n",
    "* Naïve Bayes Classifier   \n",
    "* XGBoost   \n",
    "\n",
    "Note:  At most two of the three algorithms can be tree based methods.  \n",
    "\n",
    "Split off 10% of each data set for predictions but use cross-validation to generate stats for your models.  \n",
    "\n",
    "## Part B - Interpret the Results (40 points)\n",
    "\n",
    "For each of your models generate ALL of the statistics and graphs that the model produces. Note that different models and different analysis (regression, binary clasification or multiclass clasification) generate different statistics.  \n",
    "\n",
    "## Part C - Prediction (10 points)\n",
    "\n",
    "Use the models in Part A to make predictions.  Write an analysis showing how well your models did. Don't just show a table of stats but explain what the stats mean.  \n",
    "\n",
    "## Part D - Professionalism (10 points)\n",
    "\n",
    "•\tStyle guide  \n",
    "•\tConsistent Naming Scheme  \n",
    "•\tCommenting & Documentation  \n",
    "•\tConsistent Indentation  \n",
    "•\tDRY Principle/Cookie Cutter (DRY stands for Don't Repeat Yourself)  \n",
    "•\tFile and Folder Organization   \n",
    "•\tSeparation of Code and Data   \n",
    "•\tUse Efficient Data Structures and Algorithms  \n",
    "•\tKeep Your Code Portable  \n"
   ]
  },
  {
   "cell_type": "markdown",
   "metadata": {
    "collapsed": true
   },
   "source": [
    "## List of datasets for machine learning research\n",
    "\n",
    "* [List of datasets for machine learning research](https://en.wikipedia.org/wiki/List_of_datasets_for_machine_learning_research)   \n",
    "* [UC Irvine Machine Learning Repository](https://archive.ics.uci.edu/ml/)  \n",
    "* [Public Data Sets : Amazon Web Services](https://aws.amazon.com/datasets/) \n",
    "* [freebase](https://developers.google.com/freebase/)  \n",
    "* [Google Public Data Explorer](https://www.google.com/publicdata/directory)  \n",
    "* [datahub](http://datahub.io/)  \n",
    "* [data.gov](https://www.data.gov/) "
   ]
  },
  {
   "cell_type": "markdown",
   "metadata": {},
   "source": [
    "Last update Sept 5, 2018"
   ]
  }
 ],
 "metadata": {
  "kernelspec": {
   "display_name": "Python 3",
   "language": "python",
   "name": "python3"
  },
  "language_info": {
   "codemirror_mode": {
    "name": "ipython",
    "version": 3
   },
   "file_extension": ".py",
   "mimetype": "text/x-python",
   "name": "python",
   "nbconvert_exporter": "python",
   "pygments_lexer": "ipython3",
   "version": "3.6.5"
  }
 },
 "nbformat": 4,
 "nbformat_minor": 2
}
