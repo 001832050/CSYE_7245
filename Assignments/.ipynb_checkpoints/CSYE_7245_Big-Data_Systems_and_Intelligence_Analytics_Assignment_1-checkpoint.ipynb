{
 "cells": [
  {
   "cell_type": "markdown",
   "metadata": {},
   "source": [
    "# CSYE 7245 - Big-Data Systems and Intelligence Analytics "
   ]
  },
  {
   "cell_type": "markdown",
   "metadata": {
    "collapsed": true
   },
   "source": [
    "## Assignment 1 - Machine Learning (INFO 7390) Review\n",
    "\n",
    "**Due Monday, September 17 2018**\n",
    "\n",
    "_Submission: Put the data and Jupyter notebook files in a folder. Make sure all links to data are relative to the folder so the TAs can run the notebooks._\n",
    "\n",
    "## Individual Assignments\n",
    "\n",
    "These are individual assignments.  They cannot be done in groups.\n",
    "\n",
    "## Machine Learning Review\n",
    "\n",
    "Find a public dataset or machine learning competition and use machine learning techniques to analyze the data. This should be REVIEW of what what learned in INFO 7390 - Advances in Data Sciences and Architecture. You cannot use a INFO 7390 project for this assignment.  \n",
    "\n",
    "No two students can analyze the same data so you MUST e-mail the TA's for approval.\n",
    "\n",
    "## Part A - Get Some Data (25 points)\n",
    "\n",
    "* Data cleaning\n",
    "    * Are there missing values? (10 %) \n",
    "    * Are there inappropraite values? (10 %) \n",
    "    * Remove or impute any bad data. (10 %) \n",
    "\n",
    "* Answer the following questions for the data in each column:\n",
    "    * How is the data distributed? (10 %) \n",
    "    * What are the summary statistics? (10 %) \n",
    "    * Are there anomalies/outliers? (10 %) \n",
    "\n",
    "* Plot each colmun as appropriate for the data type:\n",
    "    * Write a summary of what the plot tells you. (10 %) \n",
    "    \n",
    "* Are any of the columns correlated? (10 %) \n",
    "\n",
    "* Write a clear summary of what the EDA tells you (20 %) \n",
    "\n",
    "## Part B - Analyze Some Data (60 points)\n",
    "\n",
    "What is expected?\n",
    "\n",
    "A clear description of the dependent and why the analysis used was chosen.  (10 %)  \n",
    "\n",
    "At least two algorithms used for the analysis. (10 %) \n",
    "\n",
    "At least two metrics to evaluate the algorithms.  (10 %) \n",
    "\n",
    "A grid search on at least two hyperparametrs for each algorithm.  (40 %) \n",
    "\n",
    "A clear description of the independent and why the each used was chosen, and any transformations needed.  (30 %) \n",
    "\n",
    "\n",
    "## Part C - Write a Report (15 points)\n",
    "\n",
    "Tables and or graphs summarizing each analysis done.  (70 %) \n",
    "\n",
    "A clear conclusion.  (30 %) \n",
    "\n"
   ]
  },
  {
   "cell_type": "markdown",
   "metadata": {
    "collapsed": true
   },
   "source": [
    "## List of datasets for machine learning research\n",
    "\n",
    "* [List of datasets for machine learning research](https://en.wikipedia.org/wiki/List_of_datasets_for_machine_learning_research)   \n",
    "* [UC Irvine Machine Learning Repository](https://archive.ics.uci.edu/ml/)  \n",
    "* [Public Data Sets : Amazon Web Services](https://aws.amazon.com/datasets/) \n",
    "* [freebase](https://developers.google.com/freebase/)  \n",
    "* [Google Public Data Explorer](https://www.google.com/publicdata/directory)  \n",
    "* [datahub](http://datahub.io/)  \n",
    "* [data.gov](https://www.data.gov/) "
   ]
  },
  {
   "cell_type": "markdown",
   "metadata": {},
   "source": [
    "Last update Sept 5, 2018"
   ]
  }
 ],
 "metadata": {
  "kernelspec": {
   "display_name": "Python 3",
   "language": "python",
   "name": "python3"
  },
  "language_info": {
   "codemirror_mode": {
    "name": "ipython",
    "version": 3
   },
   "file_extension": ".py",
   "mimetype": "text/x-python",
   "name": "python",
   "nbconvert_exporter": "python",
   "pygments_lexer": "ipython3",
   "version": "3.6.5"
  }
 },
 "nbformat": 4,
 "nbformat_minor": 2
}
