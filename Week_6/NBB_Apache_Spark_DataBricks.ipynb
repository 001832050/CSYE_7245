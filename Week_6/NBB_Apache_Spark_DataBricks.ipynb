{
 "cells": [
  {
   "cell_type": "markdown",
   "metadata": {},
   "source": [
    "# Apache Spark DataBricks"
   ]
  },
  {
   "cell_type": "markdown",
   "metadata": {},
   "source": [
    "## DataBricks\n",
    "\n",
    "Databricks Community Edition: Apache Spark for All\n",
    "\n",
    "[https://databricks.com/try-databricks](https://databricks.com/try-databricks)\n",
    "\n",
    "Map AWS services to Google Cloud Platform products\n",
    "\n",
    "[https://cloud.google.com/free/docs/map-aws-google-cloud-platform](https://cloud.google.com/free/docs/map-aws-google-cloud-platform)\n"
   ]
  },
  {
   "cell_type": "markdown",
   "metadata": {},
   "source": [
    "## What is Apache Spark? \n",
    "\n",
    "![What is Apache Spark? ](https://github.com/nikbearbrown/CSYE_7245/blob/master/Week_6/Spark-core-stack-DB.jpg?raw=true)\n",
    "\n",
    "* Spark SQL is Apache Spark's module for working with structured data.  \n",
    "* Spark Streaming makes it easy to build scalable fault-tolerant streaming applications.  \n",
    "* MLlib is Apache Spark's scalable machine learning library.   \n",
    "* GraphX is Apache Spark's API for graphs and graph-parallel computation.      \n",
    "\n",
    "What is Apache Spark? [https://youtu.be/SxAxAhn-BDU ](https://youtu.be/SxAxAhn-BDU)  \n",
    "    \n",
    "Apache Spark [http://spark.apache.org/](http://spark.apache.org/) "
   ]
  },
  {
   "cell_type": "markdown",
   "metadata": {},
   "source": [
    "## Getting Started\n",
    "\n",
    "Apache Spark Getting Started\n",
    "[https://docs.databricks.com/getting-started/spark/index.html](https://docs.databricks.com/getting-started/spark/index.html)  \n",
    "\n",
    "Quickstart Notebook\n",
    "[https://community.cloud.databricks.com/?o=6626766803308467](https://community.cloud.databricks.com/?o=6626766803308467)  \n"
   ]
  },
  {
   "cell_type": "markdown",
   "metadata": {},
   "source": [
    "## Spark SQL \n",
    "\n",
    "Transforming Complex Data Types in Spark SQL\n",
    "[https://docs.databricks.com/_static/notebooks/transform-complex-data-types-python.html](https://docs.databricks.com/_static/notebooks/transform-complex-data-types-python.html)  \n",
    "\n",
    "Introduction to higher-order functions\n",
    "[https://docs.databricks.com/_static/notebooks/higher-order-functions.html](https://docs.databricks.com/_static/notebooks/higher-order-functions.html)  \n",
    "\n"
   ]
  },
  {
   "cell_type": "markdown",
   "metadata": {},
   "source": [
    "## DataFrames and Datasets  \n",
    "\n",
    "Introduction to DataFrames - Python\n",
    "[https://docs.databricks.com/spark/latest/dataframes-datasets/introduction-to-dataframes-python.html](https://docs.databricks.com/spark/latest/dataframes-datasets/introduction-to-dataframes-python.html)  \n",
    "\n",
    "Read CSV files notebook\n",
    "[https://docs.databricks.com/_static/notebooks/read-csv-files.html](https://docs.databricks.com/_static/notebooks/read-csv-files.html)  \n",
    "\n",
    "Conversion between Spark and Pandas DataFrames\n",
    "[https://docs.databricks.com/spark/latest/spark-sql/spark-pandas.html](https://docs.databricks.com/spark/latest/spark-sql/spark-pandas.html)  \n",
    "\n",
    "Register a function as a UDF\n",
    "https://docs.databricks.com/spark/latest/spark-sql/udf-python.html\n",
    "\n",
    "Pandas UDF\n",
    "[https://docs.databricks.com/spark/latest/spark-sql/udf-python-pandas.html](https://docs.databricks.com/spark/latest/spark-sql/udf-python-pandas.html)  "
   ]
  },
  {
   "cell_type": "markdown",
   "metadata": {},
   "source": [
    "## Structured Streaming Guide\n",
    "\n",
    "Structured Streaming Demo in Python\n",
    "[https://docs.databricks.com/spark/latest/structured-streaming/demo-notebooks.html#structured-streaming-python](https://docs.databricks.com/spark/latest/structured-streaming/demo-notebooks.html#structured-streaming-python)   \n",
    "\n",
    "Stream-Stream Joins in Python\n",
    "[https://docs.databricks.com/_static/notebooks/stream-stream-joins-python.html](https://docs.databricks.com/_static/notebooks/stream-stream-joins-python.html)   \n"
   ]
  },
  {
   "cell_type": "markdown",
   "metadata": {},
   "source": [
    "## Machine Learning in Spark\n",
    "\n",
    "MLlib Programming Guide [http://spark.apache.org/docs/latest/ml-guide.html](http://spark.apache.org/docs/latest/ml-guide.html)  \n",
    "\n",
    "\n",
    "Python API Reference [http://spark.apache.org/docs/latest/api/python/pyspark.ml.html](http://spark.apache.org/docs/latest/api/python/pyspark.ml.html) \n",
    "\n",
    "Binary Classification Example\n",
    "[https://docs.databricks.com/spark/latest/mllib/binary-classification-mllib-pipelines.html](https://docs.databricks.com/spark/latest/mllib/binary-classification-mllib-pipelines.html)  \n",
    "\n",
    "\n",
    "Decision Trees Examples\n",
    "[https://docs.databricks.com/spark/latest/mllib/decision-trees.html](https://docs.databricks.com/spark/latest/mllib/decision-trees.html)   "
   ]
  },
  {
   "cell_type": "markdown",
   "metadata": {},
   "source": [
    "## Deep Learning in Spark\n",
    "\n",
    "Deep Learning Guide\n",
    "https://docs.databricks.com/applications/deep-learning/index.html\n"
   ]
  },
  {
   "cell_type": "markdown",
   "metadata": {},
   "source": [
    "## Apache Spark 2.0 Review  \n",
    "\n",
    "![Apache Spark 2.0 Review](https://github.com/nikbearbrown/CSYE_7245/blob/master/Week_6/Apache_Spark_2.png?raw=true)\n",
    "\n",
    "\n",
    "Apache Spark 2.0 [https://youtu.be/ssPBlqiRJGY](https://youtu.be/ssPBlqiRJGY)"
   ]
  }
 ],
 "metadata": {
  "kernelspec": {
   "display_name": "Python 3",
   "language": "python",
   "name": "python3"
  },
  "language_info": {
   "codemirror_mode": {
    "name": "ipython",
    "version": 3
   },
   "file_extension": ".py",
   "mimetype": "text/x-python",
   "name": "python",
   "nbconvert_exporter": "python",
   "pygments_lexer": "ipython3",
   "version": "3.6.5"
  }
 },
 "nbformat": 4,
 "nbformat_minor": 2
}
